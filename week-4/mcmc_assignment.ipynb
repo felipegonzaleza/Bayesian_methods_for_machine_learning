{
  "nbformat": 4,
  "nbformat_minor": 0,
  "metadata": {
    "colab": {
      "name": "mcmc_assignment.ipynb",
      "version": "0.3.2",
      "provenance": [],
      "collapsed_sections": []
    },
    "language_info": {
      "codemirror_mode": {
        "name": "ipython",
        "version": 3
      },
      "file_extension": ".py",
      "mimetype": "text/x-python",
      "name": "python",
      "nbconvert_exporter": "python",
      "pygments_lexer": "ipython3",
      "version": "3.6.7"
    },
    "kernelspec": {
      "display_name": "Python 3",
      "language": "python",
      "name": "python3"
    }
  },
  "cells": [
    {
      "cell_type": "markdown",
      "metadata": {
        "id": "ydHEjlQp4K1y",
        "colab_type": "text"
      },
      "source": [
        "# First things first\n",
        "Click **File -> Save a copy in Drive** and click **Open in new tab** in the pop-up window to save your progress in Google Drive."
      ]
    },
    {
      "cell_type": "markdown",
      "metadata": {
        "id": "saO6eM1C4K11",
        "colab_type": "text"
      },
      "source": [
        "# Using PyMC3"
      ]
    },
    {
      "cell_type": "markdown",
      "metadata": {
        "id": "YGQOs7yT4K12",
        "colab_type": "text"
      },
      "source": [
        "In this assignment, we will learn how to use a library for probabilistic programming and inference called <a href=\"http://docs.pymc.io/\">PyMC3</a>."
      ]
    },
    {
      "cell_type": "markdown",
      "metadata": {
        "id": "NeurRYjX4K13",
        "colab_type": "text"
      },
      "source": [
        "### Setup\n",
        "Loading auxiliary files and importing the necessary libraries."
      ]
    },
    {
      "cell_type": "code",
      "metadata": {
        "id": "65258lA84K2L",
        "colab_type": "code",
        "outputId": "3e4483fa-2e94-46a7-df77-0f7eafba147a",
        "colab": {
          "base_uri": "https://localhost:8080/",
          "height": 235
        }
      },
      "source": [
        "try:\n",
        "    import google.colab\n",
        "    IN_COLAB = True\n",
        "except:\n",
        "    IN_COLAB = False\n",
        "if IN_COLAB:\n",
        "    print(\"Downloading Colab files\")\n",
        "    ! shred -u setup_google_colab.py\n",
        "    ! wget https://raw.githubusercontent.com/hse-aml/bayesian-methods-for-ml/master/setup_google_colab.py -O setup_google_colab.py\n",
        "    import setup_google_colab\n",
        "    setup_google_colab.load_data_week4()"
      ],
      "execution_count": 1,
      "outputs": [
        {
          "output_type": "stream",
          "text": [
            "Downloading Colab files\n",
            "--2019-06-13 16:16:59--  https://raw.githubusercontent.com/hse-aml/bayesian-methods-for-ml/master/setup_google_colab.py\n",
            "Resolving raw.githubusercontent.com (raw.githubusercontent.com)... 151.101.0.133, 151.101.64.133, 151.101.128.133, ...\n",
            "Connecting to raw.githubusercontent.com (raw.githubusercontent.com)|151.101.0.133|:443... connected.\n",
            "HTTP request sent, awaiting response... 200 OK\n",
            "Length: 1308 (1.3K) [text/plain]\n",
            "Saving to: ‘setup_google_colab.py’\n",
            "\n",
            "setup_google_colab. 100%[===================>]   1.28K  --.-KB/s    in 0s      \n",
            "\n",
            "2019-06-13 16:17:00 (201 MB/s) - ‘setup_google_colab.py’ saved [1308/1308]\n",
            "\n"
          ],
          "name": "stdout"
        }
      ]
    },
    {
      "cell_type": "code",
      "metadata": {
        "id": "EV1UakCr4K2S",
        "colab_type": "code",
        "outputId": "60b5d70b-a265-4122-c41f-f28488a77fa4",
        "colab": {
          "base_uri": "https://localhost:8080/",
          "height": 35
        }
      },
      "source": [
        "import numpy as np\n",
        "import pandas as pd\n",
        "import numpy.random as rnd\n",
        "import seaborn as sns\n",
        "from matplotlib import animation\n",
        "import pymc3 as pm\n",
        "from w4_grader import MCMCGrader\n",
        "%pylab inline"
      ],
      "execution_count": 2,
      "outputs": [
        {
          "output_type": "stream",
          "text": [
            "Populating the interactive namespace from numpy and matplotlib\n"
          ],
          "name": "stdout"
        }
      ]
    },
    {
      "cell_type": "markdown",
      "metadata": {
        "id": "MiZZi3BZ4K2X",
        "colab_type": "text"
      },
      "source": [
        "### Grading\n",
        "We will create a grader instance below and use it to collect your answers. Note that these outputs will be stored locally inside grader and will be uploaded to the platform only after running submitting function in the last part of this assignment. If you want to make a partial submission, you can run that cell anytime you want."
      ]
    },
    {
      "cell_type": "code",
      "metadata": {
        "id": "9J7zPjZC4K2Y",
        "colab_type": "code",
        "colab": {}
      },
      "source": [
        "grader = MCMCGrader()"
      ],
      "execution_count": 0,
      "outputs": []
    },
    {
      "cell_type": "markdown",
      "metadata": {
        "id": "ukr2UH8B4K2a",
        "colab_type": "text"
      },
      "source": [
        "## Task 1. Alice and Bob\n",
        "\n",
        "Alice and Bob are trading on the market. Both of them are selling the Thing and want to get as high profit as possible.\n",
        "Every hour they check out with each other's prices and adjust their prices to compete on the market. Although they have different strategies for price setting.\n",
        "\n",
        "**Alice**: takes Bob's price during the **previous** hour, multiply by 0.6, add \\\\$90, add Gaussian noise from $N(0, 20^2)$.\n",
        "\n",
        "**Bob**: takes Alice's price during the **current** hour, multiply by 1.2 and subtract \\\\$20, add Gaussian noise from $N(0, 10^2)$.\n",
        "\n",
        "The problem is to find the joint distribution of Alice and Bob's prices after many hours of such an experiment."
      ]
    },
    {
      "cell_type": "markdown",
      "metadata": {
        "id": "tfRInMda4K2b",
        "colab_type": "text"
      },
      "source": [
        "### Task 1.1\n",
        "\n",
        "Implement the `run_simulation` function according to the description above. "
      ]
    },
    {
      "cell_type": "code",
      "metadata": {
        "id": "h_orxHH74K2c",
        "colab_type": "code",
        "colab": {}
      },
      "source": [
        "def run_simulation(alice_start_price=300.0, bob_start_price=300.0, seed=42, num_hours=10000, burnin=1000):\n",
        "    \"\"\"Simulates an evolution of prices set by Bob and Alice.\n",
        "    \n",
        "    The function should simulate Alice and Bob behavior for `burnin' hours, then ignore the obtained\n",
        "    simulation results, and then simulate it for `num_hours' more.\n",
        "    The initial burnin (also sometimes called warmup) is done to make sure that the distribution stabilized.\n",
        "    \n",
        "    Please don't change the signature of the function.\n",
        "    \n",
        "    Returns:\n",
        "        two lists, with Alice and with Bob prices. Both lists should be of length num_hours.\n",
        "    \"\"\"\n",
        "    np.random.seed(seed)\n",
        "\n",
        "    alice_prices = [alice_start_price]\n",
        "    bob_prices = [bob_start_price]\n",
        "    \n",
        "    #### YOUR CODE HERE ####\n",
        "    for _ in range(num_hours):\n",
        "      alice_price_tmp = bob_prices[-1]*0.6 + 90 + rnd.normal(0,20)\n",
        "      alice_prices.append(alice_price_tmp)\n",
        "      \n",
        "      bob_price_value = alice_price_tmp*1.2 - 20 + rnd.normal(0,10)\n",
        "      bob_prices.append(bob_price_value)\n",
        "    \n",
        "    ### END OF YOUR CODE ###\n",
        "    \n",
        "    return alice_prices[burnin:], bob_prices[burnin:]"
      ],
      "execution_count": 0,
      "outputs": []
    },
    {
      "cell_type": "code",
      "metadata": {
        "id": "Tqge8R5t4K2i",
        "colab_type": "code",
        "outputId": "a7602d56-ed64-414e-acea-66eaea93e2ff",
        "colab": {
          "base_uri": "https://localhost:8080/",
          "height": 54
        }
      },
      "source": [
        "alice_prices, bob_prices = run_simulation(alice_start_price=300, bob_start_price=300, seed=42, num_hours=3, burnin=1)\n",
        "if len(alice_prices) != 3:\n",
        "    raise RuntimeError('Make sure that the function returns `num_hours` data points.')\n",
        "grader.submit_simulation_trajectory(alice_prices, bob_prices)"
      ],
      "execution_count": 5,
      "outputs": [
        {
          "output_type": "stream",
          "text": [
            "Current answer for task 1.1 (Alice trajectory) is: 279.93428306022463  291.67686875834846\n",
            "Current answer for task 1.1 (Bob trajectory) is: 314.5384966605577  345.2425410740984\n"
          ],
          "name": "stdout"
        }
      ]
    },
    {
      "cell_type": "markdown",
      "metadata": {
        "id": "_bwOTMaI4K2n",
        "colab_type": "text"
      },
      "source": [
        "### Task 1.2\n",
        "What is the average price for Alice and Bob after the burn-in period? Whose prices are higher?"
      ]
    },
    {
      "cell_type": "code",
      "metadata": {
        "id": "TntiBn6B4K2o",
        "colab_type": "code",
        "outputId": "93bc5f4b-1d45-41c2-a745-52bf3b25059d",
        "colab": {
          "base_uri": "https://localhost:8080/",
          "height": 54
        }
      },
      "source": [
        "#### YOUR CODE HERE ####\n",
        "alice_prices, bob_prices = run_simulation()\n",
        "average_alice_price = np.mean(alice_prices)\n",
        "average_bob_price = np.mean(bob_prices)\n",
        "### END OF YOUR CODE ###\n",
        "grader.submit_simulation_mean(average_alice_price, average_bob_price)"
      ],
      "execution_count": 6,
      "outputs": [
        {
          "output_type": "stream",
          "text": [
            "Current answer for task 1.2 (Alice mean) is: 278.62821295463834\n",
            "Current answer for task 1.2 (Bob mean) is: 314.37642287694996\n"
          ],
          "name": "stdout"
        }
      ]
    },
    {
      "cell_type": "markdown",
      "metadata": {
        "id": "i6TNUeob4K2r",
        "colab_type": "text"
      },
      "source": [
        "### Task 1.3\n",
        "\n",
        "Let's look at the 2-d histogram of prices, computed using kernel density estimation."
      ]
    },
    {
      "cell_type": "code",
      "metadata": {
        "id": "eI5UTyqJ4K2t",
        "colab_type": "code",
        "outputId": "5d022138-77f7-4b4a-8694-8e08b8c89e16",
        "colab": {
          "base_uri": "https://localhost:8080/",
          "height": 459
        }
      },
      "source": [
        "data = np.array(run_simulation())\n",
        "sns.jointplot(data[0, :], data[1, :], stat_func=None, kind='kde')"
      ],
      "execution_count": 7,
      "outputs": [
        {
          "output_type": "execute_result",
          "data": {
            "text/plain": [
              "<seaborn.axisgrid.JointGrid at 0x7ff204bfef98>"
            ]
          },
          "metadata": {
            "tags": []
          },
          "execution_count": 7
        },
        {
          "output_type": "display_data",
          "data": {
            "image/png": "[encoded data removed]",
            "text/plain": [
              "<Figure size 432x432 with 3 Axes>"
            ]
          },
          "metadata": {
            "tags": []
          }
        }
      ]
    },
    {
      "cell_type": "markdown",
      "metadata": {
        "id": "5HHlIm5N4K24",
        "colab_type": "text"
      },
      "source": [
        "Clearly, the prices of Bob and Alce are highly correlated. What is the Pearson correlation coefficient of Alice and Bob prices?"
      ]
    },
    {
      "cell_type": "code",
      "metadata": {
        "id": "fP_qUgwZ4K25",
        "colab_type": "code",
        "outputId": "e93497de-c3b5-4e8f-8889-46e405469db2",
        "colab": {
          "base_uri": "https://localhost:8080/",
          "height": 35
        }
      },
      "source": [
        "#### YOUR CODE HERE ####\n",
        "correlation = np.corrcoef(alice_prices, bob_prices)[0][1]\n",
        "### END OF YOUR CODE ###\n",
        "grader.submit_simulation_correlation(correlation)"
      ],
      "execution_count": 8,
      "outputs": [
        {
          "output_type": "stream",
          "text": [
            "Current answer for task 1.3 (Bob and Alice prices correlation) is: 0.9636340025161768\n"
          ],
          "name": "stdout"
        }
      ]
    },
    {
      "cell_type": "markdown",
      "metadata": {
        "id": "-s5Bs0w64K2-",
        "colab_type": "text"
      },
      "source": [
        "### Task 1.4"
      ]
    },
    {
      "cell_type": "markdown",
      "metadata": {
        "id": "2sHuAitw4K3B",
        "colab_type": "text"
      },
      "source": [
        "We observe an interesting effect here: seems like the bivariate distribution of Alice and Bob prices converges to a correlated bivariate Gaussian distribution.\n",
        "\n",
        "Let's check, whether the results change if we use different random seed and starting points."
      ]
    },
    {
      "cell_type": "code",
      "metadata": {
        "id": "Tsuc8DlX4K3E",
        "colab_type": "code",
        "outputId": "5c94525a-d448-44b7-bd42-43fa84bbb27e",
        "colab": {
          "base_uri": "https://localhost:8080/",
          "height": 35
        }
      },
      "source": [
        "# Pick different starting prices, e.g 10, 1000, 10000 for Bob and Alice. \n",
        "# Does the joint distribution of the two prices depend on these parameters?\n",
        "POSSIBLE_ANSWERS = {\n",
        "    0: 'Depends on random seed and starting prices', \n",
        "    1: 'Depends only on random seed',\n",
        "    2: 'Depends only on starting prices',\n",
        "    3: 'Does not depend on random seed and starting prices'\n",
        "}\n",
        "\n",
        "idx = 3 ### TYPE THE INDEX OF THE CORRECT ANSWER HERE ###\n",
        "answer = POSSIBLE_ANSWERS[idx]\n",
        "grader.submit_simulation_depends(answer)"
      ],
      "execution_count": 9,
      "outputs": [
        {
          "output_type": "stream",
          "text": [
            "Current answer for task 1.4 (depends on the random data or not) is: Does not depend on random seed and starting prices\n"
          ],
          "name": "stdout"
        }
      ]
    },
    {
      "cell_type": "markdown",
      "metadata": {
        "collapsed": true,
        "id": "KG1z-FHA4K3H",
        "colab_type": "text"
      },
      "source": [
        "## Task 2. Logistic regression with PyMC3\n",
        "\n",
        "Logistic regression is a powerful model that allows you to analyze how a set of features affects some binary target label. Posterior distribution over the weights gives us an estimation of the influence of each particular feature on the probability of the target being equal to one. But most importantly, posterior distribution gives us the interval estimates for each weight of the model. This is very important for data analysis when you want to not only provide a good model but also estimate the uncertainty of your conclusions.\n",
        "\n",
        "In this task, we will learn how to use PyMC3 library to perform approximate Bayesian inference for logistic regression.\n",
        "\n",
        "This part of the assignment is based on the logistic regression tutorial by Peadar Coyle and J. Benjamin Cook."
      ]
    },
    {
      "cell_type": "markdown",
      "metadata": {
        "id": "dmernCSB4K3J",
        "colab_type": "text"
      },
      "source": [
        "### Logistic regression.\n",
        "\n",
        "The problem here is to model how the probability that a person has salary $\\geq$ \\\\$50K is affected by his/her age, education, sex and other features.\n",
        "\n",
        "Let $y_i = 1$ if i-th person's salary is $\\geq$ \\\\$50K and $y_i = 0$ otherwise. Let $x_{ij}$ be $j$-th feature of $i$-th person.\n",
        "\n",
        "Logistic regression models this probabilty in the following way:\n",
        "\n",
        "$$p(y_i = 1 \\mid \\beta) = \\sigma (\\beta_1 x_{i1} + \\beta_2 x_{i2} + \\dots + \\beta_k x_{ik} ), $$\n",
        "\n",
        "where $\\sigma(t) = \\frac1{1 + e^{-t}}$"
      ]
    },
    {
      "cell_type": "markdown",
      "metadata": {
        "id": "o-ADnuLx4K3K",
        "colab_type": "text"
      },
      "source": [
        "#### Odds ratio.\n",
        "Let's try to answer the following question: does the gender of a person affects his or her salary? To do it we will use the concept of *odds*.\n",
        "\n",
        "If we have a binary random variable $y$ (which may indicate whether a person makes \\\\$50K) and if the probabilty of the positive outcome $p(y = 1)$ is for example 0.8, we will say that the *odds* are 4 to 1 (or just 4 for short), because succeding is 4 time more likely than failing $\\frac{p(y = 1)}{p(y = 0)} = \\frac{0.8}{0.2} = 4$.\n",
        "\n",
        "Now, let's return to the effect of gender on the salary. Let's compute the **ratio** between the odds of a male having salary $\\geq $ \\\\$50K and the odds of a female (with the same level of education, experience and everything else) having salary $\\geq$ \\\\$50K. The first feature of each person in the dataset is gender. Specifically, $x_{i1} = 0$ if the person is female and $x_{i1} = 1$ otherwise. Consider two people $i$ and $j$ having all but one features the same with the only difference in $x_{i1} \\neq x_{j1}$.\n",
        "\n",
        "If the logistic regression model above estimates the probabilities exactly, the odds for a male will be (check it!):\n",
        "$$\n",
        "\\frac{p(y_i = 1 \\mid x_{i1}=1, x_{i2}, \\ldots, x_{ik})}{p(y_i = 0 \\mid x_{i1}=1, x_{i2}, \\ldots, x_{ik})} = \\frac{\\sigma(\\beta_1 + \\beta_2 x_{i2} + \\ldots)}{1 - \\sigma(\\beta_1 + \\beta_2 x_{i2} + \\ldots)} = \\exp(\\beta_1 + \\beta_2 x_{i2} + \\ldots)\n",
        "$$\n",
        "\n",
        "Now the ratio of the male and female odds will be:\n",
        "$$\n",
        "\\frac{\\exp(\\beta_1 \\cdot 1 + \\beta_2 x_{i2} + \\ldots)}{\\exp(\\beta_1 \\cdot 0 + \\beta_2 x_{i2} + \\ldots)} = \\exp(\\beta_1)\n",
        "$$\n",
        "\n",
        "So given the correct logistic regression model, we can estimate odds ratio for some feature (gender in this example) by just looking at the corresponding coefficient. But of course, even if all the logistic regression assumptions are met we cannot estimate the coefficient exactly from real-world data, it's just too noisy. So it would be really nice to build an interval estimate, which would tell us something along the lines \"with probability 0.95 the odds ratio is greater than 0.8 and less than 1.2, so we cannot conclude that there is any gender discrimination in the salaries\" (or vice versa, that \"with probability 0.95 the odds ratio is greater than 1.5 and less than 1.9 and the discrimination takes place because a male has at least 1.5 higher probability to get >$50k than a female with the same level of education, age, etc.\"). In Bayesian statistics, this interval estimate is called *credible interval*.\n",
        "\n",
        "Unfortunately, it's impossible to compute this credible interval analytically. So let's use MCMC for that!\n",
        "\n",
        "#### Credible interval\n",
        "A credible interval for the value of $\\exp(\\beta_1)$ is an interval $[a, b]$ such that $p(a \\leq \\exp(\\beta_1) \\leq b \\mid X_{\\text{train}}, y_{\\text{train}})$ is $0.95$ (or some other predefined value). To compute the interval, we need access to the posterior distribution $p(\\exp(\\beta_1) \\mid X_{\\text{train}}, y_{\\text{train}})$.\n",
        "\n",
        "Lets for simplicity focus on the posterior on the parameters $p(\\beta_1 \\mid X_{\\text{train}}, y_{\\text{train}})$ since if we compute it, we can always find $[a, b]$ such that $p(\\log a \\leq \\beta_1 \\leq \\log b \\mid X_{\\text{train}}, y_{\\text{train}}) = p(a \\leq \\exp(\\beta_1) \\leq b \\mid X_{\\text{train}}, y_{\\text{train}}) = 0.95$\n"
      ]
    },
    {
      "cell_type": "markdown",
      "metadata": {
        "id": "aS2ekPdl4K3L",
        "colab_type": "text"
      },
      "source": [
        "### Task 2.1 MAP inference"
      ]
    },
    {
      "cell_type": "markdown",
      "metadata": {
        "id": "_NsFkHuy4K3M",
        "colab_type": "text"
      },
      "source": [
        "Let's read the dataset. This is a post-processed version of the [UCI Adult dataset](http://archive.ics.uci.edu/ml/datasets/Adult)."
      ]
    },
    {
      "cell_type": "code",
      "metadata": {
        "id": "iEEp3aWW4K3O",
        "colab_type": "code",
        "outputId": "632098a6-04cf-4225-9b5d-02e4184022be",
        "colab": {
          "base_uri": "https://localhost:8080/",
          "height": 198
        }
      },
      "source": [
        "data = pd.read_csv(\"adult_us_postprocessed.csv\")\n",
        "data.head()"
      ],
      "execution_count": 10,
      "outputs": [
        {
          "output_type": "execute_result",
          "data": {
            "text/html": [
              "<div>\n",
              "<style scoped>\n",
              "    .dataframe tbody tr th:only-of-type {\n",
              "        vertical-align: middle;\n",
              "    }\n",
              "\n",
              "    .dataframe tbody tr th {\n",
              "        vertical-align: top;\n",
              "    }\n",
              "\n",
              "    .dataframe thead th {\n",
              "        text-align: right;\n",
              "    }\n",
              "</style>\n",
              "<table border=\"1\" class=\"dataframe\">\n",
              "  <thead>\n",
              "    <tr style=\"text-align: right;\">\n",
              "      <th></th>\n",
              "      <th>sex</th>\n",
              "      <th>age</th>\n",
              "      <th>educ</th>\n",
              "      <th>hours</th>\n",
              "      <th>income_more_50K</th>\n",
              "    </tr>\n",
              "  </thead>\n",
              "  <tbody>\n",
              "    <tr>\n",
              "      <th>0</th>\n",
              "      <td>Male</td>\n",
              "      <td>39</td>\n",
              "      <td>13</td>\n",
              "      <td>40</td>\n",
              "      <td>0</td>\n",
              "    </tr>\n",
              "    <tr>\n",
              "      <th>1</th>\n",
              "      <td>Male</td>\n",
              "      <td>50</td>\n",
              "      <td>13</td>\n",
              "      <td>13</td>\n",
              "      <td>0</td>\n",
              "    </tr>\n",
              "    <tr>\n",
              "      <th>2</th>\n",
              "      <td>Male</td>\n",
              "      <td>38</td>\n",
              "      <td>9</td>\n",
              "      <td>40</td>\n",
              "      <td>0</td>\n",
              "    </tr>\n",
              "    <tr>\n",
              "      <th>3</th>\n",
              "      <td>Male</td>\n",
              "      <td>53</td>\n",
              "      <td>7</td>\n",
              "      <td>40</td>\n",
              "      <td>0</td>\n",
              "    </tr>\n",
              "    <tr>\n",
              "      <th>4</th>\n",
              "      <td>Female</td>\n",
              "      <td>28</td>\n",
              "      <td>13</td>\n",
              "      <td>40</td>\n",
              "      <td>0</td>\n",
              "    </tr>\n",
              "  </tbody>\n",
              "</table>\n",
              "</div>"
            ],
            "text/plain": [
              "       sex  age  educ  hours  income_more_50K\n",
              "0     Male   39    13     40                0\n",
              "1     Male   50    13     13                0\n",
              "2     Male   38     9     40                0\n",
              "3     Male   53     7     40                0\n",
              "4   Female   28    13     40                0"
            ]
          },
          "metadata": {
            "tags": []
          },
          "execution_count": 10
        }
      ]
    },
    {
      "cell_type": "markdown",
      "metadata": {
        "id": "jiWqKRBn4K3W",
        "colab_type": "text"
      },
      "source": [
        "Each row of the dataset is a person with his (her) features. The last column is the target variable $y$. One indicates that this person's annual salary is more than $50K.\n",
        "\n",
        "First of all let's set up a Bayesian logistic regression model (i.e. define priors on the parameters $\\alpha$ and $\\beta$ of the model) that predicts the value of \"income_more_50K\" based on person's age and education:\n",
        "\n",
        "$$\n",
        "p(y = 1 \\mid \\alpha, \\beta_1, \\beta_2) = \\sigma(\\alpha + \\beta_1 x_1 + \\beta_2 x_2) \\\\ \n",
        "\\alpha \\sim N(0, 100^2) \\\\\n",
        "\\beta_1 \\sim N(0, 100^2) \\\\\n",
        "\\beta_2 \\sim N(0, 100^2), \\\\\n",
        "$$\n",
        "\n",
        "where $x_1$ is a person's age, $x_2$ is his/her level of education, y indicates his/her level of income, $\\alpha$, $\\beta_1$ and $\\beta_2$ are paramters of the model."
      ]
    },
    {
      "cell_type": "code",
      "metadata": {
        "id": "TvmQ1VBE4K3Y",
        "colab_type": "code",
        "colab": {
          "base_uri": "https://localhost:8080/",
          "height": 110
        },
        "outputId": "8a95ef37-cdd5-4717-f4b0-6b8b7cfa26cc"
      },
      "source": [
        "with pm.Model() as manual_logistic_model:\n",
        "    # Declare pymc random variables for logistic regression coefficients with uninformative \n",
        "    # prior distributions N(0, 100^2) on each weight using pm.Normal. \n",
        "    # Don't forget to give each variable a unique name.\n",
        "    \n",
        "    #### YOUR CODE HERE ####\n",
        "    alpha = pm.Normal('alpha', mu=0, sd=100)\n",
        "    beta_1 = pm.Normal('beta_1', mu=0, sd=100)\n",
        "    beta_2 = pm.Normal('beta_2', mu=0, sd=100)\n",
        "    \n",
        "    ### END OF YOUR CODE ###\n",
        "    \n",
        "    # Thansform these random variables into vector of probabilities p(y_i=1) using logistic regression model specified \n",
        "    # above. PyMC random variables are theano shared variables and support simple mathematical operations.\n",
        "    # For example:\n",
        "    # z = pm.Normal('x', 0, 1) * np.array([1, 2, 3]) + pm.Normal('y', 0, 1) * np.array([4, 5, 6])`\n",
        "    # is a correct PyMC expression.\n",
        "    # Use pm.invlogit for the sigmoid function.\n",
        "    \n",
        "    #### YOUR CODE HERE ####\n",
        "    x_1 = np.array(data['age'])\n",
        "    x_2 = np.array(data['educ'])\n",
        "    z = pm.invlogit(alpha + beta_1*x_1 + beta_2*x_2) \n",
        "    ### END OF YOUR CODE ###\n",
        "    \n",
        "    # Declare PyMC Bernoulli random vector with probability of success equal to the corresponding value\n",
        "    # given by the sigmoid function.\n",
        "    # Supply target vector using \"observed\" argument in the constructor.\n",
        "\n",
        "    #### YOUR CODE HERE ####\n",
        "    likelihood = pm.Bernoulli('likelihood', p=z, observed=data['income_more_50K'])\n",
        "    ### END OF YOUR CODE ###\n",
        "    \n",
        "    # Use pm.find_MAP() to find the maximum a-posteriori estimate for the vector of logistic regression weights.\n",
        "    map_estimate = pm.find_MAP()\n",
        "    print(map_estimate)\n",
        "\n"
      ],
      "execution_count": 11,
      "outputs": [
        {
          "output_type": "stream",
          "text": [
            "/usr/local/lib/python3.6/dist-packages/pymc3/tuning/starting.py:61: UserWarning: find_MAP should not be used to initialize the NUTS sampler, simply call pymc3.sample() and it will automatically initialize NUTS in a better way.\n",
            "  warnings.warn('find_MAP should not be used to initialize the NUTS sampler, simply call pymc3.sample() and it will automatically initialize NUTS in a better way.')\n",
            "logp = -18,844, ||grad|| = 57,293: 100%|██████████| 30/30 [00:00<00:00, 106.90it/s]  \n"
          ],
          "name": "stderr"
        },
        {
          "output_type": "stream",
          "text": [
            "{'alpha': array(-6.74811904), 'beta_1': array(0.04348316), 'beta_2': array(0.36210803)}\n"
          ],
          "name": "stdout"
        }
      ]
    },
    {
      "cell_type": "markdown",
      "metadata": {
        "id": "GYGFHpNj4K3b",
        "colab_type": "text"
      },
      "source": [
        "Sumbit MAP estimations of corresponding coefficients:"
      ]
    },
    {
      "cell_type": "code",
      "metadata": {
        "id": "Clbi3wMg4K3d",
        "colab_type": "code",
        "colab": {
          "base_uri": "https://localhost:8080/",
          "height": 128
        },
        "outputId": "cca3788a-03a3-4c9c-ee11-934bf99ce368"
      },
      "source": [
        "with pm.Model() as logistic_model:\n",
        "    # There's a simpler interface for generalized linear models in pymc3. \n",
        "    # Try to train the same model using pm.glm.GLM.from_formula.\n",
        "    # Do not forget to specify that the target variable is binary (and hence follows Binomial distribution).\n",
        "    \n",
        "    #### YOUR CODE HERE ####\n",
        "    pm.glm.GLM.from_formula('income_more_50K ~ age + educ', data, family='binomial')\n",
        "    ### END OF YOUR CODE ###\n",
        "    map_estimate = pm.find_MAP()\n",
        "    print(map_estimate)"
      ],
      "execution_count": 12,
      "outputs": [
        {
          "output_type": "stream",
          "text": [
            "/usr/local/lib/python3.6/dist-packages/pymc3/tuning/starting.py:61: UserWarning: find_MAP should not be used to initialize the NUTS sampler, simply call pymc3.sample() and it will automatically initialize NUTS in a better way.\n",
            "  warnings.warn('find_MAP should not be used to initialize the NUTS sampler, simply call pymc3.sample() and it will automatically initialize NUTS in a better way.')\n",
            "WARNING (theano.tensor.blas): We did not find a dynamic library in the library_dir of the library we use for blas. If you use ATLAS, make sure to compile it with dynamics library.\n",
            "logp = -15,131, ||grad|| = 0.024014: 100%|██████████| 32/32 [00:00<00:00, 126.74it/s]  "
          ],
          "name": "stderr"
        },
        {
          "output_type": "stream",
          "text": [
            "{'Intercept': array(-6.7480998), 'age': array(0.04348259), 'educ': array(0.36210894)}\n"
          ],
          "name": "stdout"
        },
        {
          "output_type": "stream",
          "text": [
            "\n"
          ],
          "name": "stderr"
        }
      ]
    },
    {
      "cell_type": "code",
      "metadata": {
        "scrolled": true,
        "id": "MLulYSlL4K3m",
        "colab_type": "code",
        "colab": {
          "base_uri": "https://localhost:8080/",
          "height": 54
        },
        "outputId": "2df970b9-68f4-4466-a23e-28748e750e5d"
      },
      "source": [
        "beta_age_coefficient = 0.04348259        ### TYPE MAP ESTIMATE OF THE AGE COEFFICIENT HERE ###\n",
        "beta_education_coefficient = 0.36210894  ### TYPE MAP ESTIMATE OF THE EDUCATION COEFFICIENT HERE ###\n",
        "grader.submit_pymc_map_estimates(beta_age_coefficient, beta_education_coefficient)"
      ],
      "execution_count": 13,
      "outputs": [
        {
          "output_type": "stream",
          "text": [
            "Current answer for task 2.1 (MAP for age coef) is: 0.04348259\n",
            "Current answer for task 2.1 (MAP for aducation coef) is: 0.36210894\n"
          ],
          "name": "stdout"
        }
      ]
    },
    {
      "cell_type": "markdown",
      "metadata": {
        "id": "2_6GMEQ64K3r",
        "colab_type": "text"
      },
      "source": [
        "### Task 2.2 MCMC"
      ]
    },
    {
      "cell_type": "markdown",
      "metadata": {
        "id": "GQT59R2l4K3s",
        "colab_type": "text"
      },
      "source": [
        "To find credible regions let's perform MCMC inference."
      ]
    },
    {
      "cell_type": "code",
      "metadata": {
        "id": "nY0LO4Og4K3t",
        "colab_type": "code",
        "colab": {}
      },
      "source": [
        "# You will need the following function to visualize the sampling process.\n",
        "# You don't need to change it.\n",
        "def plot_traces(traces, burnin=200):\n",
        "    ''' \n",
        "    Convenience function:\n",
        "    Plot traces with overlaid means and values\n",
        "    '''\n",
        "    \n",
        "    ax = pm.traceplot(traces[burnin:], figsize=(12,len(traces.varnames)*1.5),\n",
        "        lines={k: v['mean'] for k, v in pm.summary(traces[burnin:]).iterrows()})\n",
        "\n",
        "    for i, mn in enumerate(pm.summary(traces[burnin:])['mean']):\n",
        "        ax[i,0].annotate('{:.2f}'.format(mn), xy=(mn,0), xycoords='data'\n",
        "                    ,xytext=(5,10), textcoords='offset points', rotation=90\n",
        "                    ,va='bottom', fontsize='large', color='#AA0022')"
      ],
      "execution_count": 0,
      "outputs": []
    },
    {
      "cell_type": "markdown",
      "metadata": {
        "id": "LEc4fBsl4K3z",
        "colab_type": "text"
      },
      "source": [
        "#### Metropolis-Hastings\n",
        "Let's use the Metropolis-Hastings algorithm for finding the samples from the posterior distribution.\n",
        "\n",
        "Once you wrote the code, explore the hyperparameters of Metropolis-Hastings such as the proposal distribution variance to speed up the convergence. You can use `plot_traces` function in the next cell to visually inspect the convergence.\n",
        "\n",
        "You may also use MAP-estimate to initialize the sampling scheme to speed things up. This will make the warmup (burn-in) period shorter since you will start from a probable point."
      ]
    },
    {
      "cell_type": "code",
      "metadata": {
        "id": "Z2NoaWg94K35",
        "colab_type": "code",
        "colab": {
          "base_uri": "https://localhost:8080/",
          "height": 254
        },
        "outputId": "3b988907-a286-481d-c249-374d744d4cd2"
      },
      "source": [
        "with pm.Model() as logistic_model:\n",
        "    # Since it is unlikely that the dependency between the age and salary is linear, we will include age squared\n",
        "    # into features so that we can model dependency that favors certain ages.\n",
        "    # Train Bayesian logistic regression model on the following features: sex, age, age^2, educ, hours\n",
        "    # Use pm.sample to run MCMC to train this model.\n",
        "    # To specify the particular sampler method (Metropolis-Hastings) to pm.sample,\n",
        "    # use `pm.Metropolis`.\n",
        "    # Train your model for 400 samples.\n",
        "    # Save the output of pm.sample to a variable: this is the trace of the sampling procedure and will be used\n",
        "    # to estimate the statistics of the posterior distribution.\n",
        "    \n",
        "    #### YOUR CODE HERE ####\n",
        "    data['age_2'] = data['age']**2\n",
        "    pm.glm.GLM.from_formula('income_more_50K ~ sex + age + educ + hours + age_2', data, family=pm.glm.families.Binomial())\n",
        "    trace = pm.sample(400, step=pm.Metropolis())\n",
        "    \n",
        "    ### END OF YOUR CODE ###"
      ],
      "execution_count": 31,
      "outputs": [
        {
          "output_type": "stream",
          "text": [
            "Only 400 samples in chain.\n",
            "Sequential sampling (2 chains in 1 job)\n",
            "CompoundStep\n",
            ">Metropolis: [age_2]\n",
            ">Metropolis: [hours]\n",
            ">Metropolis: [educ]\n",
            ">Metropolis: [age]\n",
            ">Metropolis: [sex[T. Male]]\n",
            ">Metropolis: [Intercept]\n",
            "100%|██████████| 900/900 [01:07<00:00, 13.03it/s]\n",
            "100%|██████████| 900/900 [01:07<00:00, 13.19it/s]\n",
            "The gelman-rubin statistic is larger than 1.4 for some parameters. The sampler did not converge.\n",
            "The estimated number of effective samples is smaller than 200 for some parameters.\n"
          ],
          "name": "stderr"
        }
      ]
    },
    {
      "cell_type": "code",
      "metadata": {
        "id": "7FoaK5kk4K3-",
        "colab_type": "code",
        "colab": {
          "base_uri": "https://localhost:8080/",
          "height": 674
        },
        "outputId": "3dbf3b38-b70f-40eb-a71f-12871f00ce5c"
      },
      "source": [
        "plot_traces(trace, burnin=200)"
      ],
      "execution_count": 32,
      "outputs": [
        {
          "output_type": "display_data",
          "data": {
            "image/png": "[encoded data removed]",
            "text/plain": [
              "<Figure size 864x648 with 12 Axes>"
            ]
          },
          "metadata": {
            "tags": []
          }
        }
      ]
    },
    {
      "cell_type": "markdown",
      "metadata": {
        "id": "BdBHJDu14K4I",
        "colab_type": "text"
      },
      "source": [
        "#### NUTS sampler\n",
        "Use pm.sample without specifying a particular sampling method (pymc3 will choose it automatically).\n",
        "The sampling algorithm that will be used in this case is NUTS, which is a form of Hamiltonian Monte Carlo, in which parameters are tuned automatically. This is an advanced method that we hadn't cover in the lectures, but it usually converges faster and gives less correlated samples compared to vanilla Metropolis-Hastings."
      ]
    },
    {
      "cell_type": "code",
      "metadata": {
        "id": "h6Me6ZmI4K4J",
        "colab_type": "code",
        "colab": {
          "base_uri": "https://localhost:8080/",
          "height": 126
        },
        "outputId": "5f6dff59-5987-4a50-e9c0-b1952ab5da89"
      },
      "source": [
        "with pm.Model() as logistic_model:\n",
        "    # Train Bayesian logistic regression model on the following features: sex, age, age_squared, educ, hours\n",
        "    # Use pm.sample to run MCMC to train this model.\n",
        "    # Train your model for 400 samples.\n",
        "    # Training can take a while, so relax and wait :)\n",
        "    \n",
        "    #### YOUR CODE HERE ####\n",
        "    pm.glm.GLM.from_formula('income_more_50K ~ sex + age + educ + hours + age_2', data, family='binomial')\n",
        "    trace = pm.sample(1000, step=pm.NUTS(), init='adapt_diag')\n",
        "    ### END OF YOUR CODE ###"
      ],
      "execution_count": 26,
      "outputs": [
        {
          "output_type": "stream",
          "text": [
            "Sequential sampling (2 chains in 1 job)\n",
            "NUTS: [age_2, hours, educ, age, sex[T. Male], Intercept]\n",
            "100%|██████████| 1500/1500 [32:36<00:00,  1.79s/it]\n",
            "100%|██████████| 1500/1500 [19:16<00:00,  1.01it/s]\n",
            "The acceptance probability does not match the target. It is 0.9892072376652539, but should be close to 0.8. Try to increase the number of tuning steps.\n",
            "The acceptance probability does not match the target. It is 0.9709755449999262, but should be close to 0.8. Try to increase the number of tuning steps.\n"
          ],
          "name": "stderr"
        }
      ]
    },
    {
      "cell_type": "code",
      "metadata": {
        "id": "MBetz9-H4K4L",
        "colab_type": "code",
        "colab": {
          "base_uri": "https://localhost:8080/",
          "height": 674
        },
        "outputId": "3cfe3ec6-8210-446a-efe7-e003df603534"
      },
      "source": [
        "plot_traces(trace)"
      ],
      "execution_count": 27,
      "outputs": [
        {
          "output_type": "display_data",
          "data": {
            "image/png": "[encoded data removed]",
            "text/plain": [
              "<Figure size 864x648 with 12 Axes>"
            ]
          },
          "metadata": {
            "tags": []
          }
        }
      ]
    },
    {
      "cell_type": "markdown",
      "metadata": {
        "id": "EQeDVIGK4K4P",
        "colab_type": "text"
      },
      "source": [
        "#### Estimating the odds ratio\n",
        "Now, let's build the posterior distribution on the odds ratio given the dataset (approximated by MCMC)."
      ]
    },
    {
      "cell_type": "code",
      "metadata": {
        "id": "ngLmcHHs4K4Q",
        "colab_type": "code",
        "colab": {
          "base_uri": "https://localhost:8080/",
          "height": 338
        },
        "outputId": "010e31c1-7df5-4cc7-a2a2-ce9eb98bab4e"
      },
      "source": [
        "# We don't need to use a large burn-in here, since we initialize sampling\n",
        "# from a good point (from our approximation of the most probable\n",
        "# point (MAP) to be more precise).\n",
        "burnin = 100\n",
        "b = trace['sex[T. Male]'][burnin:]\n",
        "plt.hist(np.exp(b), bins=20, normed=True)\n",
        "plt.xlabel(\"Odds Ratio\")\n",
        "plt.show()"
      ],
      "execution_count": 28,
      "outputs": [
        {
          "output_type": "stream",
          "text": [
            "/usr/local/lib/python3.6/dist-packages/matplotlib/axes/_axes.py:6521: MatplotlibDeprecationWarning: \n",
            "The 'normed' kwarg was deprecated in Matplotlib 2.1 and will be removed in 3.1. Use 'density' instead.\n",
            "  alternative=\"'density'\", removal=\"3.1\")\n"
          ],
          "name": "stderr"
        },
        {
          "output_type": "display_data",
          "data": {
            "image/png": "[encoded data removed]",
            "text/plain": [
              "<Figure size 432x288 with 1 Axes>"
            ]
          },
          "metadata": {
            "tags": []
          }
        }
      ]
    },
    {
      "cell_type": "markdown",
      "metadata": {
        "id": "27-D5yR44K4W",
        "colab_type": "text"
      },
      "source": [
        "\n",
        "Finally, we can find a credible interval  (recall that credible intervals are Bayesian and confidence intervals are frequentist) for this quantity. This may be the best part about Bayesian statistics: we get to interpret credibility intervals the way we've always wanted to interpret them. We are 95% confident that the odds ratio lies within our interval!"
      ]
    },
    {
      "cell_type": "code",
      "metadata": {
        "id": "15BpR2n74K4Y",
        "colab_type": "code",
        "colab": {
          "base_uri": "https://localhost:8080/",
          "height": 35
        },
        "outputId": "6bc60190-29ec-4794-e2f2-c34f64946423"
      },
      "source": [
        "lb, ub = np.percentile(b, 2.5), np.percentile(b, 97.5)\n",
        "print(\"P(%.3f < Odds Ratio < %.3f) = 0.95\" % (np.exp(lb), np.exp(ub)))"
      ],
      "execution_count": 29,
      "outputs": [
        {
          "output_type": "stream",
          "text": [
            "P(3.004 < Odds Ratio < 3.502) = 0.95\n"
          ],
          "name": "stdout"
        }
      ]
    },
    {
      "cell_type": "code",
      "metadata": {
        "id": "nGvMeqVm4K4c",
        "colab_type": "code",
        "colab": {
          "base_uri": "https://localhost:8080/",
          "height": 54
        },
        "outputId": "8d1df634-668b-4160-9c2e-128e57bf48e6"
      },
      "source": [
        "# Submit the obtained credible interval.\n",
        "grader.submit_pymc_odds_ratio_interval(np.exp(lb), np.exp(ub))"
      ],
      "execution_count": 30,
      "outputs": [
        {
          "output_type": "stream",
          "text": [
            "Current answer for task 2.2 (credible interval lower bound) is: 3.0038007092021384\n",
            "Current answer for task 2.2 (credible interval upper bound) is: 3.5023891033491155\n"
          ],
          "name": "stdout"
        }
      ]
    },
    {
      "cell_type": "markdown",
      "metadata": {
        "id": "520GOib24K4h",
        "colab_type": "text"
      },
      "source": [
        "### Task 2.3 interpreting the results"
      ]
    },
    {
      "cell_type": "code",
      "metadata": {
        "id": "-d-BoNwA4K4i",
        "colab_type": "code",
        "colab": {
          "base_uri": "https://localhost:8080/",
          "height": 35
        },
        "outputId": "69a7b5dc-c79b-44ff-ef08-af5990c33d59"
      },
      "source": [
        "# Does the gender affects salary in the provided dataset?\n",
        "# (Note that the data is from 1996 and maybe not representative\n",
        "# of the current situation in the world.)\n",
        "POSSIBLE_ANSWERS = {\n",
        "    0: 'No, there is certainly no discrimination',\n",
        "    1: 'We cannot say for sure',\n",
        "    2: 'Yes, we are 95% sure that a female is *less* likely to get >$50K than a male with the same age, level of education, etc.', \n",
        "    3: 'Yes, we are 95% sure that a female is *more* likely to get >$50K than a male with the same age, level of education, etc.', \n",
        "}\n",
        "\n",
        "idx = 2 ### TYPE THE INDEX OF THE CORRECT ANSWER HERE ###\n",
        "answer = POSSIBLE_ANSWERS[idx]\n",
        "grader.submit_is_there_discrimination(answer)"
      ],
      "execution_count": 23,
      "outputs": [
        {
          "output_type": "stream",
          "text": [
            "Current answer for task 2.3 (does the data suggest gender discrimination?) is: Yes, we are 95% sure that a female is *less* likely to get >$50K than a male with the same age, level of education, etc.\n"
          ],
          "name": "stdout"
        }
      ]
    },
    {
      "cell_type": "markdown",
      "metadata": {
        "id": "Uw2yZCVp4K4o",
        "colab_type": "text"
      },
      "source": [
        "# Authorization & Submission\n",
        "To submit assignment parts to Cousera platform, please, enter your e-mail and token into variables below. You can generate a token on this programming assignment's page. <b>Note:</b> The token expires 30 minutes after generation."
      ]
    },
    {
      "cell_type": "code",
      "metadata": {
        "id": "rIPKtnWy4K4p",
        "colab_type": "code",
        "colab": {
          "base_uri": "https://localhost:8080/",
          "height": 235
        },
        "outputId": "50df4a3a-686c-4bd2-9c8e-184c2f00f094"
      },
      "source": [
        "STUDENT_EMAIL = ''\n",
        "STUDENT_TOKEN = ''\n",
        "grader.status()"
      ],
      "execution_count": 24,
      "outputs": [
        {
          "output_type": "stream",
          "text": [
            "You want to submit these numbers:\n",
            "Task 1.1 (Alice trajectory): 279.93428306022463  291.67686875834846\n",
            "Task 1.1 (Bob trajectory): 314.5384966605577  345.2425410740984\n",
            "Task 1.2 (Alice mean): 278.62821295463834\n",
            "Task 1.2 (Bob mean): 314.37642287694996\n",
            "Task 1.3 (Bob and Alice prices correlation): 0.9636340025161768\n",
            "Task 1.4 (depends on the random data or not): Does not depend on random seed and starting prices\n",
            "Task 2.1 (MAP for age coef): 0.04348259\n",
            "Task 2.1 (MAP for aducation coef): 0.36210894\n",
            "Task 2.2 (credible interval lower bound): 3.0154653494001105\n",
            "Task 2.2 (credible interval upper bound): 3.49974537759611\n",
            "Task 2.3 (does the data suggest gender discrimination?): Yes, we are 95% sure that a female is *less* likely to get >$50K than a male with the same age, level of education, etc.\n"
          ],
          "name": "stdout"
        }
      ]
    },
    {
      "cell_type": "markdown",
      "metadata": {
        "id": "wFI1_q974K4u",
        "colab_type": "text"
      },
      "source": [
        "If you want to submit these answers, run cell below"
      ]
    },
    {
      "cell_type": "code",
      "metadata": {
        "id": "aCSWUbZn4K4v",
        "colab_type": "code",
        "colab": {
          "base_uri": "https://localhost:8080/",
          "height": 35
        },
        "outputId": "c0cc7ab6-0b3b-43e8-91c4-9c2d1589ff50"
      },
      "source": [
        "grader.submit(STUDENT_EMAIL, STUDENT_TOKEN)"
      ],
      "execution_count": 25,
      "outputs": [
        {
          "output_type": "stream",
          "text": [
            "Submitted to Coursera platform. See results on assignment page!\n"
          ],
          "name": "stdout"
        }
      ]
    },
    {
      "cell_type": "markdown",
      "metadata": {
        "id": "Wun3jVtf4K5A",
        "colab_type": "text"
      },
      "source": [
        "# (Optional) generating videos of sampling process\n",
        "In this part you will generate videos showing the sampling process."
      ]
    },
    {
      "cell_type": "markdown",
      "metadata": {
        "id": "wqjeMtgN4K5A",
        "colab_type": "text"
      },
      "source": [
        "### Setting things up\n",
        "You don't need to modify the code below, it sets up the plotting functions. The code is based on [MCMC visualization tutorial](https://twiecki.github.io/blog/2014/01/02/visualizing-mcmc/)."
      ]
    },
    {
      "cell_type": "code",
      "metadata": {
        "id": "J7NpiMBh4K5B",
        "colab_type": "code",
        "colab": {
          "base_uri": "https://localhost:8080/",
          "height": 393
        },
        "outputId": "6e7e18c5-87af-4669-f37e-91834ca23b82"
      },
      "source": [
        "from IPython.display import HTML\n",
        "\n",
        "# Number of MCMC iteration to animate.\n",
        "samples = 400\n",
        "\n",
        "figsize(6, 6)\n",
        "fig = plt.figure()\n",
        "s_width = (0.81, 1.29)\n",
        "a_width = (0.11, 0.39)\n",
        "samples_width = (0, samples)\n",
        "ax1 = fig.add_subplot(221, xlim=s_width, ylim=samples_width)\n",
        "ax2 = fig.add_subplot(224, xlim=samples_width, ylim=a_width)\n",
        "ax3 = fig.add_subplot(223, xlim=s_width, ylim=a_width,\n",
        "                      xlabel='male coef',\n",
        "                      ylabel='educ coef')\n",
        "fig.subplots_adjust(wspace=0.0, hspace=0.0)\n",
        "line1, = ax1.plot([], [], lw=1)\n",
        "line2, = ax2.plot([], [], lw=1)\n",
        "line3, = ax3.plot([], [], 'o', lw=2, alpha=.1)\n",
        "line4, = ax3.plot([], [], lw=1, alpha=.3)\n",
        "line5, = ax3.plot([], [], 'k', lw=1)\n",
        "line6, = ax3.plot([], [], 'k', lw=1)\n",
        "ax1.set_xticklabels([])\n",
        "ax2.set_yticklabels([])\n",
        "lines = [line1, line2, line3, line4, line5, line6]\n",
        "\n",
        "def init():\n",
        "    for line in lines:\n",
        "        line.set_data([], [])\n",
        "    return lines\n",
        "\n",
        "def animate(i):\n",
        "    with logistic_model:\n",
        "        if i == 0:\n",
        "            # Burnin\n",
        "            for j in range(samples): iter_sample.__next__() \n",
        "        trace = iter_sample.__next__()\n",
        "    line1.set_data(trace['sex[T. Male]'][::-1], range(len(trace['sex[T. Male]'])))\n",
        "    line2.set_data(range(len(trace['educ'])), trace['educ'][::-1])\n",
        "    line3.set_data(trace['sex[T. Male]'], trace['educ'])\n",
        "    line4.set_data(trace['sex[T. Male]'], trace['educ'])\n",
        "    male = trace['sex[T. Male]'][-1]\n",
        "    educ = trace['educ'][-1]\n",
        "    line5.set_data([male, male], [educ, a_width[1]])\n",
        "    line6.set_data([male, s_width[1]], [educ, educ])\n",
        "    return lines"
      ],
      "execution_count": 33,
      "outputs": [
        {
          "output_type": "display_data",
          "data": {
            "image/png": "[encoded data removed]",
            "text/plain": [
              "<Figure size 432x432 with 3 Axes>"
            ]
          },
          "metadata": {
            "tags": []
          }
        }
      ]
    },
    {
      "cell_type": "markdown",
      "metadata": {
        "id": "Z6q5gI144K5D",
        "colab_type": "text"
      },
      "source": [
        "## Animating Metropolis-Hastings"
      ]
    },
    {
      "cell_type": "code",
      "metadata": {
        "id": "Cto7l6RI4K5E",
        "colab_type": "code",
        "colab": {
          "base_uri": "https://localhost:8080/",
          "height": 453
        },
        "outputId": "801fa8ae-0752-4f21-a245-071f4b0eb5a9"
      },
      "source": [
        "with pm.Model() as logistic_model:\n",
        "    # Again define Bayesian logistic regression model on the following features: sex, age, age_squared, educ, hours\n",
        "    \n",
        "    #### YOUR CODE HERE ####\n",
        "    pm.glm.GLM.from_formula('income_more_50K ~ sex + age + educ + hours + age_2', data=data, family='binomial')\n",
        "    ### END OF YOUR CODE ###\n",
        "    step = pm.Metropolis()\n",
        "    iter_sample = pm.iter_sample(2 * samples, step, start=map_estimate)\n",
        "anim = animation.FuncAnimation(fig, animate, init_func=init,\n",
        "                               frames=samples, interval=5, blit=True)\n",
        "HTML(anim.to_html5_video())\n",
        "# Note that generating the video may take a while."
      ],
      "execution_count": 34,
      "outputs": [
        {
          "output_type": "execute_result",
          "data": {
            "text/html": [
              "<video width=\"432\" height=\"432\" controls autoplay loop>\n",
              "  <source type=\"video/mp4\" src=\"data:video/mp4;base64,AAAAHGZ0eXBNNFYgAAACAGlzb21pc28yYXZjMQAAAAhmcmVlAAExYm1kYXQAAAKuBgX//6rcRem9\n",
              "5tlIt5Ys2CDZI+7veDI2NCAtIGNvcmUgMTUyIHIyODU0IGU5YTU5MDMgLSBILjI2NC9NUEVHLTQg\n",
              "QVZDIGNvZGVjIC0gQ29weWxlZnQgMjAwMy0yMDE3IC0gaHR0cDovL3d3dy52aWRlb2xhbi5vcmcv\n",
              "eDI2NC5odG1sIC0gb3B0aW9uczogY2FiYWM9MSByZWY9MyBkZWJsb2NrPTE6MDowIGFuYWx5c2U9\n",
              "MHgzOjB4MTEzIG1lPWhleCBzdWJtZT03IHBzeT0xIHBzeV9yZD0xLjAwOjAuMDAgbWl4ZWRfcmVm\n",
              "PTEgbWVfcmFuZ2U9MTYgY2hyb21hX21lPTEgdHJlbGxpcz0xIDh4OGRjdD0xIGNxbT0wIGRlYWR6\n",
              "b25lPTIxLDExIGZhc3RfcHNraXA9MSBjaHJvbWFfcXBfb2Zmc2V0PS0yIHRocmVhZHM9MyBsb29r\n",
              "YWhlYWRfdGhyZWFkcz0xIHNsaWNlZF90aHJlYWRzPTAgbnI9MCBkZWNpbWF0ZT0xIGludGVybGFj\n",
              "ZWQ9MCBibHVyYXlfY29tcGF0PTAgY29uc3RyYWluZWRfaW50cmE9MCBiZnJhbWVzPTMgYl9weXJh\n",
              "bWlkPTIgYl9hZGFwdD0xIGJfYmlhcz0wIGRpcmVjdD0xIHdlaWdodGI9MSBvcGVuX2dvcD0wIHdl\n",
              "aWdodHA9MiBrZXlpbnQ9MjUwIGtleWludF9taW49MjUgc2NlbmVjdXQ9NDAgaW50cmFfcmVmcmVz\n",
              "aD0wIHJjX2xvb2thaGVhZD00MCByYz1jcmYgbWJ0cmVlPTEgY3JmPTIzLjAgcWNvbXA9MC42MCBx\n",
              "cG1pbj0wIHFwbWF4PTY5IHFwc3RlcD00IGlwX3JhdGlvPTEuNDAgYXE9MToxLjAwAIAAABUpZYiE\n",
              "ACf//vWxfApqyfOKDOgyLuGXJMmutiLibQDAAAADAAVQSrRfODf9+M4AAOqABHJ7tgmX+ICXLFNL\n",
              "ZRbCoC6Cxe8v9J3KQZXNNRRszq2YtiXV/ECKzVH+dW2bgxpeo6vQsqhZwdfyFyYkKvwj0iu7WbCX\n",
              "TBe5e5+YM2/Olso6FCCzi081djniwpKD6pVgGJrET1BRRREcTN6CjP46OEEBoVMzcopNFB6wSDLi\n",
              "XczYQ+QzwNCpHGPAYllJ2BZI5lYxWZYPNOryfGR/yum+8OvnWDS9X3gsv6wRrAjMOiBiR1754t3v\n",
              "OXeXZku7pcOn8WefYkknGN16sbZPbXu2N5fdLTP7ujKWw1fLoGIUzwMMiQR35x1Lskzi7UDT38wJ\n",
              "lz84tG6dcLAfiK1OcKgcXjn3CvtkHDxd+mbgcYmv5Kav8HoB6TBd1c0dJ4OW9ZwVpnuR5KJy1809\n",
              "bDV1+8Ftmm+1f68AwOQiED7CuaXj4CdHBNxjJouumN6Rr72dBOZb3oQdmOjQ8xWI25PwojVe0C7H\n",
              "aW/dpYW/QmqDpT/F31voZsrWlIOLX2VmiC/5GU+zMwv3U6n5DEBkYVPJRxHS752tAkY+3oJPw9lI\n",
              "w7UwAAP3pI/RMyuu8nqHH/LQH0u0NHiFItdlszE8irJgTGGkj8Adt9qKVG/fKInw4L7WRbHhewRI\n",
              "h8pr8GfFPeTmNawMB4q7rZUrnKbKpVxjl2ThMwGVeZvA3eSk34bKXcNh8hnqL+Za2r/gMaP8bPCX\n",
              "QH1N75NTYlATTJnnkxny9B+6nyhjyaT0tcUh79n9f/M6roOiDM4f9ubLU5gklGOW871I3pWEFBuj\n",
              "ClQMGh4WQgcQNOtW0eLdv/X2XPpoxJ38Xbi9M+7gGmjaNW+qylo7WxD3mefXYxFWrLnreECsXJ8r\n",
              "rDnrOEB3uLLJtrbLF67egKubiL7vLUzseyEN+cY3wWRVGbi35C+5FFxcG4ckVEfKrLBl65C+D/5/\n",
              "CMVw4O/ly+YUysPv26/HjwKaTRDGur1V/wI36aYqInlj42gKujgTAjxl6xDRB6TzdhLsTg0dEdsD\n",
              "zq7RjyIdCN6mpQ4l2I8RYfHzhs28YsM3P5V2z4HvQm2wnpfHxYjgXKQyqjo3yQ32NB6S+z9NR2d+\n",
              "qzL5Gmd29qQHG2Ses29i369no98UL6AOCtXLwEDnxp0NcA6r/t7dnovp+S3IafK3B2j9qiHGg7pI\n",
              "qbFCQh0ht9W0Yhs4hbDtCnQaNNuafJGJhmHnoKrq2t844Ebq2uSW66UAr+5D7JrpPg29RN8Y2l4c\n",
              "OsH45521xrPvkTwV+QXv+k6auN/e9rBDXV7Zx/OwpAeZdqFtjn/suIHfBzDYIgZGkc4PPEEiR9BP\n",
              "wZWzS8zyAFR0ZRWDi1dLzgItIQ1z/Vhma5iz2d2mflWzkYEOGUTKkCLgsvonRHDPj6nGej0CVIg/\n",
              "2H+P79AbManwtkMSRNmh2KCEkYZjQp51xHtyNP7dOgEVd7HI2b3zprZsN8L8xy6JI7V5UjodJNQU\n",
              "vRV8txngYsqG8QvVHPoZI+3ZjE9hPwkdyII+DL/7KSQh888k3rQL2KcRKvH2AeCojDxhEFaQv72u\n",
              "77AUBoMMgRJfdgcBPZOoOWzSb4MFsqcXhEea6ckgcQhCP714poecxg305O6077FxEcZjq1LvhSaF\n",
              "so4ss8F2nJxHbyHxgjyY1DTD5DR9800nUu48CKkTZND6HnEDk+8ghbZ00RmLMYMHtk8ow06XR2Pb\n",
              "a4JvXjXiRRxgagHQj5EPRLy6uuUvmDiTlCbJjYxqeCb2H3dHNY2jHz174zwz/mhg5owbwY27D8i8\n",
              "SFxPw412luwfXFJskDAbv7/uxWbFAaFHfDOWDruf22RIQ29Q1a/sQOxeX3UL+EoZAY8I3KsjsKQW\n",
              "3788WGkA7/GgOEkHJCFdo8anQjZueURZNP+Kd75yInnMfnwGkR4fOyWCOxT7pwfiEw/1eIY4M28T\n",
              "SkZ4X5ez7peT4e1gA0DSpFkl7G3lqxG+Z3W2LsmjcxtMXHkIUUj4XubseoExj0TYOVSbdW7t/XCx\n",
              "S0KY9YZkbvHsbU/txb7S2oU72TvRJFNCcRKCL5dXvr0qdXVDC7R1e8OBAjNzEsZirpZLN2Rb+3rG\n",
              "04q5xbfHjGTmn3FdYSpayCwWsWHP0/eSg3uRpIMeSSxhDwxVw6G0skEvdnuSu2IheVmUY6agLrPR\n",
              "mEMLrtzzjFctdVuAyCto0PR9eIfBzqBdTGaXZPbJcyRLXbIqLz/1tsSp0d/Lq5+3VkphZp+1vQtM\n",
              "PydJma7ay9nH91TGQVzn4ETI7nU/RT7cUMaOwN2aTVCL9gV8mgGPQV5CotRR488+EZJia9ToEy+q\n",
              "R4HCWpPqi/4LltqSHs6+WUePPsQLfbNKOnYhTaKbvFqG0BMpHIC84GegRqaUlaEKdWggot6lS/AA\n",
              "ff/9gUj3FASq6CmrZxM35jyb3F0C4wCclB7JfRJs01Y4X6aVJTF84D6HUnj2h8mlF/TBAECPDzGs\n",
              "jNzV5WxHufZcHj/BcdqIkE/mjCqFxYBY7K+kk869I6y09tQVMZvwywYJY4eFfEInmRDpi3w2zm39\n",
              "8aq/aKLKZxW8s0OZUENP9FcbCcfTAt+hmydi4vLx4TXkGaGrqccF3TgXyhl3MfSN4Isew9d1n+31\n",
              "YHsFh2TxszpfjEWyJRBDJMp/9Z19JwReX4YU9M7XcHyyRckmXtIZjnpcuNL4zKSy5qUQX3mzXu2J\n",
              "T0j2CXn9UveZWLEIrME+/9DCvhbXXkmEBw5HGHvghWjmag0lQehSYZvQIWkk+L2Lc3XdJ2Eg9Rby\n",
              "6nsfRqh1D7N1b53fFBjyid3aD1/5UVh+lCHyUEpaT1Qo7NKWn0NAh3+YIVYNfO2nrRsP4YTSZB+w\n",
              "CjHYgR/Ux89WlQNkt1Wpyz6b6gUFrNYuwMHsr1z6QCnsumLLAPgJhicymCid9RsGepuwufld1rNc\n",
              "wcRt8o8Z7t55smyGVcB5qcFvmw5SxZNqIjsmw+mkZgqlG1GCpjhI/toHT2pht3F8MWYxzbkvcRhW\n",
              "ciYZDTNfJ65TZXdeLuCRNK5IxVbSt73xgiied0RVBGOySAACYdq+flcZdEwjaDsucd/NhBiRO8h7\n",
              "gwRde/ncC58IN5O1R3yTsRZf4f+plSE0N/SeD1X/oZYMw0Me+ZFrdSpGiixhsZe5gHcJC9if+O4n\n",
              "iXCWsrKoGshcBsTkbqMMolT+0yz1LO8YGvdDWf2ycZ4K8G/jrY2/Q6b4MJv3YLvnDqNFnswDpOby\n",
              "Nnt+mXS3jRIqhdx7SkiDeQdFHwqkPP2kbtHzxkdKFskV2aDoENprgatyn6aZnSPO3Z1rFwwl58Kg\n",
              "MLgb1K2PebNdWccgH1cGpZH0H3O7pNSavRektRorNsiKwkgtxnfEKL9LuJJezoJNvXEbRWXv/RRC\n",
              "YAJ/5PBFTc4tYektB+KT2yzCL3MkuOMms72eFeTqZ8udaxNiPm+ji4C+2Swfl8Bsl0U16W/3AXCx\n",
              "evtQJVeZvQKfA1VVkGjC7eBZkSZT8dLZj/8nxllrI+RRrshp1kwgisNQA0ngq1WmaMA2WtjU37D7\n",
              "4C6xB6KaQXdsqkVImy7ULsmXvpu6ETNzOiPgF3JAqraNg2IN4OTYwi9hnpXBEppAVsWTK9QWo9G5\n",
              "ebxn1sN5hggXgPMnFnHcCVX+XS2i1vGLbWCGS+H00VSBII8Mxq2uLROSJev/Wh3Ep31QTHL4k+zm\n",
              "OvoFNUGp1d2lDciXCwY9MRvC2ZTQM4RcR3f49BmyCyaWpeXWDeTA9RaK7Zsz4IoWKQBh5z4l+Nza\n",
              "oEGSGWd7HDd58TI97vGEHym9pQ/ftVxQXK92Q4REd9vuaeku0d/sJYLuc36VDaZzZiYZHJoGQlJr\n",
              "a0lMAcRhYXIrZD5qcDGGs7lQA0fS6bCFj3XZLNMwAAJd9X2VuM3WOZqk3I4XnrUq83JssyTvugO9\n",
              "am/J7ZBrpsk5XotQinNUQR4nDbZ45HSp6MkHz6877r73MtnMqMTL8Vz552D9cy4Y6Hy/OVMeDldS\n",
              "5RmmmpQ2phlQdRdX5Rkz0GwHYFOaRcJ4dlvUeBd/VNGLiKBOvYxii450kyCE7tFmCpy2fj8T4Cmp\n",
              "b0cSOFkRghGDm5HBa7IKNj3NYFXic7Fhbm7qe3eX1NAgOD/LyXkEkci9udEsz1NFV3gRjYxfzMVx\n",
              "dVKlROVvyfaCtGuCHjWDKJSOnGhpmM+D4h5fdb8X2XU/g/TAsVajVIcAc9XOwmkS1wJg6bHTINJg\n",
              "W9BwEiwrZHM3vi6emK4P+XsSaYZI1K1+5iiM4nOOd62YZXYmoy/J4TEbIqjEiPw2hg3UTVfPpq40\n",
              "67nt7l9DzaErTW+hnn80ykFfJjclJinFTSB8AT0AwXbAL/uNrt3ouLog7lyjRTQlVRYlCCfGqvOe\n",
              "1I8VauBQZTU7ZSGwCskIvljC3jVnGpxlLiU7pFfWGEc4TRXPXf3Er8oV1jptU/osqLL1wb3NxCko\n",
              "DCk0LpBcHN/vGtgJCdXVHDeIcuknVHfpPAELeZrCD05ls0ZilwnKKMUIO9Veqcjm1ouXFHyfLNF3\n",
              "hWzKn61kXEPML64OkVjGe67JfRei5iGQmvAvkXpo90oPEdTmzLl6r7IJZ5dlXRuZye1Q0p9I1Gmv\n",
              "rCccMCzuKymyuxKA3aEZDsf8K8gxPhc1pyNlyMJgb+bNzOC9L/zYPK28kAor/mfm94WjCbYPTKPi\n",
              "dkVOGKfVLRCPGVrMbowSObUPjBLznexejUHUmQbgRLURaG8sltF2vE1ZBeFGBTZQEZEYY0TLBMf/\n",
              "NtadVevH5aQw86ALOMuafP4Y5M//C9AFYjsvkd71zh0xPmTud6qWQg9AG0PPw9DivbITnXbUTzQ5\n",
              "PH5MJRrcrWMw8ZxTVqoppOG+/nrZ+VgsLLYjikef0ClkswnzJxhgq3JYgOYK670oH58MjES/a+O+\n",
              "aerrkhfEKjZ7fUcqyfZNYBcWGFqWnflgEOBdG2IT/N/yjhudvMKyrwcXJ3yYC3XO500XwYTQedNy\n",
              "u9egEBKwsJr67KPya15MthMiosDzumRKKt1K+8Bcy5OlgyUygy1Sx6TGftn8UrJccWNVINP144HD\n",
              "oJW7RWx5+F2v7RPENqG0a+rSLuEq0KfNAmbEMBoIA0OB8nhP84TQ0mZDHeUmVnrjgEPc7pms7f2h\n",
              "PNOh6hhf3GzX/bql/bhBq17Ofa8uo0ZHnSHQCEog91U7ZjJLUpcmiUehQR0/KLyU2jCIRDfJKX8q\n",
              "ShMOiodaLL4uPWODVr7aWv+4DnzrysGsE25rrKa+DBHNq3cdaBBCQnsc9o4xSvRnp8godOHRuOXJ\n",
              "XTFZ7q6i54MLdYKVNUkBJQkNwIMdk2RsCjSd0u6rBSleqrVpOT0HG4VViwJseLgSEB244/mBdEdv\n",
              "IrVB2PiBGPD7o6sWsHlMAcdmTugC5HV6Vu4+2NW9vcLC6MASytkotfevnzKqeJJZkYK4pqOGiIRJ\n",
              "ktxHHIEFgis7smcwXdGX+Z0ftdH8ikJmsTZiAeI4LadpdbMSoLACljbkIDYaCMI71PY0vgbxhWD1\n",
              "AV8Zkm6+TEupz1YW0FUKgXqFOE2l3fCWYehzv2U+zUGwSto01n5ztX+V8CG1VrAbDK3+bDIEyMxy\n",
              "rQj/99GYE8YnelRoaheTKb9+A0p4VLiEW1FUPwtBt/PiFSz0cACTzFFi9qRMwNx1yYAaL3FqopKa\n",
              "gNpl5q/mxPZuEm/+22U+Ls3129l03I13luJ3jteoM30k96FMDGkPw1wejA0xQ7FgPY2ybTSnCJax\n",
              "4U6w/0nykVN1rtR3y9vJorHg+8EoCTdgWndtl2xra0Qkr4vmyDy6mow4aSnqJl84H/Y//XUWEI6N\n",
              "08OYixKo47kqW8mhYoQsGoPHcBoFpu4bSaJzSh+gdDDLj7JhxPY62+PBwOSTVg+GKS5182GRWJxp\n",
              "UICSLVwqrWES8MQR1mfpdqyD5dJLCQZeuZIYldMCr0D2G9NDwDpwP1MQ2ofNC0bin5x2e/8Ma24V\n",
              "LblZJzphbJfkYatmlwybCyVrq2okTzCTISH6JPaY2Z2ze2jCY2HIYS6/XyJZKYkbn/ehy6jirKTe\n",
              "cYrfDbHzRiWKrrKMsD9Z76XGIFibJdd2K+RFFINm5vxPW/XNvVf5Kqji7X6LjlZGIC+Ld8LWJuOa\n",
              "Zaf2dzIVmkywHoAmJBhe9mxhlQND7vdzjpay3Aqztdw+ollLC6HYH+52oKVlgH35dedhl8XERufK\n",
              "OxaoKSpuK+LDz2mZZ6MS15EFJVDC06WfCtbJ4cqW8G5nFUcNRvcyu2AdjJ3+VPl6M6Fzn8Gan8ks\n",
              "vR8xCHclK5+xHgP8nIQqnw9An72bP6YWjZhuqsOTktVKITqxJvliGfbM9IVDoyQXwfJcQH7eu1ht\n",
              "Yfqk5Vw5mICCV0dNsXrusCQBbBbjTXYBni6I1lol/ztUP89iH1gel8ov35vrrVWmDCi8eo0jYIgq\n",
              "LeCkMKml2kBJwgG2Qh2J75+tvXuy1d64eETGBztUfRLT1hF+BjMjZ73MHbgJuH+JuMJozxXnnHj2\n",
              "Qe4HKuuVzXz5G0E8q3p8LY/ksB1U54yL95vprpbPbqbtppqIdVOh8OylKKvvvVSAe2jESMUC2hQW\n",
              "6aMt817/C4zk1paEWm49U8Nmk2shszXmwJNehgoAqzqu1MnKbcUbYBsRvOKQoB0v/I9/pR92VHPp\n",
              "pZ1JSW4pYsHK4ILn20ZsJBkcG4aR82y3KALMkI/rtBnzWyLlVw2UK+J9CQOW5+Ev+IJdvZDgR0cG\n",
              "d5W676aNlMFTJf9yUwT4srUrVP0Dqov/SgGhxmLp+Gao6yN05dncfbBD6iarOSb1Jvvjf5bXl3xp\n",
              "ODlnSOlBcyJVTQmqX5GDiEN6dVLA8TFkgLQYlJfobE+8h9Y7tfa8gcTOGyIKt4AAFnJ9GMMl73Sc\n",
              "cd1J8eckDtJYUHv1jBQh9vR/uNLSlmEKwGMOihzXOYLKL/wnWR2xkbl+oZEGWtuptEeXADCD24MH\n",
              "LFuNVZyFizSsr1+l/tx1gcaudgCwc7XA/GTI+SDMcqa8Nkd9IEFQh1ysqeLoUxZ3EwoVqLcJcdy1\n",
              "FHsMoSdnrxb3a9j1ljAd0Z9j3KuwWbHNTw35mpL6e4vjU1WRlay6RDcS147rGXnmnu7tVAgYTznA\n",
              "CzmEO2LYHZWSH5ahAkOmsDW0S7STyP8a/ZppKnFzwKVmklrg5+Ios0mZMBL1dZGgUyQfmeAAesEA\n",
              "AAIHQZokbEJ//fEARXydMaJ4mA2Uys01yVam7CbNXQAiBDpWzEXQsG81IS48H5gETrVXG+SGXldf\n",
              "RD0a6sAbGtns3JNfdjCgiaMUQyzyDaTefKB2GSSvGSCYPdOYmADtO1IBfUBfhEx/alnhJOBAXmw6\n",
              "GbQchPykoCL/FFh9nJAvTmC61+EitdZ++dOZ7ioeRaMt0VNjRBXG5T5u80k8vL5B+yj3JL02F7W3\n",
              "aqq5i4ZnVgAtnYYzGyZ+bDCMbfWmAZb6bzVZSvlqlhtVay1QJp+D9EsOnMzbqWPVtLHjdW7n3bqI\n",
              "kcQHhu1bTyYdxM2qPaGe1I1+39dtrFc9BSFzGUFH0qV3lYbr8NcVUQm4Bv+ElC3/yQ3YiUTw7J79\n",
              "AzDYAVlQovgVjMAYaGUzUVkITBF3nnjB/tAki+krvAKDCgqGa5mhnNNpWiY2MjsJ3KwltsQGVMgZ\n",
              "51QpQc/Zl5ltASIPUa2+LIQZW39PbDfxHUek9i3tIz9bmL5TUlFI8BoP0O7NDijGUpqosxri9IzH\n",
              "LN4UokNu0Bs+5qqjaFnL8Q8rK/EB3QK+mH9d8KDOlhP6+oTXfo+zhWitwgVXjYANrErOJu8ym3he\n",
              "RkUFhDJZFY+gfn4MBqJ+9iuELOVQ4z4SlsguI8F6fxOob8n+l0IkKCmXS9zIzslrTHuxknONmoSG\n",
              "Y+MZtmXde35gAAAAgkGeQniN/wQpu+ye6yjuqekJdxj6eqBiLSsLnwzIwZKJG8EvsDmupOFACoG+\n",
              "gBMabXG58Nzd7mkEcsf9JqMITbRGr9NlstCdq9RjoBUkHSWmRG0YTHfSBJu8EfV9JTiOUpZPFkiT\n",
              "Qay3cmRTR4jjy7cYX7s0KN1feLOAlP7sGpz/nPkAAAB3AZ5hdEX/BWNx4TzUFkt2iAWRH4t7ddly\n",
              "i7F4DAYI2x9akAI5fy2Gc8J1jTKfjoV0kIr3b/G0jcU7ZMKVW4VJ8ycUI6uHDc/wBjcwr1deByC+\n",
              "PwNQxnQ2yzw4GUj2VU0uGLQmjs/c/Qz2uJlRIKyMmKjWcc052eAAAABUAZ5jakX/AVVGQYAWpXE6\n",
              "EhY4SVjVhL3+zWD2tIzgV4/QpJSvgroQDdH738rU3BABzfidlKBD/02/t5HCR2NAxJiF/z4VROxB\n",
              "o/W8B67UtAh2oBHxAAABfkGaaEmoQWiZTAhP//3xAA/SESEyzdABcAp56EKDh3BnOZt7orXyrE6D\n",
              "gOadapC4xhCAo59cBXxErY0stKW72KoVS7JFblvpb06aeEgisSx+AvaZOZjPXwoypIzLJkVOIxe5\n",
              "qINXzwnJp7dVngGioDmLzh1e37JeDB1QUMmKxgWSGCzMYGWrIRSDOjpFMSHUGyADxoSdRTfcLFpE\n",
              "hrSnutyFLatDmAtX9NU8yAyOPAn2DMRXcTk/jQggiOtsB6Wd8Q/C2qjbfqhezvNowCLJyloTZEmC\n",
              "vqi1CRLxbwTGxUM3YOSIXf4h0jb7QzVnnOYaU6JqC9GSO1beN86ru0CBVw1cQkodrbSXFxcun6xY\n",
              "j6ms7zWAAtnMM/kwmMGK4myFIPHcZXEoOcXBVMtQjqmrkNX88xtfeWKxi1qWZ06xohtm+9osu1pX\n",
              "yz5OzRhuPNl7VolTHi77wH1EFGfP/6sqg7xS3p/RRBH50T4aRhlWudAipS6emExwqjRwQzpXcSEA\n",
              "AACBQZ6GRREsbwETQysw/1+AAbsAaRHXEUafz73TplaNXP4IUqeAFieuEf4aQVikgBHjKytUu4rl\n",
              "rKjvTAtrvdFPL3KuXi4yYBLrcrdjquUa+HS/ORe8f/M0GJ+HdpwL4dh8ASHFFcjhVYxCJKGEdIXx\n",
              "DcCVQMbzm0wPiXHyl3p1IPu7AAAAMAGepXRF/wCtHmXo7OBwpY2ezwT7teBzm4tAh5ORzcj8Hhy6\n",
              "ke5nLeQ2gNoRQ+wi4QAAADwBnqdqRf8BWknLtBqMJEU9XNmrvDjpTYrI+oI29GIsTDnK8qusvbpu\n",
              "Mk1q2+3BOmtbX2BLPjChI315xlYAAAFkQZqsSahBbJlMCE///fEAD98doIwAGtpa6FFF/Q/0mTXL\n",
              "s2+6T77eElHYQ7DWHVDapfFUz849mSgipliSpFKCQ9FhD+B5Wur12Z2wReuF5mZK/d2vd66sGeXj\n",
              "cUgjFAVjxjWXwGMQqgXTKR1pLIKBXAYcfKJOi22T2qVnRHXvVzXW8ISFjNdEyCEtugSVHW/1L3Qk\n",
              "4mB+GmVMvcTZ4p0sN/fTRwcQKD+mBcGDawWQ+S7FE+g3/065K+u0kctiIuSAfSTR2f+5cFk1dJa2\n",
              "vSeKruki9Ry2or0clV/+BbujVuWhcJa+H0GfQ5vreC3LOQfQIUhKNBxEhbDhnrFmqLBAS+gxa49t\n",
              "fsUcvB0VQ5i8jt8621HC89e4dgfBN/p/F1ZpwRUh95e1IMofsrLrmY9pydVARzB+uSVn47pl0Ldb\n",
              "oJcBI18pQz0B9kTfh47unMxI9g70lDXzJ+5UbCUy34lTWN2iDZgAAABxQZ7KRRUsbwETQzHGGnYG\n",
              "alMO0U8hHG6ih4opE0kcshdOQXki57q0v59SSA5ivsoi6+AIik/DCBxvPFDCXfKMkSwRm2TsvuwU\n",
              "pPdw+aujvK6tje1vl4GSLEq25YRtMr2MUtdODZaJ00+0eQlkAItqbK0AAABuAZ7pdEX/AVWh60A2\n",
              "vAAFnJsbjLi+9LV0BMMUa3DjWV1iKa1BtLfxDnH3ojjs/VbTkfhaDuVIwYHxVsONAk43Muz32BeZ\n",
              "cfnaUquaPM8nAaRRmKVmEX9bm+HYBQIZoVjwG4lAoReuzBMr8TAApoAAAABoAZ7rakX/AWOysACT\n",
              "2Ctt7ufnihHpxj6dTuNRwn2riXJUZcRC9J+5RUQIYcQWPNL96TB8331kIeSDbvdkBNl8YWq0AVr8\n",
              "cjvp0tP+ueHfZOERJR/W3ed0jguie6f2OsiOD1CruBEmPTAAAAINQZrwSahBbJlMCE///fEAD+M9\n",
              "Xe/wAEK62fwVrOcUf1XY5Jy2heLRvzaD1l/+7KXZgCddTk1k3w4QyvTTBHyTorOeKJzFYlasiyB1\n",
              "S4mVaw1zylfBCxLeVHx90D3vjpbMPopWPai1lcQqHARcMN7AESzUpDVbUApVtzbeC1qv1A5/Msqu\n",
              "NOxuBCnqf+jhjqGy2bLOmVgsPUitkEuoDtWlh2DJpemk7JzFWwtfogVY5QIpYoeR08xS5gETgMaH\n",
              "HGqIuCaHGo9nh8ee9Vne+9HHQTqfxlGlF3M2SRrlkdQhDra1upURviJJIgk/9HPNSNoaL/Lja/o5\n",
              "J40j/sCYRcMnexFAQBNfCQFITOatoHWeoIvMXSSb1U6e+5yZvMZk+b0ifbcoNJQsJa/INZFVB7WV\n",
              "IjzQ2VwYj7Po6qA4ZAaNVcxrFFMO2bw88z1hd1hG6/xafZXXID0pWIe0y4dpBUYcqdyVxV/MKplG\n",
              "00LwYcJVl+mrR07kHAMqjEgNoLl/Pi4UhwKMG9g/762FHiXTxMhx+TrajUvTj/wjiJe+7nzvCP3W\n",
              "rA57NV4Bt8O+HVApEmk7BpovD928KzOvu1dd1eVtw+m6q8UwfS9ev5+XCAWEAj/PTkXsNuFZhvOs\n",
              "5v0P/KtVb4+ZYRhw1HOlLZP/dcfVlX5QmaBdU96ekS9PRR9zYzPFQIoHV4Jz7WcBwrFxAAAAf0Gf\n",
              "DkUVLG8BEaGdVBOlarSbyAvEmTikq4TBpIOw7TAykALGwWVJHys4KAUu6g6RGRO+9QPNqaoDw9wV\n",
              "7ERtUVgEVcyV+LG7CqkfpwMaiQszQn1K5G9W2M4kG3YP2Jmrp4CkRIdN+2J/2KjjV59jFeiMq6zl\n",
              "XETcdPP43Ed5lhkAAABUAZ8tdEX/AKhDWb4AFa+m4n02pORs9LgyTVkWsW9R1BZoc7jwYceaPSi/\n",
              "Tw9dQHbRi+7MdaSBIbqe1zR4uqL60csS27MSICr1qRzbYYVydVgVKXhBAAAAPAGfL2pF/wCsziFE\n",
              "YFYI2MaYU6esBW3r2gsAArX3lIwfLrE5B/ktV61kz7WA36Kq8WFYhnBvQMGdSFivwAAAAdtBmzRJ\n",
              "qEFsmUwIT//98QAP4wmiBrgBCncCcFdQlIXrR2CpkS3n1vl+v2LruHRhqDaI11Wozc3/XzPGU1/T\n",
              "hHTeUi18TuABCsyt7n6/JMxbXxpM68kaMegPAW/H+YK5BAuBg21CS4Uzp8t+/B2RMPEwfmTHtlYK\n",
              "b17lmdi1cgbll7aAxu9AL3dHXI3AJk4v7nrHdSOPqZ1qAsOGddivmKZ3cdHSXVGsBWgr2qgDI16L\n",
              "ro0vIpB9NWUcH516ReyMFTuv2NqP7LBkoq9tUpEl1fVaPPXsyb6XZEQQdCQo2pcPDnxDdO4EvIm8\n",
              "Ke04j4/uHat/BaSEXqLoDif8QVCUI7NqiWtyNi01oB3BuvNLK4a6oE/EGTioW/RKZ3cixz8XwOd2\n",
              "CTjA6S+kt8X2/mur0oSOR+z0d1RXPe5/1NGhDnw5DvTsRprlbcXcF9UlMFNa63I+ELeBsICKrdf7\n",
              "HwHt9CERpPBECa6MStuqaOAx6X3+lpVfY/+fgpUb2GDfKrCk0m1kU47Sei4nCU3WkgEye3x06xbI\n",
              "M2cNQpludngLGeEHohyktFESFXlEbnDdJ8wKr94u/5G1sc21oIG/cHchxKaXleTpojvkSnGvHusp\n",
              "uNjpxiOijaMPtDytmLQ3AAAAjUGfUkUVLG8BFJrarRMzfDcvgKswZsxtJaAbXjArIZC95jfjajo8\n",
              "M2848KZABa44K3SoXveC1JyONEF9J9SagsgYzQF64y5Q3WCiwebG9yHFkiB/J9vvkWlT5XInkfbE\n",
              "OV1Sxc7li34AJeqWlgC5b2LstmzpfA8DTdODoTx+mtSlKVwAdHfEroOujNIp3QAAAD0Bn3F0Rf8A\n",
              "qAJsz5QABbSB3DkujJfGJ8rFPOrN6xUyCfYc5IuFiPatveU15/T3ZRPXJc+2PxaWTXKBNolwAAAA\n",
              "TgGfc2pF/wFaScu0UL2TdmasJevdAAXH9nMtPvtE1JKNQU6U4KOvH4e6zQuV3VV7Z6zLbxkGn8Rm\n",
              "58d4st8dbiEirC82u5lyITPhAUOPxAAAAZtBm3hJqEFsmUwIT//98QAP4K61NqYAQoXquxr2d0/m\n",
              "5GwKmQiXLZOYQJs8htXF5oN6qoJSEu6y2L4BRHziVYR9jfga+iU8rI8AqPuleESMy3PS4iNYUP7C\n",
              "RyNdBLAJcCNF76Edmt2KGy/ACuhZxN3sXe0Rw49b649cHjAHDymMNTW2d3e+uM5qgWKDqeo1uQv4\n",
              "ARdXVIS9Y5U/FlSjwJ+A0UtT+EyVOxTaGmE3WLycyY3WqqToG47UqwwWCTew7ACMYNRJvAE6S6eA\n",
              "6KbgMxaIUVOb0JTi1Ka/6ZYGEYnCFpAOIfFvi1yXgEiHOxAgQFuRx9Pc+QBVTqyNHvjrhYvqVa2a\n",
              "LOTYzbEb5EZCv7R5IM2DX2T0cBOeKrpqO7d3rpiFGs3QRoJG1J7q/zMse8s9/V1fxJojeTjuL9dT\n",
              "hAzBel32e1NUFNoI2oQtOgNL/ZXcJWVR6lhOeDJddrl9oZrpa+O1lHsJuryKVtfwQ/ATIB4uAQ8w\n",
              "/DCl3Qa2/JX+YPHZs7VyygUzhJIBitN21hjtqBZ9yZg8G30ifGEAAABTQZ+WRRUsbwEM9oa2AvWh\n",
              "XNJiv54lPDRUPjZ4738REWI+2O/X+1dCHDvNm3u6OCZpqhJPDOVCdB05FuAkywrjADz7uT1M8W3w\n",
              "VIshQAg8YBM/C4AAAAB8AZ+1dEX/AWFEMAsAH7vMGVfjHrLi+SiOEOZpxzEQROKhrCM2iPy2yT9Q\n",
              "pqnZd8J/Bolx2etCIzmCECoHTyHdAMTzvGVT3Oh0owhs0mHoKUeeizLZoPa/GZXv2B2b9PRsCoPx\n",
              "itHTPwzvFjeDlY1ptAQP2uTOjhRexLcDLwAAAGIBn7dqRf8BYS/1PpiKVl54uQAAsKlKFSMCh6nD\n",
              "q09kMbgXP3gCKy01IJCjWGrGUsAsZb2sUzFM0egMMf/QDdmSrYYVlgU+ssKbVnp48waMjrNjCfHq\n",
              "/H3MQl82hsjAB6gsYQAAAYdBm7xJqEFsmUwIT//98QAP3x0RDYAF0UnUkAO7GWQBxlJiIVvN5VDh\n",
              "hHkjVYQK1fQ7vNc4e6MahS9xqH++1r2HiGCiwsCHBye4GGHavPA81Vy9bVI+U7c8eA3iQuczRTka\n",
              "slvRexzsaKon26OY2/Ievy/EXQ6449ex0B4eIRyQPoo3NDWQUJXRPppu7meP3lhzRaSUaZ5GrebT\n",
              "4Yu7vDGnjEKqtYmioM/h22JfNCjcGRDl0maMdLV0QWx38GakdDSdTBzv0tGIMiUfdT4TXmgHzDhn\n",
              "gzhIpkKow0k2mQzngUjf04sDoaBAsoRpc8sjOeK1O5rhXNsZibDqQLZZgGcf8lpl5PsRcHr7n721\n",
              "CfE6+JCdTUWXtjCLaxU63YIOy2uP5fuuDe+InGQ4dgEiiVacuwVtXNV0VAGux5c9c+ML0oW3S7yr\n",
              "rJdRlscGXgUAlh+wo8FaaUL15oBWuOsyclFmgs/VbcigdgPfo8BXPRRKePxHYHVQzK2qMplAYeoq\n",
              "SdwdgdFeVodMAAAAZ0Gf2kUVLG8BFLniN0gA+bAn/y2D98Gv4OGn9OuRM1e55b8CHme5Q21R4/I1\n",
              "yQyCW4PnfzuCQFt+L+Bi3j4F3QCuWOjbcqr3EoTx2Sz3YSxd+dn3Stcg2c6Z3gNMJDPGs0LUAYRM\n",
              "b/EAAAA+AZ/5dEX/AKzSq0p/XXVSw/nvon5d0pZ5odSy4WK4iAEqn4rwwp8kyPVy4fOV71Yt29Rf\n",
              "NDRBIeqrhQUgBHwAAAAyAZ/7akX/AK0Tvk/O7lui3XnElRsk09AASxT3eWlAEfJtBrpgV5qk3tAR\n",
              "ZqQT/QcADLkAAAFlQZvgSahBbJlMCE///fEAHm5iAI+vRJuq2clmbW3AKFUkkmjPWkv8oIc+U3yg\n",
              "/E6Se1yD8q22zKzv5mx38xRbxqkykIQclj6HfxR1xOge8c0VgPXNO1yBX4R5VXfadYdvz9DNAgsZ\n",
              "CeAw+X2cKnZZvEfWrXf4gZxicop1EsK1byg84aBqiiYkI/azWSsmXmCuT57YCPgnBSreANFwzVb3\n",
              "7C5q9fWDEAGR8bCzvIIrRUVbiZ2qAZDiHTjdBt1DHX7NAvidViFQLfnUmCTS7ltdW2Krd2EAy1QD\n",
              "dKjflXaOyWlbng1SBAHIoOVdutdSJKbcix8hpG6Xs4mKZyaGm0p+bibf7FCv4cGlMvGIDWuQK49u\n",
              "Z8Y7rV8wyLMc//zxXQAI86xDvW7kjLH3fADRuteYj4M0jzTAmEhyzpVxyq5lr/W+24/V5BT1WaLJ\n",
              "2ySN55ZXAh3t0Zg3y+i5b19gh9lPorUfDzGzAAAAS0GeHkUVLG8BFLpFXh1hxj+f6ztTESsa90pZ\n",
              "DL99b6ntIp0ITaTDHeDYNv5mIH8meOfupaltYlX6MqSXqFw4DIdBxwV3ZLACVQvf4AAAAFABnj10\n",
              "Rf8BWiz1gAN2AAT+SB+WYC9tLKS4iFucy+Yo22UZGoD4ej7zi4DhvhtDOzJ19O/MIzMEJHu1qJdA\n",
              "w3l9R8A2QBnkgJK4LG0FxUCDgAAAAGMBnj9qRf8BY9ucAHZZXx94intFrDxRJFRpb59ckywRnvbz\n",
              "/G+4925NTpxqBrNVmGTi3WHyPqM2QFZjpL9wA3C2JFBtNH8RyLMIPeYqk/flrFtKLtoEwbyf9xrh\n",
              "DtnzJf4AD5kAAAFcQZokSahBbJlMCE///fEAH8BjUARvqOlYNC8gedJnY1bPs+5xz6EjKbs6/cil\n",
              "x3LeErtK8DLQOKN8/xr2FuXP+YTQahC17vy4FxXCUzL6CFY74FC3XZYiuJ0oRYLJhtJXia5zCp8p\n",
              "OYOnXWOV+wEbb3T+supKbpI59/9mSvdhyBDV/lgkmEjf6B9S8HRC86iqnathQV+kQbn7UubTS/8z\n",
              "HFXIhsWeVQjwd/z9d5is7Yg2LnkW/YsNeODJ/5q6z30gUvvLxHJmNn/cZj4bgtE5G19ttWvkbAHZ\n",
              "IH3bxAg14UweQaw38GIeeUMHeiQm9soCPx5V87axobIhxTtrCx5bWcHL2wq+a0HHirSXtfJjbWrh\n",
              "2+YHNFrlyZbIVKHksU8zojeRvIzRijdmxin84rwtlOFZS//e1EUgVGYosFYFkOa0mlH7HAtVvE37\n",
              "ELxq3R84tij8VfJboxHHkGFAAAAATUGeQkUVLG8CJ+0V38q8hVKV5yNHUJKqAyvLd9MnGz9eW2l1\n",
              "tHRV6LVHLUS5gNyVhj3Ptr2HyNkAw2oO+GmiAoxR3FChPGgEwICaj6U1AAAAXgGeYXRF/wFh8jMA\n",
              "CbQ2nPjMZw6LDN0bey1NxOV28i2ivbASpGKOHWp89l6RpcO9bBZNjFkMx45c0h/iPV0sjRm3z1eK\n",
              "+Zg+bzbt1PvN2PtjV40stpeFhs7SgB7b9oAAAABfAZ5jakX/AVlnwz7nwAWvoLqFjgTCkuEHdKIe\n",
              "maONEr+bKodXWteoS4cTLv3fKOwIPYKwCEJ6fBC485deQvbtim9XEdlnMbm5IySIJk3waBCVHju2\n",
              "AacaJQjL2AxBqKEAAAHlQZpoSahBbJlMCE///fEAH7PM79XPX4AEZHU7NXQ4N0/rbGxevlDL6QBa\n",
              "T+WSn4c0EHJumlMjxyke8R50VreGrTulyxs/vipQ+kg03MGBpxaZKV1og2wyej/krIBmALpC58NA\n",
              "urvdItDADQbvhSN1P32wXddn3rrugIvx/IolY4PoU6pZHEUJbCLy1VsBHQ+Xd1gE0X8ikRXrUD5E\n",
              "PjVlzBGZolLfDRVC94Xh4fzqAyJ0IINuBX1VpPCwzaGvw+MqRmziDotP8nNxYe925+EWomvRm66A\n",
              "9DL85YwN9uOIWYfzAkzG9In4s09zhFFLFNESqnzTsMAaurIODjvMCmKmTzD3mvzXjmedZdEUmgAl\n",
              "5lT3v+0b+baf3r/IF1yFzxn3+0UNkvEQd7uh+ZiYn6sA+kH9bpiBQqzTywUs977evFFn/8LujqFI\n",
              "/8pRlwiC6OBiB60HrBEtk/SuriZccOoWg4njQCj435AfZEEjCHBwkw3WM+Thy6JNPXLa1kIiIWTQ\n",
              "J9PaDuxCAvmGcMuwSNI2wZSALJF9JMWYG6LrtD9APQ2YHrHRlxYXMWCE+C95ID61MhCWM72+VJ0A\n",
              "l42tKga+js7pR3Ej8lK1WTUcJYPL36oqGCu+4URoGZtWz3FfZDZlmxLUj3kAAABvQZ6GRRUsbwIk\n",
              "c8kkV8Lf5h4DdHT89sJu4xEkdrB2zRoG0Ne3gALX+v6KMT+ceHiUgDSI4tNmqCTcSQ1r4Ym6yiTj\n",
              "M4rPPAEQXqb/gALl3lDB2AXwxLaaeAIgViMNhgKJWTaHSc9xJKpqiYqKNlRBAAAAPgGepXRF/wEu\n",
              "IAmOTtE/tJ4+DGcxuIgz3yQAsvQRRJpB4yuyjP2b7HB/wm8a43MZmJv0iM4BHN8oCi5gRtfjAAAA\n",
              "PAGep2pF/wFZJOxlzWpOaBr8YRxdsulIM78cjaAAuBebdg4NFLBV65WzQQjoVvR9pZ2qOMDcJ4Sg\n",
              "FOzqQAAAAThBmqxJqEFsmUwIT//98QAf6+MoKgCJBrYGbSW/fJgjCS+9physLUQMLvpaouI0tAeO\n",
              "LRmjjDAyskluMrkpPRaD7DjBjXNp4pOEehREpCcavc5DLTDeCQi9qv/74UTMdxKj3YnRC8xEYGWs\n",
              "yfbSgBIIZGO4oNNuNL7AYQB/XLRncblPqxRYo8cf7CT2ZZlT0McNWauCMUVBcAvn5MDeFrQSi+0i\n",
              "M7eN2OKeXBeAr6nal22WrQM17iILWW1s2lNn6NDG9Vjjd5rc7/8aKTP+YZNwCnVSNhZsY7t3UZPB\n",
              "L5ZlSq4oO8+Ui5iYXCrmLDP6P6KbZquzQeEyu4Zje3OMw2Y+npUWPbPr1ZH8MBVqyAM5KI945fTe\n",
              "PLyXN26MbLxhUsVBZoRmgiSNFUbvEbXtSqIDKjXX06KqqGAAAABgQZ7KRRUsbwIkdER0yJlup6MF\n",
              "uyNQ/t7W/DL/Cb0irti06/v5827J8nrcvUcnohka0HSUNACVM8N23Y8YGRc90P8XZlDfpumK8E1M\n",
              "h0UqZcDS2cDGdLuQCSS+314v3HTBAAAAbQGe6XRF/wLCubrz0AJlPqJJc4cQbq6zsiBvUf+DJdr8\n",
              "+T1WifVV+cXiK0pvJxsqX1QXNs0FF9tvHa46FaBVTXCP5BwJbl2FTUR9L+tyCYLUELe1bTPMRs3j\n",
              "Ll9wbmn4EG1CjY+QpACq+W9pb0AAAAByAZ7rakX/AsdlYAENn4fY3+jaMfKsKVezviMAPpBSum+B\n",
              "cjIpEbSDN2Bw5ZyiC83CHGQ+Q2amrSvZawjJnmuqtTsRQjMdOsx4g0VvE4KZvCXiJp0S/QVczTZB\n",
              "/Zz9Ob9TlViSsE5M3M0RHHp+QB8Q8OAgAAABckGa8EmoQWyZTAhP//3xAB/r4Lc8AQr3K7G3k/wn\n",
              "fCeBz2NrlFK+6hwMOVWTgAB37DyGmfx0sWqKYMmis2NWuStXhafXHCOJuKy+3Z2yJgHXVXCQsLjU\n",
              "lHk9Lafd4AjdXrY/ep0c80InityXNdtCAIDx0F5pU/ZSGOqOreD6tDN+YWZ/6hN5tyMNDnqEE3qA\n",
              "k1GNGFzf5o3IjTI4BwgEpjPDtaqL9LJk+3akkocSvQ1kixYYK+WNw0paaqKMD42tSXyR3Xb8b5tX\n",
              "5ZXvSuUfBF1yA22noX/7XJ/pLRZX4eRGw0aKlj5PA+37kZ4qvzgohIaEv/YMCaHJY/dmZvRGF5+a\n",
              "WlI4VM22c5b3QyJtEkG7WqtmUPf3iiZfsqsSXi5xVrGdc4LXf10fWoi00UBGb596h3FyVebB3fcm\n",
              "OUCd0vq/T/SSsIudhHRjYY/kQblJM7f/nXvbYaFvyuMI7ibaopByXoAPDiKUbr/BnXV0+1UfXcEA\n",
              "AABpQZ8ORRUsbwIlaejnqbHYTbaxnk1xSWCUlmM9zemcYN30MMCAZkAdow2b1LRqySb78zSLRGJE\n",
              "pQRoDwJOxI031OLWN1nEgMgt/Yt67XAjZwCZfxD2hsnQEuz9P+dOaLvy7AOwUn6CmichAAAAWAGf\n",
              "LXRF/wFZBA00ABdB/FyAh6027cK6Y1S3BR4DxMQpxf74wLLO9KgUbyxZl3DeC6CbIB8hxvlID5J1\n",
              "s4Vc6qDxU3FQHupmDbhTs6wWl0DDceAKEYrlpWEAAABVAZ8vakX/AVnqmZ6AFuH8Q8B/zAFe9DKq\n",
              "cSD+po3t+SkI1P6AY/TWlmLKXxd0gcjoMEehdqp/e1A7YD+Pt8Qmxlhcn7PlDrKoS2zW7wgfpUgu\n",
              "BEjzLAAAAXtBmzRJqEFsmUwIT//98QAf6+HLKgCJAs1bdjfGR1RW+uwjnNhcgDctvX13HnxxcglU\n",
              "b1xAeimh7ViNwPNgwZTMD/SSM8fm8dBHv9NKS+bEpmS0uib47lW8M24bLg0DRRI1gIn7zNlRXq6w\n",
              "mEDrQ4PlZLoqJVqYA6RQ83CHMUKf+IHZtdudtCnmigL0W8bi8IJlVoxk0MT238e18X9VQbcJW8FX\n",
              "1p7JG65Mbntbfw4aJ7e/h75f+UVjA/AAZ//0PDdjU9KVFEg3LaSJz3roY6T0yMm8kiJ7qf/37Sza\n",
              "IJmSMvNhrFodXTNxE7bKG5SIJcl6cGtJj8W+Q7zyeh00MCdM00d3tSCteioy0m0AY1v86/QMZEKJ\n",
              "vkHnzImwFi3Vx6yR2ZTfVHdHZbb6B7HqcyT1lndr0FJkyAAWcLONdEQ4gDvj+n85RgPwohZ2jO2B\n",
              "RIDPsGcBMgHJPJ3unqoLbskZySThlLLMJhieYDI9oDfp2a3CVYzVlrH1BIHAAAAAZUGfUkUVLG8C\n",
              "I6CNA43HA4sOfQ/xQcABcTTfRQhveYEXdp6M+xWn3hRJDAgXV4yAm0VELTIAhHR3GeD3bmYDF8iF\n",
              "smAnLHG9Ey5YnYDZBH/ToTHQnGsS7+Ie4BqdkE+qgbQ8SItTAAAAOwGfcXRF/wFZD9mAiKO0UWpu\n",
              "+0WZDeBYW9qReok4oFQBM6RDjjPjoASxjheID0G9fRGfC/LRJAURfT9zAAAAWAGfc2pF/wKwWl3Q\n",
              "ABNYBHyRlEsT5KtmhXm4bvkXNgCOdpfMlCtHQjSW/ii16Ip8DL6TjA76lbezMc8jRkrQfJtZUlO1\n",
              "xuq+Qd3k4B/p/0czkpvzCQ+2kEAAAAFNQZt4SahBbJlMCE///fEAH+vjSkABF7pVltbpKa9cD88/\n",
              "Dt3wQtl/faoWOKkAwd13cudB7OMdNHAnBHETYV9cThCbXJsMzL98BiXDFN4i+xIMSZJOCNe0etFP\n",
              "PovPtKhbjMLtjUQbnHujlFdBSpZjAKvOpLo61Z7yJzM7QWW1B+UFxRjutYsCmrKCDK/iSIhtp4e3\n",
              "YB3QnDDbkL1Ht+oRQDqaY6k2OmlzUbtVpB0EpeXHXqv1/rLlrH0GbVYIkskDe1QFwReRuxohwFiX\n",
              "Nzr6gmgUo2apk9NCKBWyN5dl2AB//jw4v/Vo4k48GJyGzJloc92A1cLpsMrGRbWNmvmRoRC41Y0D\n",
              "Rvw24ysp5UqUKKgdBJ/7TGm1OV7B9DpYzSWTDbkwbVtGyXPNPnIPBoM9mEiyLPjN5lt9SXWHQhhl\n",
              "Q7rrgEgMWJruy3jvRkfNAAAAZEGflkUVLG8CFPnwjQAjCkq6HPgFui28FJTamvrDFHkYlFgDjlKL\n",
              "8PxRmO8GRkcCWf/zfll0gdCF+VU12ZbzZ63CvYb/+mPAtMyET44p+Nxh8zB1A7AkKvgm1ezcAXg2\n",
              "yrA2HpAAAABrAZ+1dEX/AsYWYgA13oGvftd5nDyaBUjbtWUD8kZ7QvN18UpUj1IrJzcpaDt+dRtn\n",
              "yAlA8uQqgaUk2gXg9EhgOLRC+fynlOMtSqhYW14lkUVAd5XBjXuEh6XIzwNKkOu9eEilw6syzgjI\n",
              "N2EAAABoAZ+3akX/AsHcMWgBJ1kfd444yL+22lTD9SEm7hCv7TLP1CmOAR8DlIf4aw+Ox8IflBP2\n",
              "nvtUceZ6d1nJv9fGZOaWhBJaqt7Euy5uRO6jq1aEae3bRn5iUToM5SHpJxOEHOTnQAJmrnEAAAGV\n",
              "QZu8SahBbJlMCE///fEAH+vndk4AX+z+LGAC7mEkxdx/3/dJ+M4QPfa+Y2+JmZoMp4b/eu4kKxH/\n",
              "Iliy5GmjPWzToQ98Jr4NXvPvruNVEiWfuBzWMAtXGQRFApsUK4Mb/I5ZOWMsVkjE27QidjLEiT7s\n",
              "r3awFWl0GkCJX9mF7XA5rdXTkiyv8pnIko9xU63NRFuv8ubiBXY4mAlFRzOx3A0eK+Xz2Hgnc+9Z\n",
              "nN2aPT8E8HP5LXvTqQihO4AskXNGT0O629sGIpQtQBEUjggRNz0Z+SNGnfoZtTtCGvf78gz1/f7a\n",
              "BgNwSYXE0F18ystWOxXHfN2polGWN29NSl77uQR+jXRhp6QY12qxkLsGE43AX2pTEvKQCJoDN5u5\n",
              "GLRmu15azyUCcW9ku9BEvjkL3Ybn8ItzLWO8gX7Sd0YXIio54glInIaevK1ZjhPzhmSFTS+41HYd\n",
              "9ofNncSa2R1OE11AP1Qbiqd5vLHIaaVZqtvgf+8piWPNcSYoPnqu5gpxdiB31OvH3AkWYI16Bzbt\n",
              "9hfcfqJgAAAAgEGf2kUVLG8CJ2cgwAXQg1MxN8BEYFtG3x4Y0nWVkm4Ke2IAjcy4bRi5gW6zAayM\n",
              "VsToYstjbu2kGmkp0s6xP239JpttdMfZYdlDmwH6Q4TIQoTtjPGGDSEHce6YQkshZzG+3q7VX+Vp\n",
              "N48gqLQidLKPAJ7+FCOu1gAIkqPZUgihAAAATgGf+XRF/wFVMZ/EIAFr6DiVWCMOchu7+ShLVUCY\n",
              "NEs9JEXTExunRTgqC2BlMHWbwKVV2agm7IrITiNJm0zbUidqMrMhjXhsTs54DhvR8AAAAEIBn/tq\n",
              "Rf8BTu7sLdrwDR0XLIiYmcX1wf4dYABcTLXaw5mK/xY5gXJOXVXIzipr5wcXV7y+r46Vu22vNWQG\n",
              "rAMu7n0AAAICQZvgSahBbJlMCE///fEAH+yOw1AC/wpaVnN7Kv+t/dsOkvCpLnEuaZshAyWrwVGN\n",
              "BpChzn4tksjnAmMAViQVMaIm2kTqZuePyBZF5GS1QVZKtH6XyyF8nIO1G9OPsjsXPTL19qg8wb6p\n",
              "JinSUQu9gESYIaczAohsaOhxABSeKXJmJHC2m7knr+fDZUhDKwFWl2DSpu0dPfrRkyY1N/1oXqyA\n",
              "X+VZ+FsB49mpX7rK7lMomoWLXw7s6BFHT1WH87XIz0Epephs//oTrJujPYuWRjS2zEBn/DThH2c9\n",
              "gD6mgjbXyrN1bqqylTOkVu9SZboD+nXoY3Nrvuob6R6WsTEROUhueHxUcjPCJ8EjMfSJff+cgsmX\n",
              "900ixUSTbUdtXAyyUEHcxWI1rJg5Qoxpuwy21A/Y7CsWuFNQKQDt4DRiV6wXwtA/zaLORYzaiBYr\n",
              "gKYpW+cEPlzhQ1r9T2zUGnpWXBkCJ1U6Q3ezx+btXoKs3YeHdxAz1LHLO2xMsF6Yd4SjGcKm+erQ\n",
              "kI1kK80ydOuRZlU2M0Lla+K+3lBMeX+IGdBY0X1Ihp4qBXHOuc021N/5EnvTIregrZDScgcbtbIP\n",
              "C6W+zbJoROPLnTJUdnu7UrrbzucICrKxIxMhLFmW+eScPn7Hf3O6rpxR6RJJMafJB3eLrN8jfIHA\n",
              "FoK2WkclvNSTLQAAAHpBnh5FFSxvAichyABM7rYgbYceB17g4XTXA02kYAv3YxiCwNK7jDGU7kW5\n",
              "90lVW8pKtDt3SojI7Y9kdsIaPzDjbeb1xRl8ZplDx/LVatAxDMT3683L2jaMFNC4zqkU1tmOKZHY\n",
              "Zl7BO6w2XcAyr/C0yIogB2JvkZYaaAAAAFcBnj10Rf8BWf5u7wIAWNgAkbshNS5WFCMpfBDVwoTE\n",
              "iJA/Yztk3b2HmMDPp5+djxiKeS3kNcNr3gCiB1lLsHMCF0IAO33MdTg7eHil6AkL7uh42AKoDegA\n",
              "AABgAZ4/akX/ArDYXftJzaQpd+4qy2AFtNN5R2aYqvIRgZpq922qEuea4Ka80yHIF4U+V684cKK3\n",
              "xQgr7c4tgc3uj4f+cthqcJLLn15C98ST9FcJTdRm0k/GtMXkAuvAnIcdAAAB2EGaJEmoQWyZTAhP\n",
              "//3xAB/CEqgATmdqVLohqRvrNP/swAEH6zw49I58OFK4dvIJolX9d4WXw+FWSM85FABIoeJzjxNA\n",
              "qdDHKt/j1Cpd2tDqKrFxJiVii7On10q1xEKe9Gt5XV1e0r1QdXN2JdDChD7vrF7GQD67c0X44lIf\n",
              "ndFHaPT8RxcLBcnCAFDIq4frXUhlCH/DAxLFfzHBLSdwUZq8H9iwAgII4Q4xNLaAFNba6vDzCA0i\n",
              "R1ZjAPBO0srrKmlgx0UP5yVWqUR/hgmRdBuk/UHLy3WYciHjmHWn9ThXY9HOt52whWMCz7UeqQC5\n",
              "2ytMNd61/Je5OxRts4qUOqNShaZXf+5GcwDw+6o/6Oe0ono6gphIb8dCgPPAmAQG0POu0o9IeZmj\n",
              "0hMlzmSOmvc5JnrxpaN2t80Xc7vllZdhZSk22sCYsgISLWeI91ECd9dMaRBkiEQ+6tHB5cwHSuBA\n",
              "VBLcHzZwz2cIg2aQByltAs/SV8mhqOzYiwF8N2yA66PCpXyTSCw7IxbO0r95uZkniK3YkW6WBVfH\n",
              "1JsUtGtJR/uNmmt6/lLYlYUlMElGp8IrPzDKU99mYc/DUyrA2JrP7IjSZfXC0nrcZfL6XFW3IiC3\n",
              "hDpiJeAAAABrQZ5CRRUsbwRL2nCTIAqe4m45olIeNNFP7NADo8xbkgLp5W2OSlXQ4iUvZYq0uc1f\n",
              "on8m19nzA5Lgrp72LJpOHlaVx9QoSnT5WSFP6lYuH5pOoqIsHqrm4kS1hT9rOsHlFtHPfKwFFSGa\n",
              "N5EAAABmAZ5hdEX/AsPBO32UK9AALoICwH4TtvDY3yZWgAvRvP8ZWwGoNCr+zdknu738GbvKMusU\n",
              "QddJnKeOiMEu26wbgH58nQTwDqG42V9fXuCS9qmxrK3qIBC11NCZxjssTV5AhQiC0E1wAAAAYQGe\n",
              "Y2pF/wWM65SSgUowyAEqwa2YHBVe/QIy13kq2uMPUZ9pMOFWuxPmc9UENQwW7iYDGo4zMPeRi7Ru\n",
              "jiq3GwWPVNo9RIhvqTpWW9f5RTc6GV9uK8BWclzycLWPk8gVCtsAAAHiQZpoSahBbJlMCE///fEA\n",
              "DzOiRjXSlGvWKnlw2xH5eNDABFtK4aMUH1gCFh4ZjBhis3Ao3YmpotIO2FLO1ujTk24HHQD2AL34\n",
              "OR6shKbcJm3VozY0m3S/ehpnY2Bv46zICLxV/IErbO35vIQ3PnX9zbrSL4Dvy+HwUgxRn3+mwoW1\n",
              "JU9ONgKByDEB0ee0xeFyYZbssGYJu5g7jkXVYL6sp2Pw5epWLecOTGYpxEkYqune9yBTJiIEzXgk\n",
              "NS7ErcRVVaJa6AsT1Bjd+Q2KmK51nPvV7XMKkVErR6Cp25b2iMSibAlITik3bexmKSc3nwdQuZOC\n",
              "FjJaP1C1mjqyXuUo+34Wm9F5jcloJhuYOpvYOOSj74yIePPic1RQg1glPb2R4MIpOmwz8arBDVyR\n",
              "18d7/1MErZsY+82MM6+ilao4Qm6maiytODIIZPrFSXQa+jOSBp38KcWCze2vEDW7ItbNxrcJM4RV\n",
              "pSaNOao9SHiPZLqEi4Dfn81xnKBmGz2O3uedvkB9D5lJFr7XEgZDsKvJADl0hE5nc6YLzycw3of3\n",
              "19PpefUUTDk4OPmqAiSao7gAYEXyaCAJp+OUFxuM9x7QkOgqeRAd91ClbDIu6vTqYeCVFghyB8gV\n",
              "Y53MafsH4bagEnEAAABwQZ6GRRUsbwRMj7PLGHwaQLqmBWMEFNnIr9w31fDhxAzO7UTcB/tSo/cJ\n",
              "DSv2DH8IKDLHipvoAPwMw/sKy9tS9f8KrzghUUYQ+Z9HLPi4BsENJpQQLoCfcLXR8MnBV7Fz7eox\n",
              "AmC3qdDfQLYQOAxMxQAAAEgBnqV0Rf8Fh4GNjvzOEALOQAQx0ruYT4B6feNI6Fkpv65SqwcPKjsa\n",
              "P33ZqKQxmCL32eqZ7tV789u9z1ujfyNTUNuUG3/UBi0AAABBAZ6nakX/BYs7uyjoSt9OTC8fUpk2\n",
              "0NuVACzkHVJL1j1K+Nnef4R/jTZ69DqZO3yzlCjosWhyQSfxnkt7qlxsAb0AAAFvQZqsSahBbJlM\n",
              "CE///fEAHF0vvQErNpUGjU2WkFp0OHFuxwQDbSdIh/Z7RWzaeIpDTcjmijCE9aIm+fuLCFdwPb/V\n",
              "DHUV0w4Gisn+L1ooDZQx9YiVF+BR3NZ+/z2cuHeKExnKqx9pMi0MfkmNyC/N2MoRYSqrhST52H0B\n",
              "04324EbhXHMYEVEAYfcpm39XBw4AEpfzoaovE3nfG/P0n7bKEWwXSulM2fiamtmwu1nObQtYcBwg\n",
              "2AqQ8bgy+zcdTt+bHxgWClSzEao4k0ttS/W2ZkfTVrtWECD6N6g5eUQaFlM+/QtO8PBWGQKGb/Cv\n",
              "4LoZrs39uG6kI9a8Wp+0UtC2W1+gzeoM7gEsZhH6VXmiSGQ3l1pooFSgYRa+bTmcMlDnSDfHHW/2\n",
              "1KfhP6CYNmA05pZMkqrxDllZ2FnGBbWnH18PSEwliH3x/Ufd3mwX1OyhduR1/7OEyAQRTHGvGKmb\n",
              "XcEcxWB6zCsBdIPYXwJ/gAAAAGpBnspFFSxvBDz0ZTW0fCgAN0NRZ/E0sgDWjJja/Sro3J8OUCIc\n",
              "rUOaywmHkKkXs1JcW+c2Czgd1Kvdk2oNOVl77DhoWRWU1op6DhAIjt0hlY/IJbOrF4EbGs5zIiOm\n",
              "jFhEIMyAOScZr5OBAAAAWwGe6XRF/wWHgYOGZwdEAAuggLAfhewv2PGwxXezGzfOcqDa1sOt/hjw\n",
              "xpvWdBaKcer+H2GxtZEUhJB7x6DXUrrjEu2cy5IXp8B0dH+/tBU1EUghfZEF0AhbBUAAAABcAZ7r\n",
              "akX/BYs7x/rcQNdnDdIUALbndfGxD14JlXFfoqcMJfOx7LFTvnJk0QMOciOUniN1m1/W96Lo5mjp\n",
              "ZJmKRWJ+S82BV0w+aaP/85uXwl5sVVU6C1RQx6A0AREAAAG/QZrwSahBbJlMCE///fEAHl9ER0MY\n",
              "ADQaIS09NDkROOFE9fwGhT4w1ZFlVXQk6li2kq5VdUAexO/ljXPtFaRlRr70dWAhfByHgVEJ8jCh\n",
              "WHaH+z78aFSDJW+q+oj/wB6equb/tqRNBXKe6d3g06P3WCrtvrXrKO7ypmL5SUoMu2BYSYCy3rRs\n",
              "tk40yPb4HXbAhKZEw5YLRFfHTEBd4AY+w6eqhGesRZXgzYsXCvkX1WS/Q2Q3XQIBCVDtqjYo9Aio\n",
              "uZByHqNCNQ1Hl2MJP55Z0sc91zS5I9aSdn03H3uYSC9vJjphvaG5sJX5lpg+seb6cV+Vf/Xts8sI\n",
              "C4c7dX7fFmnBjM+4y2MrB8KYWkNe0s5LpH3GoNGiPrubt+0QeO4Rdrj/2fMQPHpzJmb4zAe8eItq\n",
              "FspZlk8LD4ao1mNcFVf6IgpYblJABePh3DrGwF76xhnSB5JO2Z8rReFIiU0cY14Dd/00NhoIuAbr\n",
              "pGxSOxjq5mrIkWJGx6y4jd/iqfXa1WfWh6QQzPdNJZLqMpiH3A2tdTP5uwItxVuhNg39DZjbrNrB\n",
              "pEjkvK0eIPdOBnOWM3FoUwG1i/lj51l7DLHHAAAAbEGfDkUVLG8EPPRoitWIP9fz3MvDtYm4GLSj\n",
              "mF1YoErzh+e9CPCammqOKGxjkV0AAt3bTCHsQHmpYv1hn0ax60IPNdu0g5ti85t/LbRD/TotsgDk\n",
              "5NslMGXV1O0AkEvnntgSrTCbbAOedLQRWQAAAHQBny10Rf8Fh4GOersALDwQnanjNng7iFZUV2PK\n",
              "jMDIF92jk/7T/rjdGZn1HI0xVBcX10ttb+kw3m768XAk253gAF7hRqOEZ/zeWqrI2tQ69Up9SSGm\n",
              "qGx1W1g46I36kHMTa5MDKW2hetGL4CCNsGJbghRg6QAAAFwBny9qRf8Fizx7rWOfZuDgAkxgmp49\n",
              "AmJPwFN+Z4kybjVVs4ijIhP0AeOCJvTSN/OSqA4JDvdkLAq5Rtr0cEt4Az5JyEFX2ID6Ta8n1Zk8\n",
              "+EbZTLs2iCaVAcE/zAAAAfRBmzRJqEFsmUwIT//98QAeX0RuOABtFi/kR1mvQJaKNEReovPmT/dd\n",
              "CwUa8345sSOST+e0AMVMaoiI4Dp++Lp7zjGQ/3MKUugJ2JrT7v43zdNTghVcEmXo/tN/nWz17wj0\n",
              "jhVQ9VE/vpBE0JsTHcclz8tZ/e+HZKx7ioWO3qjq1J5vypWgoPy78bAdR4Zcu/o5DWjpK6qJZ5fA\n",
              "7JLAekU+sFFXa2pJHZE4SdM3TI5Jk7T7nuolcmNwnzozzZHTfib+0+Q/bB2dfx7LzlCELxNYeKTE\n",
              "N8bU2gGFp7hvVD+5aoQ78Xrz5ECo+A1Kw8xWmw9gyRyKeIoike9BgXYEJOqoUzL85/9h9wJteXMo\n",
              "TY/ZJ4KnmBS1mqET5ZEWV3NWcneRBSrTZA/sEVbxbpMYTsrZdzRfYd+pLaS3oZS5Ts/MQUNzA2KC\n",
              "q3bVY6/CxWgCYmoHvSb0RAWYYeO+yPhg4RvNkNbUglKfaWB0cRXg7fG+d25Q7IUlzl8327nZnrQw\n",
              "aoHZOwkwLluYrF/QyyNkxpnFSbslue36QK2OgstZgOUJ28G454FbVRVJU470tOysBa6WnxWz5vWD\n",
              "zcinmPP8i38EcG0SJjs7MF2lNmeYW21Bbj8bD1x6x6K7mo1WjBEm889qcq9jSXn5Jn9EyCEXncJd\n",
              "0WEPMAAAAIFBn1JFFSxvBDz0aH/2J8L9rKk7PMvZ9cTZDjdGJAAzbT7GAuTQcCAHvKXEl9eh/BHC\n",
              "0ESrw45bN4BbYeCI5Sx/1kexbYPjZ9RS44B4es0UwLjYiYPIVjEP2fhhbwR9GCU1FWVjaF+7H3aM\n",
              "9faGFVUl7hxsGQSka9KdhFNC+LO8nREAAAA7AZ9xdEX/BYeBknukYHiE8FJrO4kEAC6YLYZCKJz9\n",
              "oTAGqDt8K0Y/eMP220AQvOGs5t8yGZhPI/3A44AAAACOAZ9zakX/BYs7unq2N5i8EgBoyWSR7OSG\n",
              "HaCpvJjBKKQ/NCyK36I3YtMK6hqnXi4sV7umC3+b9ZbnmA5RKpyTEuO8iv3nY2rBlY3uDSqr0cXA\n",
              "iNILUSBCj6i7dWSmLdnJCpDd8oc2rl5kYF2iEl+3c13Awbv6KVYxZm9SvQAzkDLLhy8PoOXpVIZz\n",
              "y8AYMAAAAU5Bm3hJqEFsmUwIT//98QAeYRSW+oAPT9B/IzrWzLkTPprTaKFEWSEWaGcFtzJibEEI\n",
              "awqvodLE4ja3d8GNRdVuz9pOahKaQlgjm477HpItHAdqQHKmR7j8gyVusiC23WdcOtaymm4VtUOA\n",
              "14jW8s1Mby6ZPvYw97nJA0jzCjgpU7tw/YApQMt6TFv9GTFGIAvTJPzBMO9rohY3DnqSSPtm/0fp\n",
              "RJ3G6HYzKiBJC5XBzU9iqzBNfZOew1ju/w5e8KKJ9KQY/9tGOH8b1KjcYoGRxCaKoc5wIKBX5YPF\n",
              "zVaZTeC2XBZfZJjzhiNF9lhD2UrnUiI/YY+34Tfmn4ukMvAskXOOCqJGN6ilaW7FweKWZmy8/2IH\n",
              "FtPi0Gc8owmAWxQpHn4AX3qQ+xhGNUzPVFsUG6B8hddprz+ttFhajT72sIEB2G696wYFw/2Wa1Nx\n",
              "AAAAc0GflkUVLG8EPPRof/YnwlD/IbSJk2p+nNgsFJgEX49gGRh79OvqOptEGKZ29yd+/m7sd5uJ\n",
              "RWciFWlFt1X8bDp/LM+qimzfe5pgp2TDcjvEMASOo45WMoLGWMMoaIrj/BhY+lIFI19J5aOqwNmQ\n",
              "5KNoTLwAAAByAZ+1dEX/BYeCWPZMABNoqG34xRSIw27ODTqvduVGRzKNwVUNvHV2FdvZT/e14eW+\n",
              "lWTS4IbnFmdnEhOkv3Bmr3IIksRx7vJeOkMvurqMGuKTCQxlqJJ2JYWSbtegdaN0pp+2I5LMWOHX\n",
              "1WRPE4oPgB0xAAAAbAGft2pF/wWLPHPPUgA+bnTZ2GsEunqRSBnnYKVr8tlnc3viXVjfCpJvgaAW\n",
              "lSa34NRPzGorO/cd8sMhg49we+aXpU7UmrMAPMLH1GbRAN3n+5VFPO0xPgeEhs8FOsFCqBKDXvoc\n",
              "nMdxdqgEXQAAAZ1Bm7xJqEFsmUwIT//98QAeX0RHDl9+NYuAGVcv4/LGYVbEtzOMGbwBqe/4k0ZU\n",
              "QTkF51yb0YsFc9sr0WDdgKwvZ3Q19pZE76y5+ZiFI/zObGLI5UAuKMzZxxNkI0nxjOpXHE02M21N\n",
              "IvbDH0399ml1ratqA5PGLV/nFEZV+PDlpzcHAQbiJSv8WylwqMdYw8vxsRXpc2Sl1PvXhs748F91\n",
              "6Kpknwe5yenMK6mltjeIKeClQH1s79VRKcXQW1Xb1TLpyJ6hGCDpKyzDEDGZFfkEJkMVtRxX2tec\n",
              "7k7H0dqoyc2w8VQrit2GJ7n+buEBqYiMQm5tuaJPH8+ozPUyrHqPmdFsmvasrQQIrWbZLQ9xSD9V\n",
              "UWidzxdSfo8g9+tQpaz2GPTkjDSRqN5La3iCSd7AwnuNuk7H/iTxq8GcvJJdv8PWbYYhXoqxZ0Vt\n",
              "qt5ChU2T1CUVFHFRva7FfTcSKJ7RH1ciTibM3ZHbUEWIYUrqj5Z+bW7eOTOW5eCGJi1SQSpdjsji\n",
              "kGr9+7evplZQcYwUrK/omcJAmvpWovBswAAAAGhBn9pFFSxvBDz0aFxdrnQ7psVEhjXIrYrQ5nXA\n",
              "bgJTIovO7IZ8g7cEUjsuboce6aHTOzl+LRQGirsHInwACbOhqqUprhoQk5H0xX6K7GB9dIp3TgSZ\n",
              "RY0bxvoTNv5IpQ1nox9RTOksWQAAAE4Bn/l0Rf8Fh4Jt5ewAE1m3GmcDNH/809D5L83g8fsJsWYV\n",
              "RgeTbrdMEWuMhetjT2w+yP7DU8r+7VRAckf23LcFIqoRrdk8BYs8nyrgB8wAAABAAZ/7akX/BYs8\n",
              "efUhRkqFSje24VV4ADdjPCleQZpRVj9jbWtmbw71+OtEfFkrQwjZEvJWbk1zEpFxAQQSZAAakQAA\n",
              "AYNBm+BJqEFsmUwIT//98QAeX0OT9AA/SyY+XsF7tdXrwvPyM/51BDjpPPenjqP8/eLYVCeaJkla\n",
              "xAt45ZpbG5F3VpDx9Hv7KwjrwnecjIPvNIXxwb+3BcjDil2Ut+HxDrDHzjOYoGdeJhm/u7DJYp+d\n",
              "Fb5iE4GZHW9aigZ1fI6mULbVoxHneAiE9gs+zdnWXGayLUkYpmujS0FXcYrbg+jW32ptjgjsiqtu\n",
              "LZXbKGGNz7N7Wtk2bTAoHpUFOG7PSN9My69zC6WmumUFkTjitVjI7YWLjC5kgCWKkSncD5ivd514\n",
              "19g840RJD5pYRNMZz9y/k/Iro4LY5VtbjRKSWVBIXYUFA3h8vty0Cii17EET+xneP+b3PfXZiCbR\n",
              "/E6fZ0p2Fm7l2GpFyF3YOzG9d6h2XuZqvZuBWOuV/Q3Tf2Dx8XaXph6+YbrpBDRuSBor2Z2zr+D5\n",
              "1GdI5hffN+mc7DGxZSk94DBfXy+3Xb+DX60Ul/zlzmSX9UiMXhi5xxG0XaZMSMEAAAByQZ4eRRUs\n",
              "bwQ89Gh0eP/+7/fJKAFlLzCCAHjCbEkMt1WHgO4DhS4uDadSkFCt4vZVh/74gSPK31tO4AQx4meM\n",
              "KI7FCA20u/DJe8ZEATfx2hURvwey0bOXjri+9+BjKgdaVsumOMKw/aNmb1deIAHixiggAAAASQGe\n",
              "PXRF/wWHgY2A8K0Yr0vQqF0yAGjCbznV4ugYiA5RILlyu6L/rPTqMDLjd/gOKf3xwaHI3sJZ6ept\n",
              "+xYuWmLpygoRQm6+i9gAAABcAZ4/akX/BYs8aYjYok2VAMXKAD8kuKd4IhPGHOL8Osa+YILpaVaA\n",
              "WYa/5+HWVs9P9QflDCIcYnFuMYZozlHt2FBgkXlqOnvx7X0AHkEkJ2hzw9fLIUfGDEDeGBEAAAFq\n",
              "QZokSahBbJlMCE///fEAHl6CnoHABl2KWHam21/49IeW/z+BkbNszyNGMLSK3flnowsjdnYGPIt7\n",
              "3Dj7TYPCIEvEPhlV5+GqZFZNAlIVF07/pm3lqp/LKA6LW16lOhfU7Kl46aY/veA+feFD4oaO2J5Y\n",
              "GxOoE4AP0YfIVaExUeEJJGIxi1FePXRLt8RM9BDou5KMaVKFRM85cm7SGNriRjBvs4wib1z+4jn7\n",
              "BpDedyiCclJ8Afm9eYH0GL0UOvLNoX6+JbgVXerL4BeT8ha33kA05J7jOXun87WnBBX82XZm4zlz\n",
              "PSWylESYEvnKfeJx1v//vWxhQwu8Dfotg4NqJrW8R3yDUOYMHBdH8gsqKhDDzyVqNfk7hnCZ+Pdt\n",
              "mYLxcc8XMwG/yUx9r5VFC03a/GzVkKetgOi3ph2Fb/n04CPJANE6Lh1HDqHxPGlNbcoMKv67mnOV\n",
              "4FF0b6f/U9Nc9SPClxJEhK14G6AAAABrQZ5CRRUsbwQ89GiE8j0SuAfYgg65/99ns/MLGB/gRWxR\n",
              "act4iOaJU1YPbg5pdUVBMBHkVfOyr+egAJh0qDMLPDPewNRji1MJDxr0BOEsvgUdUtgEuadKi30U\n",
              "ZTlwO32NljCIewUZfGS/TScAAAB7AZ5hdEX/BYeCYp+72V8yOAAmsBFb3tEANAbxQHTcgoSUNu/x\n",
              "lThxHt6iT+fNhj8LvvUhGssBLYZfLdsibiM5Pi9fK9SSoOcaemGpXgqDbK9AAd7DbsqDSw9wjX61\n",
              "1F1NjlrN8OfdT5qrup1LlJI4fBdbzfYncVvCABzQAAAAWgGeY2pF/wWLPHCx5ijnQAkwTLaa4mJ8\n",
              "UCYygZXTVe5Agqqh3YKnCA8ENJwwumVNCnMdVlRHlXUnKfwN2elVQUkp7t88EBDqMM4fLub+qjyz\n",
              "cA/Pxf1YFGJvwQAAAYxBmmhJqEFsmUwIT//98QAebS+8D5nWADLWQOE1CZvehczADnjPQ15utPo1\n",
              "KhqgM5DVMG9uGnBn29sLcvQSlkLHc3gi6/82a9r2Yyiz89nVPeO4th21ujs1RpI8NtX3VKlth05p\n",
              "T3TrclyV2bRyklvGekAkmSibrFWm2uGALLA9lxYM8sCDfoUoQrfh0t0B/tke9DxJC5Vk41teJ2Zw\n",
              "AAsUnt1seHzDmEi/Fc6+Wcw/05Z8UsiMgDMCdcIzd+xLpCIwiDit/s1P7oSkDXA1psJKHBtqQrKY\n",
              "pErGKfjf8eO/CJOu+Hx9fkXBpAlaZ9X7OHH0DCfbtAwAO1Da1XdN0VO424YFnjP5pjXOSxaWuox3\n",
              "xp40eSG7P+uldcaafGZddL7JN3/+pdPz12cCur18/0vmB0X/93egAlOntkVU3m+A4H/KrMzUNBaB\n",
              "d2DrGOfTbE8TMuqyO8l4KT7k1oeJX4kULvw5QOmDEga1hdi9QmE0RJP99GLVUwDUiuqN09Q30Uhf\n",
              "cqTH6oxDe2Op3k8AAAB+QZ6GRRUsbwQ89JCxOn//1tADdVpUN6W+3IpdJzXCSQqLBqbzqDoWcKc0\n",
              "D1NNntzyK7VA0rqq4zlebifSAdjz51cq3ZGdEkdgeXvHn05/sK3JjCb8aOMJNDuTLFmQ34/67KMx\n",
              "3fpVlU2r0VakTW+w7q5q6di5+HACwcNBglnRAAAAQQGepXRF/wWHgmww5IATSPrJr/+NrGmIrCdh\n",
              "zYIKhxHKQlnTeqpXJI5KUEwz/uIGnpn7zZ0cHAp/Llb0PWYEix/hAAAAMAGep2pF/wWLRGbf27Y5\n",
              "OU96ZRKm0XmJ4KCkj6gjiian9cclzOFZ6a8gvbKWA1QbMAAAAeZBmqxJqEFsmUwIT//98QA/fYi6\n",
              "a8ygAk6T7Dd7Ne0LNPO065FZ8qwwiqU5Mxsfg18YyO2wxZL7NzD2mX9EpYKF75+EYz2py+ARwkqQ\n",
              "DOaa4cptHs3cFP50MiiL5lh8aZxNWKxzlItALa5R/V5+yUoaAmHG7Inb6IoaAOE2hl/y9vpg69Fk\n",
              "13+UJH6pifRJ/cBy4t/rV414Gcrq8xeMDoHHQ0Ab5WiKkVf0p0JkQvoco8+gQYjcRcf6gqP2G8Bc\n",
              "HMgfTp0rjk8oGwJHGtyiHfW+1zLUdOofPNCwM84RCWeELmCyYN1C8hJeN0bxi8yzn/1cPpvFqYJj\n",
              "IoJ0Gi0wRBqIC6L782pVB3lW/AVIkl/+/l3b/Ut92OFFazVDTChMP9+D7MFkSwSpTA0IfYVbMQMl\n",
              "HMqAC+klBUMotwI6/PGxqGCU8Grj659LNxwXjT2DX/Lg5qXnXyvfnpM2e3NC5jdy5t4o1aKPiQZD\n",
              "g6xRDRN+URZQBKETxl1/UxK3Z+7IVs8X6fVyXVrml9IcviVE5jtJqpyb34LmjCH4MWW65S8TB/bV\n",
              "H+xNmLN5x4ITDdupYj8pKbq+lVCGxOVYqqwQldBkeX1c/YOecVhKDRUVPQcIPvnlR+YMZUw6YSUE\n",
              "JhbW5Ko8CqwedSQAAAB3QZ7KRRUsbwQ89JBd98oEnNOgBMz6SMfBKMj23Ft9qi7HhjZrXB+tw+HJ\n",
              "XfHj45fgxweWYW67cJA2yMxUu9TZZPyoo7TQTsY6Dj9kbU3oeCl2kuJPM14rXsOUxrLuEFRqbwuK\n",
              "ZGf0nBPmLmCOiS7R7HyoYxbNnaEAAABKAZ7pdEX/BYeM/8/BjDABJjGR/icY5YPf4ANdgNb/bMSw\n",
              "I+RMLioPNO92mhgNMSjb5lvyV4jY9mPL/g8K1eB5fedjzfVhYBYC04AAAABYAZ7rakX/BYs8cT31\n",
              "bc6Of25S36ADuH1Q4ZNZliVYb0FWNxibEPsKwpFOt/hVoxq+IOrG4afIlZ7/QtWNRjwukH4KPpN0\n",
              "GdzX34k/LotRaQU5fw/AA68S8AAAAZ5BmvBJqEFsmUwIT//98QAeO49fEt/TM5fcuitS/gGABoNP\n",
              "PVHCzJehz/SSMTvDQXz1tnT575vCY1uO85YeZy2s7VqAO6EiPKX+RSNlZ6NPBxMObh24O7cvzLXZ\n",
              "KtYs0gb3FfZcM6uC3DF8r7Qx/kO12BtlcCr0WEQBBMUbNKi9Ew4GrIwhCISE7/PjnAjIr8AGMqOi\n",
              "g4GYfRklY2kumZPKNOEmfyDMVgNYtwpvvoLfewv7WjMhhTxrc7EPfdijL4YzzNGjSglo1c+vA5V3\n",
              "Ta34GEAlbsArP9qxyoU1LMxEE0vk/vbtY79Hyx/vQ6LUJILvJKMmPLdJ9KJTb4hq9hp539B7kjFm\n",
              "2OEJiUqasLU41swB/5M/XxaZg2T6jf7nMUAzoGn3rudJWWKVVwFia5DwXY/zfM5R4DpVmueyhUkI\n",
              "H2M9udF+txcHOfSheU50HKHkkWj3zT7xikOORH2QyKaZ/L/NOWaTJaj3wslAiR3tFuefGyOLl4tn\n",
              "rPTdLHSAjd1KNw31MRWEs1NVj9DQ8ErB14S1yiYScmv3vKo7ouEAAACVQZ8ORRUsbwQ89GgoHwgB\n",
              "txkrhnpXtljlDo622zE2rgwSMSwax2V4GOGc/+Kl5hkSO26zcfqdEm3Le4QNPhMA1WSxy7wsCSmh\n",
              "jsIdRMwMa9gau/fC5tFHvNhss3xZS4YU6NQtq4vjChyBJwafqB7/u7r2/k7aav5+uq175YKL5qnw\n",
              "mHAQWflQwLSJsoPMoAeGlpLyhSUAAABUAZ8tdEX/BYeCV2DEMgA/McgfHWDyKTkQtG8NAW12qRQ9\n",
              "jiDh+vcREwgvMnE7e9jKyrj8+hg1b4Es3tT0wfJPIQ5nJnl5DUqX22CHhlRLU0QE2CaxAAAATwGf\n",
              "L2pF/wWLPHryWpKCO1h0AFnKDRh8A2ZSGXvvWyDsSDkEz8JxNu7llfKI9TeSA+4UsJu+OgcyXIeD\n",
              "4ffv+cFd/qYckAMNcAqBCUA+ol4AAAHGQZs0SahBbJlMCE///fEAHF5iAAC2Fbd+satVElf7t4XP\n",
              "wTu4CR0Nqnyv3p/PHJj+BI4HwYzHgQPEJPUNt78CvguOj02wGt6j6MmtrS6nAWOUaYKwS7iL6Kh/\n",
              "CLa7aOI9F3QtfL3bqyD2FJ0nomo3hp23WlX7CpbHCnTIcwIFea3zRB+dEZgLkQUZVJoLs1lyi1Kl\n",
              "y2diditpoEYjZpNFQ/OM+JDHK4QoaqXBxbhskCNf/gNU5yF55WSQ6OUi0MMXKvS1wqDpCuWk+6vo\n",
              "++0OQqVWVcnAvS1WqscnucRjYl0RwGrl2XZKlKk1JW0TZdmbwjTuZfPfSmcGMX2+32df6EcBIDum\n",
              "WLfS14u6zU4jsW0GVHf2ckW0oRy/KyD/pa+J3rkl2qSDhQ1KKwcvql0mMfCw143yH2aW5kK4KZjP\n",
              "ZhrukiDxBXKy+siJKL63b5JDMoyid6/9wmK2fMaeAEGmh1PrH1wAxHHi6xk8PowHAC/KuCY5aEza\n",
              "4ZuDiJ8gCgu0kGdmgZ+9FQic5vvcOe5PB57kDIlwtNU4q25zR29wY0OWEgELdO3zIrpxYf0xDQdt\n",
              "DgUJTNIyyjQOXu9s4hjKMWbqmXSggAAAAJ9Bn1JFFSxvBDz0aA8fzkY8wAlDLqKW9Ynzl6lI9qoW\n",
              "WbyXvXeR7vlUuLyFQIQOpPySZOXg3DvrZD08eA6DiK3ElCYktqoDQEBpEM7TSbHJs0TUaZ8EPFQQ\n",
              "eIS8c4xURLi8DtO2JcxYkoTZ8Pdc59v+mYi+UFrbrxx64U9oWHBgDp2f1cFBZms1EgFaOWGVqHxr\n",
              "XYYjktrsrAC02BXBkHEAAABNAZ9xdEX/BYeBdFrN4zYhi9ZT4HqfoAFr6C6x4s2qsN+UqHEim8oR\n",
              "F9rG/G8aELpsxa1fltddnNB7SzUBb4PM8KrGzlJ7FeBkJYY3W7AAAABZAZ9zakX/BYs7sXDsJ4IW\n",
              "oK/SiECwxkPUALOafoTq+jK9g/gn346FXvwDyusyhovlXc0RR3w9JLN2pNOl7sjaenFqjOpu4pxF\n",
              "/whXkLexI+DxJy131CjoJOAAAAGAQZt4SahBbJlMCE///fEAN35OtIOMY9eL0YqfzawPAC3jPM+S\n",
              "IUBUZawIxzeTrOoTNIG981c7DVcfB/e09LfIXbMktds0rzLxBg+p+MZLsgR6CvSC94TCTKIvGMT2\n",
              "Q6QiP12zZc8t6yVq7KjN1bgleLqJ778fzhJGYUUB+i9JKn1rLb/sWdGLir9thHeLZpTfoLi24HZQ\n",
              "7wNXg2BUV4BEJpk5XXZlN1j3PIatTHBBl7cJT1woUVuB0Zefl0UPxyLrid9vrxWWijUlFsiy4jRX\n",
              "2nw4hK7v9yCBAvl+ss/UNw0bBjh8Y//h7hu4bnX/h2jpveMokGLzDN9p0tgFD7lGhEWUs43TrSpo\n",
              "3e3CbUJ6uv6/9NKEVVM1/G08v9W5dm7svzy8q8tgsu8koGIGodtURHZbFWyCiAg3dZlrsodkMxMW\n",
              "KirXNu1JwURzkHLmf2jbaEFQLLJSlKw+oj+isLETjEYETq9eo2pxzNE1hcL8CuVUPa+fYWiRoNeR\n",
              "Qo1UY5Q5AAAAfkGflkUVLG8EPPRnvDyVoGheGRbELEbJFM4uNvN7nQj6h/lT7iGxo78AB+JNk1S4\n",
              "XroCc/f+FShl2Oz78PUuPQn4pjR/wQDbMThRqcvKTEzGWVkRAzS8eI5FanfO6doPD9uUbIcgKVYm\n",
              "O3poIRwhj6GXhWpqqlaEWfgWnTaPgAAAAFMBn7V0Rf8Fh4InAlQMPXh7hNvgFSLWQAEqnxfHto0g\n",
              "bESsNLIEePoWnvdi5Fdo1cfl06gIrx/c674PZHdZMZOJAQvh85eSxddhhKnDbDrz3eACPwAAAGEB\n",
              "n7dqRf8Fizxf9NKpgA/JLiFMFME6h64u41AJVZJYhCnGcSinP4PGa7sOnYRXCYQDvU+ACVLEvLtL\n",
              "dweMiy81/xRY2SKJeQ8LnjLAwwNX8F7/SvMR95l6rp5b88pRIBdxAAABXUGbvEmoQWyZTAhP//3x\n",
              "ABsB93HK3QAM4QFpxIJC9QAJKL6J/3DAcXxWgQAtKc597i0l7HlPmV+O77fykWKx+6SQq7u6Ko8U\n",
              "sem0eeWEAOP3Y+S0l9iPofj9t9rtuN2XOXf8Cc+AKaNhVH10iP8a7MNy0SnB8wy96H+NK51j1q+4\n",
              "SWI7CXFzyYKoX/Kp6/+6PDSrQRkd5vHT0pUQAJr0RCoeKl5Djg7zzxb0VsUizkSSN7dkyioY0dx7\n",
              "9438E84YFvEqnKtsXXA0dpOSfBvjUEa+f3A9xuCfvMkg6EPgsNoMGyZ5xQLamFUvPEEnvn0wHtFz\n",
              "o5qfSBQQC9a2eEt+VAvCEHvz/qT2/+ZlW9RARlQCLrBqb6TtPWrEPcNFxQdGGJsgmemzGj6068jL\n",
              "eevhspxYN0qKkBEMemfN4klQe4+ANBMOH74ikSqhMRnzWljw0NSidJOfGtPUW1SVXAgAAABuQZ/a\n",
              "RRUsbwQ89GeZUNgdAqqlR1uqPlNv0UvSnzEWu+KyOQALVxGj1tyg8U+ClCdrHk/KpQrWWKQX/p+e\n",
              "1i/xwNGfFin53FAjPyt+x40GX+jlnBtb9cseCR3qIPFz9C7zxxKr9D36NisnABwCOaEAAABeAZ/5\n",
              "dEX/BYeCMPVuAD8kuXqKfK9E6dpfDvozbo7lgwSNyqNyGWFTJ8uvpwbt7Wu57t3jETefQIi0gYlY\n",
              "Jux3yknsQr3qN7V+EN1a11/o3c65Kf6n2a9nkzQc4wCmgAAAAEMBn/tqRf8Fizukyyw7BWLn0hEA\n",
              "LXOJyHwDEqiOyPTptBSzocgBEpENg4nsy2vZl+lJIfG//d1cHjTCx1e4AwNn9BnxAAABU0Gb4Emo\n",
              "QWyZTAhP//3xABsB+EOJsuABvV2onVSGTBxZB2F3Sj/Ientflcev+eihdRVF92WNxsRh4zy63uf6\n",
              "thojf48CAkYp8MmYs2VjNOZG/QUicneRUA1is7tdE927eMAzmOQ5/Z1Dv8oyBhnr5Ko+r9KjaSSv\n",
              "DFmqxonbWp6dVXocklYOqWIg3lAc7AL+fELOGFipVRJAPQqz95NRJlGxZCH2TsqyFRm6tZIiIrBC\n",
              "j2zf/kXBeRI/gHIvh+75EXXBqn7zmegDbA7Qhy3cl+lH0TCQ2hnFyzp7ENIe73oa216fJxxQ+tgK\n",
              "HLsbN/dR6dSJpVkO1qHTCCSNz13kjesUwBqCk7f8BJrDmOaHIszl8F9zflCtZ+6E+5yOCCFkozSG\n",
              "SUC11Fc2tKk81m6DJtOwd3g9xC8Y3bV1XaC5k0fcQ/DsPJX5NBUak9rcE54cFXYIEQAAAG1Bnh5F\n",
              "FSxvBDz0Z5g8lIrLRDWQQ+ANOvqYCmvgy8IgUWlsb/thRA8IxVjVB3D3QZ8HTKH0PiSC4Tua6HEZ\n",
              "w5jAAs0MNgQkKpIROwIOM4YMmb3KlsLV9Q6bJiFMVrAFx0GFsIFxq7pzgBy7hPyAAAAAOQGePXRF\n",
              "/wWHgNsgC2EGE293gl+N5FRgX8nlCF7Wb/jwAJUGh0pEjNTJ8dSHKmDunuf2yMnOrAAO6AAAAEwB\n",
              "nj9qRf8FizupNSrfoEmWUad4HY0fMRXgWoK398MABuxmeTjuigzqmOsdKGMdCvnsQ3y+tyPh4cWp\n",
              "B3C/xK1Zx29GG1c5Vcl8SAF5AAABu0GaJEmoQWyZTAhP//3xABsB92zQ4Q00AAZeAsVFoodmSpBL\n",
              "lASD/uAgxN0RCStSSTeUTPW8qiahbl1LH1EUuKF8eomcy0BBteU0SXnpWfvceNO17T6Te0+nNHbS\n",
              "LB3tFiIkEXU/S5bMVGmjWWsOpt/pOrrMjNAIpmPmIy/cdnxO/ZGG8gaQiALFPgL0pPsz4we4C9pv\n",
              "AkJtVeWN0SRz1Q+J3qaphrGuxqicV1Z82miTD4OlKAK5DGh991dBtydmKr01FgXA03E8BnsPc7pw\n",
              "3Ea5TNG6Sij0a4hKKKxTmDdDyNYf/A45893rqrH1h6evOffO+zmitAIwe/xeXV/bmoMa8i+Huv4x\n",
              "0vCgmXK3bFrBbMPrRnqY7F2XV1aNTpb0y5NosiqcTREp6TJ8QCflKKqB05XAgb6kNcYWV9rhM9nf\n",
              "WHnao4LdIRjYMDKUktHgdCeyYWoFBcbcnm681mF0/MRLAPhbl9uSvIEMcvn6neg1LAQ2zekXbV/N\n",
              "BXscdGHKO0uSfbhmOuFzFwWJkdsFdocFu1hZ0mWvz/IDt4Xy2dqE/r7LCxTo6Dawh7+0TZPfNgs6\n",
              "J7ULIEZnUCgHAAAAiEGeQkUVLG8EPPR/pP0pRY5EYdl8XC/LG4lMRgxqOzqL2bBTCFEev1JUItvM\n",
              "3wsp5aAEmYeMgK56twN7xN4uXOxwkXdW9ZTuQa/5CGNiXvNzcTLVAFbTQaoGBksQmoHOXy4tYaNr\n",
              "yHrHPIA/20iIOTmjxb+3R8NnRdQ8Wr/fV8brJE1h4csM5/kAAABiAZ5hdEX/BYeCLsHz3QAl8BFb\n",
              "3k0usIH4N+cPEnLiFS1pqNMQ9JBjhPu9CR1TA5DKzLRzcZesrMyDNpIBOG6q6s8Bj7F/DeKNaZ3k\n",
              "hEaXSS1jrTlxflltS6nAB9uk/BhI5GoAAABcAZ5jakX/BYtBCxM+APogA+2wPVk2k4TjllVhf9iF\n",
              "iFJaslkv6TMRiiua14CnTo4kKyH5V1ddc2bOfTTPNLd/Cxj+5IVWePpRhO/MMbUnR5UyX1F9/Yal\n",
              "tGPbcuEAAAHiQZpoSahBbJlMCE///fEANd5OtPnLgf4aEGNZABlkejQHHT9vjQAgtX8nio8zpX7U\n",
              "aBqNkOzLxU+nEdQTKc/bmBxiUSnjUoUuutk4leRedOoObhDMMj9Fnl4GsgJwE9hquDCWdguEbpJH\n",
              "Le2idtPwZZC43dXWqqi2QtBiY1aOKHa32haaI0nqzr/2YANClFtf6wznJN8aI44rSKsUClTubVaX\n",
              "aIYgvjFAtCukI1J6A9cZDJFD5cXwgqRmxohCpOky+ozechhYUvMO9d3KgTIOsur9RwNKuIzXFiBe\n",
              "KyH9042tgKJjKs52rfbwACdecbBqs48q1FPXQjAyiqBdJ1GPO4hYp1Rqq+fk6ReDRKmzJ7/7gISd\n",
              "/HSqLDkVeolfZ6/z0VNOasqA/fhxNiV53CPT7+X+MDSJhfGRR+YoQyNiMVKBjZ+V87a2Q9qQHeZW\n",
              "Un07ILrnyY3jDT7fgM6yYhSLQVxlN9MIyQSEU7VDb72dV3JPP2a67SuvzueyBK91EwIQ9gJkVnsB\n",
              "AlrkTpJ/FrFrDS3i4ZB8fNkWA2vMgm4bjoHbpDC9dWQ2wKMIGPJfoiqLN+FgJc19xyYLSyczO3iH\n",
              "api9jBYJYlxjrpkPLXOlHC9MqwpMkUGfR53gkD8LmXHJUkEAAACPQZ6GRRUsbwQ89H92gAXygUi1\n",
              "AAfr7O5dWQ/ycQN+cleyi41y3iHH/KS5R8wgDcn2GIIylWqnCC3o2F8HZzsEHnqTOad1qVttNsa7\n",
              "+eXAknVaTKs+oLub9ELrewZSyK2RoXis1Eq8ZMSvqw7pGRWw8li75mDZOknAae9HyKRxFSsuM1Yy\n",
              "nvi5ZcBTjP3iGwcAAABHAZ6ldEX/BYeIWByG8TDxu7Z1Lo9XaCABbuR0Hm4kxXt58cgwcmhzU3Pl\n",
              "pxbGn0dpWW/5JPZ9GT8jAgIn+WEPYXvqDiAwKo0AAABQAZ6nakX/BYs7M0vDtPRTGcNoALX0EUBf\n",
              "oCMr0SIOdWHNWO9XVxzWzM0gtUs+ZQM1ht9L54tBguA3Z2zh89jIUqN94qCfw5h9NOP5gBeX9SAA\n",
              "AAF6QZqsSahBbJlMCE///fEAGuK/LKz5okTAAVGb7xvVPCAzWqiUPSnqYhPszmtNG+Nh9sq344G2\n",
              "rZfeYflYGen9bjVvhwoe8OZytlOrTDWMZR7l+pQT8Su8PhJ3/cu3y4xqb7k282iRhQy4RkzwJDHt\n",
              "ukxfU8M6m4tkry2g/LuigdA7MPsrMrt0IHfU+jsEj1gsnHdOTSLgtTk6vwYqz4QPBqfxOejstL6I\n",
              "wKTdc9oIwAr+Bybif1GuKbGDv5Qgo95PKu1rxfTAS7qOQbOBE1vxCfZ9moGnVuokjcKT5kCGhZuA\n",
              "s94U1GmUO8dk3kQVlcI47O6PVLJBPNSC4zYTTUZAgU5dq5k9gR+BjNnsLFCiFKRpONetRn/HLyyp\n",
              "qxPEG36DO9llMeFw5vm7ko6p7HBt56tnu39h5q9joOMn34rUDUvIkKwYxOkdHT1V4m/zCJGhVK8a\n",
              "QoyZ+GuN47He/Q++26mf6/vdOG5b3KdZjGIOGhm8RxduBer9M5xwAAAAfEGeykUVLG8EPPRnx1Wg\n",
              "AXQ9Cf0e8y81bwQ0Iai2d+vooghMVqwjCqRr9dIcXN5yfXToilrahD5PndDnvGbaDJMCkCyx835Q\n",
              "pJHuztzVDgVD2FaJmQZtoqevdjM+Zx0UaZVggLEvgR5eOu5GsiXhkYXWmDP0MABcl7S3xu0AAAA6\n",
              "AZ7pdEX/BYeBC8Ny5KPkJxYAF0Qga6rDAkz03zrSQQEkPdappkoA/quKYkAFDg9XJ15XI1pWBbwh\n",
              "4AAAAFYBnutqRf8FizxGyHAAnE+HfJS6oo8qrv4uXoSSKvomiKKsGFu3JIXEFvjQpumrk0z104+m\n",
              "7P8nB4o7ql111zgfmRiX9cmTUuaV0TKcrxOI0DhKvCAB8wAAAXlBmvBJqEFsmUwIT//98QAabS+8\n",
              "TNOoACDXNpGH37xgFcFkd0v59R7nATOmD1xThcP+lt1RMsV655gyqHBFSxXfW2ghmVKg9k0cqBKW\n",
              "KN/bDgI6GNbBq29j/xzP1mzrWD/GSapEmS8+TLlzLw7spI3D/WmpETm5M19NrmFyCsouO5ZwkO/G\n",
              "1X5Dk82zsUVBdQuo6/XAYtamVVKPh5y/HA+NogBOMAT4XP6Uv7HrFMziJzcpTN+b5TCOwY3XQiRl\n",
              "i6U1P/4WkZZkIAnHBzinFZfmpaJpJoEx9rcKO9PqHuLAsh9FDPrQqn7eLEqJ1V9c1quHOMn20qt0\n",
              "6PaTQrAgk0v3Qj4N3bKJSnaKSpk+x3/ACIMAZIetDV+z88UFkH4zMR3ZASFH4D09I6yXE+4Pzij9\n",
              "3GoXZdAQVY1rjgdgjfzWvoJOaYGGQoj0F38QwclIkr4uHBqLcVujxlA6h7DTfERzStxejL0ihDob\n",
              "hOB4zyL+ORiT/JGsuJiXgQAAAFxBnw5FFSxvBDz0Z5pAV78v0GCoUZ7EGCfJowe86W/epgEol6ZL\n",
              "vdVEJO6o9fIVw4APXjEeilRDu5qUSHTHeHsvcqVgPqYHv4MCvMj2NKlT1JdJZmGLHcUcIh8qgwAA\n",
              "AEABny10Rf8Fh4InAY6ooq0AC2mm8nD5FEMk4gQnfuQGCrOtGQhgfQbPQV5/Ymywb7NzSK/O1zol\n",
              "8tePNjegIAHHAAAAMwGfL2pF/wWLO1plkQ2MCEZz4mBgoqSLdL1ph7Q4lr/yuqjCE43radv4zv5v\n",
              "iFVCegAGLAAAAU5BmzRJqEFsmUwIT//98QAabS+8SAJMgAhGRc1ZcK92c1bYDRRkU5BHO3+SWxw/\n",
              "cl8JRnqfjsSPiojACufTDCRZXCpT/dJoQLVFHyg7TQkZYjUeFAyHzb6YsoEKCBlkqYsMpxulUIOJ\n",
              "Kxe32xwMfKUVJywb44QMYVpgIUGJ8efLl795IbOfnwxG6Uy/VnZeE4mdAXuc62IZDdg5bH/jEDbb\n",
              "2O4Sod3q9cOgB/LdkNFm7YXs7ZrhvySKM1OHFDjAJkQNvto/Vh77PWMslUaDx6peHVDNzpjuizkM\n",
              "5e7X8TvnZnImIJ3Tn8MTHwvOzT4lpWV5xWqbGBiX+X0tO9VtAZWA+BoSKTMApBS8K/6SrLEpf51W\n",
              "X+frBZChmmLMMwtnUQdBpa0uWEmOgy4aw04Y5budhCBKBACSmCHpP7jc14DfDpUsfTTO+98ix5Zz\n",
              "tA9IAAAAZ0GfUkUVLG8EPPRnmDyUnXaSODkf/7EAM2+DK5x2zK6P7fxIgBb5Z1UOH8AJ17+oCKbd\n",
              "0tWWGtMKOaoaSyhgshJssdWTLH3FRlD35R1QABfTLskmVs2oF8dqk7UY6Qth11jA4XE17JkAAAA+\n",
              "AZ9xdEX/BYeA28naqnnHT2AC6D+IMsxbqolVdVOrjrmyC28+VP5JVp6R+GnCiyvBt+QOcufpR730\n",
              "YAjcd+AAAAA6AZ9zakX/BYs7WARWPKpjx8SQI3Cd1CLMHLUOYjIPV5JrZWw1wAJaJE4QzpAlsDd7\n",
              "P6S6JQ1Jz9wK2AAAAfFBm3hJqEFsmUwIT//98QAabS+8SAWmwAmeLVPDOdQSszS/sD3sb1v7uKFi\n",
              "YcLrJ8LnMkuecuTr2d0obyqsN/j+h9Q983UotHLVFKtLubWMcaPOYAAo29DlxxzT1Vm1i3U5f9C5\n",
              "X5dwey3i/83BWZ+Q2O9M93spMEFIQ01G/NHsi50fR4TeoITQGSOpTwqO0SdMMwTIcuhnTonMvoIh\n",
              "/pO5xJy3glXeMs+pA61076wSpYRsPMF7afkdE2Jy5d9hjdjaZuIX3//NioFsD/On3yMQxebo+0ri\n",
              "iDgRlh4LevRrchqbCrkIanjxtw82C8wO9WVw3l0xIzZkeR/O86P/ICEpLUnm4m4L1ItJIsxZGENM\n",
              "J+PQqtQeh5dEk5BPD6M+JRlaIovMpOGv9J33Yq5ervcWOFyAbC6VGIBd4eC/7XjICtQnWdSWk6pq\n",
              "Z+knWdlXecuH0iaOWH7ksSYW7Y1P5UCia5SOVzsZTnjtM+AN4G3F+J+DgPg0AEPVeP+SV/Y/AUUl\n",
              "vwlRuf54Z7LVSkWnSOAltvt1bGUavJTMGPJ3GEur7RdkjyRrOSjy5xedfWxcALB7FXn5H0Roo1R0\n",
              "KF04FiN43R4JAAm24Z+K1vaTFomNy1xzuWTygFQNIBI3U4lR60tQ1mIcUH1dGBTZYl49Rt+c/wAA\n",
              "AGVBn5ZFFSxvBDz0Z5qvUszyIz3DSe+wPL6hqxMu2sUekULp8bGYEkBNt6ozGq+6gJwD01AASvmK\n",
              "6/zuaF4K6XMjcXBJbyjwjTKgadsEhf6x73wHgQbChNbeM6EQFYxZ5rHXaufFjAAAAFABn7V0Rf8F\n",
              "h4IxtxgA7iA+GTmrOUz/IYgUTX1LsqIEfJ30WL9fjva9vj3x4FDubj5CyJSLb3OkAYL/l5o0/XmB\n",
              "1GZytKWfSORcpDTstLkzYQAAAFkBn7dqRf8FizxGyzoASX/rtawGEZ4skibhherKP2OBDV5IGCuL\n",
              "EIUF4vgdF5hTt1vlT/AZAjlxymXGQ3nIo+lHfinILwhXCe1YGwxE/Oh0bMn2E4uUIOXfxQAAAXJB\n",
              "m7xJqEFsmUwIT//98QAaZwkc7JwALXT+KLRIGO1S1dx834wo7KPUoF3sIvjisJkli7fbqlfAVaUD\n",
              "aSvFdUFdVhD12Nv9R2xy+peeE8RYaG/ADHl2NQ4O8VfiGWo8F6caOn65C+u8rcQMR9RNNrodFLhe\n",
              "AiAvfjHZ/nES2hGHXLnx3eCV0BHnq9tyEOfNYlS2zM2BvHfo2Ej8mL53gsMCzfjDSOMk5LClLWRV\n",
              "qo22OA2VQh2lJFBp65Dtco1K/6fUlYNZplr8dMFkEYLGD4d6UN0mSWR0wz8/b3BYwMRYY3COvNfh\n",
              "GXJavLDs9/xIxjWxwq3A4o7mA+Qj14DbnhA8SI2nQ9GxtsP46Kctew5y2EoDCHwIOjEpZ98UEliL\n",
              "4PGrxKJ93mTiUjJKnov7nxbGJI3IxVjRTycf4LfmWM0fXLYOR/f74LnbTpnNmIcmQl9CxEcrBK3p\n",
              "GeEoQutstcHckhqvYjc6xQz2e8Am24NeKK2AAAAAdUGf2kUVLG8EPPRnmU0iUALa98OapEBd9M9Q\n",
              "XPhsetkWaHlmsf2N7jd4D5Tt+C2xgj93WRq52ZJIiqGSnjHljZKcnjvjEcLs2GRBsg4EJEZ0Pyqh\n",
              "uusTZBFgQu5/0y/9Q5yoGB6DRQDGmp9NlORa0Y8KIiChgQAAAEcBn/l0Rf8Fh4EOE8rOir17Fpzv\n",
              "CYgALaQO4nr1yeiDTo6sPRfxus001LXlkGn3bXkuIUlnB3VOug7gc+SNC2vblN5dQfoBHwAAAEsB\n",
              "n/tqRf8FizszShCqgiSdGC23qAEX2L4DJMwg/CbyHbjLLXNoLO51nAOcBF7IlGc9xLORKR6/s+MY\n",
              "xX7ZW/qNQ539XkkrZOegPaEAAAF0QZvgSahBbJlMCE///fEANdsO20LjUAchX0AGKjXH3rVHaP/k\n",
              "TtHSfBgkkpCUa4lQEhTybEh2v7tn1HXsFU43kfWTkbiQ0/hfO/a9Owjt6z2od8ioMyzPbs0MIV7O\n",
              "9lR9tpJVRxA2UXh9qTuhGBI9nvfCk2WEnUNtSMvzakGkYp+n24kPzv+8Xt5QYkHnbnLTmc6MO1Oy\n",
              "6K+u5aGmFl0hwv8VrffL6KH/kAYaUDxQdt05u2mQma+iwUVIJnjbpM6YiTAf7p4MrvKB6vgaL2G/\n",
              "tWa3sz2aPyyY6R3BaWczHMZ6Vfmrs8hPjpt43m9hkJqmavGGkvSSAZIwXcJHi4vEO0Dr6PdoypT8\n",
              "mrUNmiAd3evTbT1fr34EVS/Zs7BmClTzM1CjBBMCASPZFQVEbWkFSolRsd0SQ+f2MbNLUyTvJlTr\n",
              "JOIZrDOfuBKh02pNTxcHxyp7LZbXzoGFbgGr0dzH0CVqA9ebVOBRemoSGiMd0XJFfiGtAAAAlUGe\n",
              "HkUVLG8EPPRnngqYALnZoNItB9LvHElzS7mmqCn2IlziTGzgo2toi4nuT3aZ2XgQ8YMgdx3fzk16\n",
              "nReNboODDZN1tODYzJv6N187aVDgj/E1MShelzyGUAlX2agQh2G224LCxW17MVKxhJnl40w0+vcu\n",
              "/B+7/Aucj+ig+08yJIdxG3s8Jm8pQEkBdCii5cIp/frHAAAASQGePXRF/wWHgLgzmGK3xgALd2wn\n",
              "quIHhHPIklnxx7ZDrqqZGgk0I9qfzFjIeCpuXv0Y+TVl8IdsQNsJCINC2OQImgo9Ycc1QXcAAAA9\n",
              "AZ4/akX/BYs7pPwkyvsme/FZhCVzrzlmkKy+v5NmxJIzeFkHpwm8bmi2kAAtpM+Xnep1P/TJeeqg\n",
              "lzQccQAAAUVBmiRJqEFsmUwIT//98QAaRkAvAFAOw2X+ZfAimYlk37uTM4OHpPOGXSCnVOoHPzIN\n",
              "HFmm3CGOWMCWuIeWpG0u1+CNvwPIbRaKRSs9MQKKSXjIre/63VeU1V8lSmNOzKyPTKKfQ6aMKS3k\n",
              "Q+GaDDMIII8lYKY6p/9RCZLtY15kcOEiXtikuWLTPUPz+psIei9fuCmxi1Yv7eF8gAcPDhalPKIA\n",
              "41r329HvYfuSBeoglILBNzEFm5yOGotue3YVRA+do1ik3QG8qPcgzh0NRKuFTZE8SvgwfPJ6hiF9\n",
              "wfP1DFX5NfsPRzqhC81L/Jgqu2V7yFXVVgvDjZBSQCBhrqovATcHoohDc0uYa8LFwtRiCP3YQGHV\n",
              "DrfAthBa9F82c5u7hozSuvZ4ZdNBeuy+OQXJ4VPx1NWh7dBxUOLnw/knb1lcQtwIAAAAcEGeQkUV\n",
              "LG8EPPRnnYRqLHaxbvBHlsBkgS4DTC3kEWGFPEXnRVU0iwuRh/UAfcVqR5rwmx5wwAkgYu2Ej6Vs\n",
              "INOicb9We6ku0i3oYzXZb4MdCzU+w2IWIOv74uCkbItW60gJV1d7hWJkjHMsxZ3peEEAAABTAZ5h\n",
              "dEX/BYeCL2ukwunkq/kIAK19NxQV2MU5DcDrsMKuRocvMCEF0gFkXA+dcRogi9cKZ6GWS5fW2uiK\n",
              "T4Fy6sHiGEIH4V4lWBG4gETWqBVyOEAAAABXAZ5jakX/BYs7WrnMABnrivDoyKcM70HTPvJgh1Ev\n",
              "P/rcopR19u2It+2E/HwrBJzgmzU7gzA3dRJS5CXQoMFuiqEk1PTAxdi7F12yXknDsjTTFkQ92EmB\n",
              "AAABdkGaaEmoQWyZTAhP//3xAA0sA7yJerDANO4+tylzYD0hdz2LeK/0zOZvEyLeq+UxSF18Jop1\n",
              "mce9RL/3G7FHExYRn6geIil4LSbvRdJgTtai3lphIhgCvrMdbv7pGGpcoY6yhfKMQLr7xJA5WJjN\n",
              "3GgFuwQCvs+cha7LrjGodbrweHIyppaL9YlQ/sN37DbsoVbYAIcX27oUYPKFelUpldYUbBzs9rpl\n",
              "YyEjiPNLarknSskv3IGHSJq8HGkoro6D9spOqJxB73T2iktLCaf/4IcydCtvQzvBOC7DYG76h6J6\n",
              "NoBowGiV+Nfq/H6q79bF78U9P87qDkbNlJq+v0+j/mWF0vPRNGQcf8UXG2wa7ZgLo6ZigkGPTSTT\n",
              "rbrx4Vpxi78VkNS38HbEBUCC75l24EfE+f/dEaoBhwIAGkAf9ivSVUMoFBLUkX9Y5v6Lc+T9YWk4\n",
              "b3Ad3rtrThtQxOXC6PUuvVobN9O8czb4xzCVUQcXFOUKSqUhAAAAe0GehkUVLG8EPPRjT7jrIVL0\n",
              "95fAFhEntEJ82IRkehvl7fzrWOc+Cz7w52v5RZWscYfiud5Jn23vRfIRlbdr3Dk5QdSGxwLp1PmW\n",
              "SDJ4DbkZBWFQvhdr/rkEKBRVTsTxtjOse5vZDJjmqfc1u7iHb32lwlAgDGAStXNgIQAAAEYBnqV0\n",
              "Rf8Fh4EOE8y4mgd8G7gAuM4hmqBDMNQco8EX3R5pdQbPsdTu0uCENKVhLGzunOrqLRm4NqlJ0PCu\n",
              "hEUyJhgH1DuhAAAASAGep2pF/wWLO1ialfZGYx8DcKAGxc+Ye+uQRifpo3xFOXTSFUIMAKd0bKmp\n",
              "wnBwY7XBIxddcZ8O4ct2/VkFuuQqSkUMHBxSgAAAASdBmqxJqEFsmUwIT//98QANK9ItIAX6YH8B\n",
              "eNrNSbEAcdtaucrkBHGjlSY2fEPLOLwqhl2xTkA3lplpxwLn/g7cPz1uD8+ylTaWWei3mZO30qIC\n",
              "/Fk8g55gfSSVnLCL1JEJRoiHAp3Ar0IzVQxYYPRcr7kpafhMX4XzGnw+gG+s/yZaaL1GCCpT/uP/\n",
              "fQOitGYEflemB6xgH5zNY5jwbOIKw4FvDrhu4sjGLn/Q/0lsDpEUOCbAS/S4KYhrruHVb6i3QEn1\n",
              "y83CoCO9p5SbhOunPWNKU9ITIC3TDjDxOwgjbce9smfcphB33o3ED3eQI8GpdNdIhj8lhIOlG37E\n",
              "MkLbT39/QvG97I/Ayi5kMZ3qZmv/tp4zSJJ/j3S3FSJm8xJuYDmQLidUAAAAV0GeykUVLG8EPPRk\n",
              "vXy35AKJMI1yyIDrYG8KFwOTI/fZBo+uRJvYVBuaux6yBbHXO7S+VXAERU2ty4CuJziUW3cU560x\n",
              "ViKE+8Md0HndHZ3LPEqsuwWf0QAAAEgBnul0Rf8Fh4FqmMzIGsfPMAEYH8XSPwwzKml6AHoaCXbe\n",
              "RJulFdpB4Qi0+nkTJPA6dvIpdRf+F4/HWSXKCzBFYJW6qh7Qm4AAAABTAZ7rakX/BYs7qQotnGtA\n",
              "AsJ3uHlaMIsPw8gJK9amBli1GavMzgR7Obb4MCB1ht55pcRnpruPbFbXCrkrGjTn15elpjBSXR+D\n",
              "SQcN2sBtbXeARcAAAAFZQZrwSahBbJlMCE///fEADS0CE68QBzBcUrfudS6g8j3Xc68F2wtheYIJ\n",
              "u+jTyM7z8ixnCnIXg+Drcl1mb6UHIo2hoeB25/Cd2X7Z6FPHkQiuhLpz8Tye53tPfBxQwJ/pQtyH\n",
              "hYx80VoUKzIkd0VcoLWdOxxpQgDt2/Dcum5esCZdySMP7U1RGWFjjWJJmG3QwzJkUjlmSwXN3/l/\n",
              "UJEdamJYbD5UQgWmVYU1JfmPYCfqooWZNKVpZyFplg4J3YtxYVsTISutx/m/EwmjfsY8bS6g9PLo\n",
              "/TSLsmup4LK7Lbo/BqsaOdDeMmDDlUhI732OPWv8ThCTE1EwOcU5STgXBNkgcVAtJYmBi5q/M7r0\n",
              "tlWmeefBW2jcjOg0lKB9ampnXK+IxCQkXdcLbJFSAO5hVk5wvxvBLG//ADz53+9Zioo6ahhICkOo\n",
              "A5QPPT8eHHy1qbQzdSXxxxs/AAAAVkGfDkUVLG8EPPRkwAbYlGanppywlE7P/x5QA2yw3JviKBPw\n",
              "Ou+Vlvp1hhgbEJtoh2mAjM3POfdxQSQ0xAIspwz/LxrMGJSAPy6BhUkL0axAM2oqSS6JAAAAQwGf\n",
              "LXRF/wWHgW8nlZ0iwjsjJVpUDbSoa/ab70XYaccu27zyCPGf7voASZdUEQA1gws6MkHt/0we0vr3\n",
              "b1mW7ctOC4kAAABYAZ8vakX/BYs7qM1YwAlTQEjvfbXKvdoIQHLghO85XP0u7QvT6Q4ZRyuL48LR\n",
              "INBgT7kZiVyiw6ii+0dFN5QVpRCH+PAMgBp8cJGjBNjyF8SvmJo/ox4DggAAAX5BmzRJqEFsmUwI\n",
              "T//98QANK89wgANGRUWZvKeDcVQJYAyQebTnx1oP3fvYwB6+/x/NPytIWhR8aUHrbGLs5GhfOBPG\n",
              "AGwRAUKBMV0P1QisgYld+eMZD+uA/nCJ0Dc1Y9viRTqspIS60r398YfbMvAr+9KPRc2llLd3yXf9\n",
              "0qtvgSeioBYcd3Lrnkg4ubTq4N5+AYN/jfae1e9aMabkPbltzJ6KNMsNKhrLPUIsL5QvOGp3pMbc\n",
              "PmxVZ61jGxb5CKO3kTQ8cbQ+YmDm65zTPeRgujwzHLuOSCGLy/9vgDGDRF2VetQSvvX6SdiOnNVa\n",
              "wEH710xVLV0r2cIQ7sQX+4hLy+lTueBsRvQR0wJTAmTVCKIZmnfq1gu3cKB6ZhpUAwNvCUPYcg4a\n",
              "Wecx9Br9kslOHtd/ENx7cFuN6VbqRy9PwD3+0SkEulLbFgzo4/4+rMykjR/BmSj8joMD4OSiJZXJ\n",
              "XjlaOw/EOtpU7uqIiSNvdqi9c5jK/xougPd4AL+AAAAAZkGfUkUVLG8EPPRkv20NwFwA+5WdhSZP\n",
              "1F/0mVV6wAuM3ZzSuqGbJ0IcdJzq9hZ4KhYpzMmCUy5ngMXFZD5asvjwDFus2TQyWtt6ueZgIz01\n",
              "WZGAn24EkSxvKjrKM94QVj2gaawYQQAAAEYBn3F0Rf8Fh4EN2QzqtEGkingAV4xnlCfnRaEMLvqP\n",
              "jzPlnqF2hh7bNZQlzBqCbNkFNOLph1nk/w2Max//SjXwPsaCL1RQAAAANQGfc2pF/wWLO6U1K81L\n",
              "fMK9IhXXgwYHLrWbnG91dI42S71koQscXG7D7ApTQ6oyGOgISCNgAAABPEGbeEmoQWyZTAhP//3x\n",
              "AA0tamNFwAVh1KFOBTiKzLJWw/iqVoeKL+q29XlfsGAAoso3t2/Y4flrX0i9JBDrpubPyQ1/zzH3\n",
              "Wc1ZkF4vq5MuTuC3j/03J20MVZSTodY1zldkSIIM0G5nwJIrucRZLryuUEvuiNOb1D3TS19wIVpH\n",
              "5HvmdGvvilQMBEkuF0NwclJRkZ6VHzMkbh9GI6jI24wFiXWbMddoiAjtvtJzsf+y8KvyIKBoxYtb\n",
              "KvSsEtLblv9YJ0wdndqdakBfBrnhSmAfTo9xQSEofrhrEWcArZWNNGA/SRqDp/5O12MGuVeRqMPu\n",
              "MNyqVQept4akCKS3dfT42nnGxxvLAfFN3MKY9omH7QWkgqhyIFndVlvQyIcqhm2n7Vn1MFhBZduw\n",
              "XiE0gDswlMu+3FYlLjha5yEAAABPQZ+WRRUsbwQ89GTABs+xfR/fp8LwgM563KrgbuBS5SZ+MYR9\n",
              "z8PCrUnybrx9VUlmmjT2/GfJsgdjl0dcv/M0zj+7706kIAQCKPK2M+NfxwAAAFcBn7V0Rf8Fh4Fq\n",
              "muIAAtpBYcoVkDb+IEKA9Pc/GDpWzKYovoDuNRsEuhoyEjt39KnjTW3vt8Sb3I12Hq4FM7IsDV66\n",
              "Q2GqaOGNus8BLaDTm/kJgSrdAzUAAABTAZ+3akX/BYs7qTUq18vAAFtNN5Qzkze8fLZGYtmFnMq6\n",
              "0sEaxlIJU8xcv/G5c4zhKmU6AoQUCWbMzs9UYYw/1m7XhsKr4tP9iELWxR4QEsCG2oEAAAEhQZu8\n",
              "SahBbJlMCE///fEADS1qUiCgC+pta5ETHBiougE7W16SSN8gOJseXS1Whtd50hBOj3seXOgFCs4T\n",
              "IcvAAxsoIMgH05ojLbWA9W9eAfc+t/5lucAkXDW/O6OEbHYyZE6ZsEK5KWKK68jKDOIYDvzGug+X\n",
              "diCfm0Nk3tZIfe3v/fJXw1DpIA+vmgEuBu7z/vfPDCQDVN6ouo7hzXWA+aU7zJ+ARwmkiihNA/Rc\n",
              "JlTI6jpUnfOZC8wgfNLkYHONe1VG2FrRQnuue7ZyQoaddcFAEfaFQ+De8kjSkyfVBMWassw9gJjo\n",
              "97BaXovZ8o9oAQeK4+Uj9Um1hZgBUQ3CmUPo9iTNWSxWGhobRSNO+zoUtT4TtIkySa78zzdfysRD\n",
              "pgAAAFdBn9pFFSxvBDz0ZL9yADX/tr+m+gIK2lWqGAG7KrhhjWiHzL8HKa8Uk/RziQnRITmLOziX\n",
              "i9jAEEtmwTeNugI7RxVq/0w/m6XQ+rlmxZCBCs4/7Lc7OeEAAABLAZ/5dEX/BYeBbyeg4wAi+xtq\n",
              "ylVqhvMpPgAnzzs+SABP1jP4Rpz8yWOybP/hy1gcBVH48ZoCyGVUbWln96uEjJfuJ4RdJFMDvhDw\n",
              "AAAARwGf+2pF/wWLO6ggUkvnPa/qLNTlDrFw8AIsgRK9XhG+U/CXVhmioKjohwQzeAbYOPUjyMBb\n",
              "KYUK8jhyg9Yq3rMNgB0mzBBBAAAA9EGb4EmoQWyZTAhP//3xAA0r0phoAV1GYis5QDL084S8piD7\n",
              "v6wUF+skCp92pgZAh5EAL11QijN3rbdqcDw1aeN+O6YmzhvC6JCcddb0CtXkPV1VG+Eml6XGAmJh\n",
              "hMP+etP2fW3Jz5U3LhlsG1hjrvsU7XpzgFKpl2tpjuacCRLeK0rWJf2aKMrUoyHCL6WQKuL4GfDg\n",
              "GuIagNNgoQmhRfs4Sjlz6DxgZmPDBmv4l+fP/9MOP9PFzePTms+5B7ISROpZSPzSuGOkFEoLrosq\n",
              "SkiIekYXWi9JMxxUEcwVUhwOd5bjhS5faE4vk+D5OGpvGOyTZGEAAABdQZ4eRRUsbwQ89GS9KgA0\n",
              "ymnqptzWLWGz7yEfkfNgGGpT9C3zepsHdWzptIhI8kVsXRb1Nvo0FuPOpe6AYQ3/tsmARpDDRWEd\n",
              "Dhh6o3jwAcAIXCmQIHsSLzbXk1U0AAAAKQGePXRF/wWHgQuTtY03bzsIGEgv1muj4AsdrwZZuGCi\n",
              "cTokXy4BVwdcAAAARgGeP2pF/wWLO6U1K8xkVcLkSfFZAALaQO4kOYk05Bl8/b44ZY8j5hycN1Of\n",
              "67ZYbwtqhTg9+mXFRCODeBSdq/bBBAD1Bn0AAAFsQZokSahBbJlMCE///fEADS1qTPSikAB0As1d\n",
              "A+Pd2LrhbhysIcoPaev1Js0CoGdCrR1FHuJMe4DqibA1Zpys5k5OcDgi2tJ/2T/wd+CnSQF3dujU\n",
              "rZegtOUbVTDT1Z18GfZWhyB+zKj5CB4eYOev1A8Uc7Yv3qT7inYyVAlr6iqO19BikuLWymHpBexz\n",
              "wIfDW1fBUnR9kTWe0k0FbhHeYND5ZHxa06G43azNeOx2rz623Nk33WXTzFGTbFob9XAXkfLQ2UYB\n",
              "qfPkbcanAnOC1IWkTuTNn9LnUxnHQx1QuIsscxVr8Bhl9A791Yzr8U9+6g1HChbOVFAPxfUvbSAF\n",
              "vHxa2fLNUKfFRBn00mDrfE0sHbgrYhKkmOiPhwi7CojlvKNVktB7e2arQOkv8vaK424TlU9f/pBe\n",
              "B/f0qmbxQVL1sWt6hqMdYWfSJPlM5XZqidfStMwCA0fqNq3UPf8k4IFsUzUw0O0hZc2/mAAAAH9B\n",
              "nkJFFSxvBDz0ZMAGz7F9HMigmsTYiGcZ2L7BuZ/y4RvJqSekWlou1C8czzI5moo28CrvIATLmZr9\n",
              "4r3PFsZH993bpwNY/2xcL1zj9wsOB1iMp2RmXlJZIMZbNYA7sNH3WukjeKPxuBH//RYxO0ocZsBK\n",
              "/nam7ekHkJCu6JyBAAAAUAGeYXRF/wWHgW+GTkjigALkaq/evvnNlthp8nYhp03K44RhPaan+7KF\n",
              "6NHCPmm2xhNO2gXVPW4DQqXfs3ppaNDxW6m/AfsinUv7DjIUgBBwAAAAZAGeY2pF/wWLO6k1RnGA\n",
              "A3YCgu07NgrzgAuXr4B5A4CScwBObwqeXv4iFkxqt/lZxKdGHSxvKZzI6pc1DdxF9Y/452kpx+zz\n",
              "NwSSb24QEpm+beKjsPmxJzuXtMQpZAWIACHIn4EAAAFKQZpoSahBbJlMCE///fEADS1qUqeAAcTM\n",
              "B/sJr0tDAkxxNS7/M4YhlzbY5uGqbSonZ12MYmmpgjrNNxwF0x0sZyK/N7mm+hqe9mtDuGug3+XG\n",
              "vRys5GwhNz0xflgcMnZYchM5relTAI3YkWDvp9iGs6IMkUMsnphVZCOk7bo+dTme+GNyzOd0+BLF\n",
              "++fetUWJXS2T2DAZznECCNrl+qy2wTCY+bNeFmRi9JEwQXLqVMQyxdEhlqLG2DPYDQXvsbv9NKZK\n",
              "qHynmlu+UPcQWp130ejEAGK6ccJbooRbWs7Jcf/d90X8VyVF/e2fTq1//0Af74E9X8SBZ6GETaUK\n",
              "PkHwE3//MZ8vYmn3Lc/C/7bH1YhpaMFtP5iMXEBWPyoIuUWVochUZDRMsttPE1nYZXo4+GsaYZtI\n",
              "Tz7ngW1qidzTbkml4L1LJwaCyqWBAAAAX0GehkUVLG8EPPRkwClon1jHX8tDed0GFgMnqwASvsWP\n",
              "OjqZ1FzfiKRfCAks/JDv8BR+TB/XTj2VpSo8T0DdzRHdBAWO0dTBnNGQMDP3UT8nSCi56Y2CEvaw\n",
              "AWY5e3m9AAAATgGepXRF/wWHgW8naEYQkHuW0L3r67ACL7bXNtNq3wfXFcrBUeG91Mm8Tb9peTPM\n",
              "8o1uWV1JZSVAnd7TkXm0HxlqsG7zLqdOSK5ABMQTcQAAAEMBnqdqRf8FizuoytzXtroJ1vE6HwMA\n",
              "BX+95GG2z+1ATgA8mU2m6Gd12zxNLOg6Y8SAmSwmX6caDLcZnGULEgfKwAH+AAABd0GarEmoQWyZ\n",
              "TAhP//3xAA0r0bJDNvEAVgoQBs1THvJLekxV7XcVMG2d7RrtDQcwDyT7Fhmo9luxkVY/yWJOlmlV\n",
              "MbpWKyKVqKBMW33gAGKRq7VE2UgvmJ91e8YA4CgfkcJ19SW0ofvPl0THEKm7Vl0sFLMW5Z/YvLZe\n",
              "dDBkOXDFLaB3UAyP66ptW7+vbDtYvYfzmdFQYd9PfFVJFKCBykhO6kQbB4RnWhAgVuTt+3D6ZztI\n",
              "lZHr1E7Y3llf8hM4sBkZCPekeqLHoTH0Nb+UFumSkHx3BZbFjDhzHnLKc5Vvq97KX2OU2kw0RsJo\n",
              "JZKeJscg1HMZ4U/G458l5d/yEQd9VElcr1FF5WwGD3SBot2FzcEhfaebzcF+4hJsqpAfOfDhpMn0\n",
              "MXwNuFSxeg1ILcR48F65x0yMB829Sl1OOxpXkYq8HtrMqUAGm6V1nZQ5Llc0dAkSc6tL8R1ZmbuI\n",
              "NErC6/o/4hULHIoZlx8EYW6IL4OYKqfhiQAAAE5BnspFFSxvBDz0ZMAF86EpPqKxg5LROU3OS7Lz\n",
              "fs4m7yv8UeFUXbBLeS/eQaMBalU5LDVr54AwjSHtZVtSVUyeaTVJ0YHvKT9YBznp6qEAAAA6AZ7p\n",
              "dEX/BYeBapjlyUeKxal8Y/4M/tj1OAAPySurl2IY/LCP3ejq9NkeYjF6iETtSal5Eb3vAABqwAAA\n",
              "AEkBnutqRf8FizupCd5oFVxYvLubS+4Kg4AEr6T7hu3AC39soxqXwSXPcBqB1tptLqu2kWueG/dN\n",
              "3F47YWLBqPOUWKZuYywIoA/IAAAB0EGa8EmoQWyZTAhP//3xABpFM6gBW2U1Js1aQQc8ihcgzQvL\n",
              "8lKit7MFn9c73Ehi6x+fTYYP8vYNN7GDnX0Exvi2AT6pTxP3vO4ZeVQcdPChuwSrGAIjGK9CL3LL\n",
              "EPTvl5uQ0dYew4D8nM1osZZAFrbVUWn+F/nxlMgWpB3XefhKIU5VYjLYZsnFRY7qQtfYoSfkfF62\n",
              "lwj8rV1ROMka7KlLbEiUQkVLM/Dq1/85x8I0OkqiSCbGXkif5Cx65ouKt9aAVrVhYgAtv8aaiOSe\n",
              "EGCOXpOVOrmVIuByNmwltzw7jLClMdzX92Wm/t69NhwbPS2O2BbmZ2PRB/gnaQdWwPxFP7ER0HTr\n",
              "+VzWXn6NidTtBCj8IuljFPt9Ox/G5gkijH999rPotPDh1crreU2KnufLODLbMCs6NS9rQ3vpY6wt\n",
              "tN1ffHgGYIP1LM7YDDmcVzfGBNqdRrKndUy3xvGqtzZ9lckpp3hOJ8/hgZDduKvDU2HUeEpNgfx1\n",
              "UVfZ4Qn+XeeIpKU03Sz3Ur+nD+TVuazIUfd9fIHU4Qd2mdY+gI07MdgH0swmvAJ70W+4LVWTtU2B\n",
              "zLt/rQrCYn0edyjyASznqBL5jdzYByERowpx4DAhAAAAWUGfDkUVLG8EPPRnn6s2R61z18mQA0b/\n",
              "sju8pHkWy9/ZZrEp0WvI4Z754UqRaCgDEhx2NDsSldCCQaHPY9d9T5Sa8z6EWcDYjlu4QQSGZYLv\n",
              "ajYBwAIGFyDhAAAAYQGfLXRF/wWHgW+J/MABuwEVvdASfn1DxZSa40mxaBuoP4GWpOQp8F3IPT00\n",
              "bjnrgzbBkI+Ucq4AEY4Oyg5EFqZqjUrTSm5spAGs2Xtxif6wraqPzrovDXpPql4IEAdedmEAAABg\n",
              "AZ8vakX/BYs8Rl7F6zADUQOAN2ZqU71k+UusxA1vlz0HVMPg30GsITzlkMXL8tz47lIoGj5YOpJe\n",
              "TQgjHxvP8r6Qpz9/YwQExb8F1dW7k2787xAHAP1ac0kJOCYAowOmAAABqEGbNEmoQWyZTAhP//3x\n",
              "ABpFKfACaZ0wUh8FjGOHNL5JuHYofNnNeEDUuqTLpDck2KJ9WS/YdqsKwxTrUucCGS9pjYzHUNBl\n",
              "F4RwHeI4yT2cmD6d3JIyd5naxEAFXNvaWkFw1cwAQrF986COkRLjcgA3T31pRNFi1mT/FQAT1DNe\n",
              "2X2rBpl+tTJoU79XTaa2M9VWPjtBO3J0ENqYnpPoRjD12cSDzMtq/RWBgAYHJTbwdEzXrvNKTIQq\n",
              "4nMkaC/zjvZXf7bE4EfEYIE1VEMyt14Ta0yo1dnwEMPOj03++texqmL1kHDy+U+S41/z1jlGPbBu\n",
              "+EN3n6S0oWUoFXFfHrluIycff3mKcRYzvX8YyEybjg1BrVKkbAsgeSbLa5+gc7HGNxd0tq3fatcX\n",
              "Xr06jsLo+wOm+YTGCVkkRf9imIWhweFy+07m3nznAYNByVKh8KZo36CdL830Ka10SBofcy4nEeKw\n",
              "gPbR27S4jkuVkla3GWykd3IdtlBsExuvdiibeemRpfvT/2G/zUQq4DB2+mCguuVazlyf8diqKAaY\n",
              "C6Ea+XyK6MWOEnAAAAB3QZ9SRRUsbwQ89GeMTFSzqBD9ACPCGAIE0d4eKefi3YJl2LnCODJboJUH\n",
              "dlLxEFs6EdVmP0VEdFNbi3abyNV322FTs1ZqdFF3AOPrTsjDWYkpI5yAbHJB2qyGaMzz07vmnFKx\n",
              "/pA9ggkFw8L3hGgGtUwwDMKxpoEAAABEAZ9xdEX/BYeBbtebKHngv8B0gIgBZzTeTkYgp7LJOYxn\n",
              "NwjC0M5Jljt7hF8H8z3gH7PEBKxeEmwou1mC5ipk7pgAO6AAAAAwAZ9zakX/BYs7pwTV4XKxxIyj\n",
              "6Yyyi6ic2N1zou1npAgjsEdtk7jQB7hUo+mKkAi4AAABfkGbeEmoQWyZTAhP//3xABpjmRQvHSdV\n",
              "ABcj8keyn15je6lUU1Hn9ozBf588e8l5+TC6nDHxU0n25Fmuq2rbq7vddf8f49v+jgmJedrSmPNq\n",
              "Kj3qfLqMhOe2XdlHGqtSUeYScWtRITTuXE2kJyGwexf4m3OM2IZ0u+nbgjc8tnAu5+DPjZL0cgkL\n",
              "/+dW7WPPl/x9fk23EVmoG3eqrQoOKTNgu0y3FKGAqjXi6YraaoqxalRoESgAxoiDXG4tCFhrH0+J\n",
              "AtAzTWyvRfadN33GxCPAbfNkmP6RGuoAl0j3SRwCi/yQqnVKgONxO1Mr1FMt75yR63UkRa77hkmn\n",
              "1kkpJEZ4ergmIlWCRgTDwF/RhpX98dN0FQd3xYTSDezwA0Px/aRY6M9bjLz2nYGyN3VC1bUiDPKQ\n",
              "hClG+FJy8hr3r9TIQ9gHZTlycEkdQc0Ojlvo3nvL8y0blfU5MZdZtPmCorpmTwNUOVhZ6LEkpV8t\n",
              "aCyf02VBXecGbTbtr344TMEAAABlQZ+WRRUsbwQ89GeYPa1s7AAJiALLPq03xWWHN2ry/Fopy2Ap\n",
              "CEWSJL8x4pIquooW+QYeIJLuPf4cHyxcgWRvo014cxcKZ7lDigZ5UZ+Oz7fEHbCPZRepXPz7AGdQ\n",
              "YAAQYk+VeRYAAAA3AZ+1dEX/BYeBbq+DUUA9QuFuHspZV6vltZKVlNxEAHp+1lfjFQ25sV9kLKkv\n",
              "zfx78KuYCN3jwQAAAFsBn7dqRf8Fizw+0tAAfklKkyeu/S8QBO4JhL54sYbba/ZLdTkSKbPjLABH\n",
              "34A/6PVPbHJbdOJsSKf54bGlxZWfruqG4dJykR4fTAIr0SURWZieHYOjviAEbk85AAABN0GbvEmo\n",
              "QWyZTAhP//3xABph+EOJJYAGPa8NT/Yyg9q0hRnSDSr50+Z3sQjbFWZNZFQawn/7dfh1Lubc0Klg\n",
              "YzLQOohMchDduYa/kO7AbxgdEs5yFhWu75y+tZzCumgeOv1uUMulIcVAgp67aMQkuCOFNc1UVHEG\n",
              "c4Dr5Ab2as2m9qUD8Bc61dXCy550tEtdQmc8MuR3kGIiT4FaL5FBXWp/azVlKgBkHAXyO2v8vBJI\n",
              "9z8GHA13dlt5aECJ3s/NaqhkV2BVwrmf/p61k9BhrbwVSPzoRO7yHQ1RB0edadyP76pvmxT3T01J\n",
              "COMku0l39AmuY9FxAs30LJjiNf/c5cH3AqDbWiBJTCKk2MAwhbTtowdRF6/RliwD1X0Zk9/mvduI\n",
              "gK3u8eVQOnDcw/GFfFyv5VF3jxSQAAAAVkGf2kUVLG8EPPRnaDm9vK8EL0jAz713yuzudAPaNM0M\n",
              "7eRWWE0luQKwxT+yyS6qkCAVB0mGW+xICivSiKJ2lYYWYds20ISAQ8WgpRH8cmgBcuxs8JlhAAAA\n",
              "SQGf+XRF/wWHgitJ4kAJlPxeny6Lhb1V7LOdbIDuiQpmO+JwrAZINe/km6cZcXp02chW20EGMoub\n",
              "3i10LPK5aCHVG6zrWAVDp3AAAAA+AZ/7akX/BYs7pTU/4AO9xLe12tRvsalWzDF7dGA9u7UfABNV\n",
              "ySMdT84M1Qwhp70+PI493cbpqJzQE6DmgW0AAAFSQZvgSahBbJlMCE///fEAGjzRuEiqq8AIDiFY\n",
              "zOc0px4nAYlVwuDTPLTWoJZCYlOxL3cdKOKD/uIuLYNfsfdARC4DJ4cS1lVb/mlYrrkGGTYQsQZk\n",
              "qLLfy2AeZn8ak1jvD31tdzAljtbj6wZakseMgZG+M7vcweGQ4fNzj68YvkNKUBgbz7n1muEib4Hd\n",
              "pFeh0me5443BV6HFIM1fS+ttMndeF9O8FIK0jU0KuLNwikLjHqKKOH1dtE1tjXrVADHSuk4GvmG3\n",
              "4Lx8P1hCDs2QG0aa4NpufMyLTJjC1feoDCaSdkbeFR6hE51bWVgQnTJeBgcYANldtDCR498ZSbWI\n",
              "SF7cnbKuYjYkLIYU/5PNe5hmHKaeSLp4vCYZs+L72POgKiJlAMoBqgqqlGgc7n01CqBQQ+c+53K2\n",
              "ZwT6edY2JRDmlP1XAl0UuEn7z+/pHZyLUsEAAAB6QZ4eRRUsbwQ89GeYPcv/AC2kDVv/DsKjqFzR\n",
              "ORaU18BFcFwj9tjMWZdhAg6rF1hv1FMPDbNcLQ2Ohn3V0HBjsHvMYH9a+tUG1IqmVHjSAeRzpPwd\n",
              "O/lyHkZGf6fD/5V95bskfKgr7O4XzDmskX9k7ZoOr7D/lFnJSsMAAAA7AZ49dEX/BYeBajn0ub2c\n",
              "wAtw/iysR++CS5QrKsEd/hbBmFMli84PV6iMocCkKf6dTOLez792eoUKgd0AAABBAZ4/akX/BYs7\n",
              "WrIcADfZg+g5cktr54qZZC7AOBm/JP0pYIFaCVUQFU8VMxW/elHpCmRk97/fsoQVnZzsRivwTsEA\n",
              "AAEyQZokSahBbJlMCE///fEAGmH0YqCgAo9QnLapZF8GhLMOMQ5K9FBbpTdLAADlYjDzeOhZn+/4\n",
              "Up4qnhYGmt3UD/QwGETzS804uqZuXsmeIHgJho/qqlKHcjTeJofK0vaSlj0fovm9VMzLhW4QvEVL\n",
              "w41Fof9TN6zXBvjCjE1ZtAb4/MEculBv0pZYfpk2jXfS/SQc6VVsGf5GSFQjWvdJfA32oeL1JC6E\n",
              "2aPSf0Mt5MXBDdfQ2ntZ3+AWwlAxu93S39O6oe8y0osHr9grOCD+BiaN9dirV4ZVypKAb7n14dx6\n",
              "cYBZ7JAkC8YKubXnbHFYJs9pgMp9vHfplLFESPPn2z61LVQ6Sv6Z8MGs5IdezMwqPv17EJlLoLnJ\n",
              "Mxr9MR5avkXfHenzCgKEr2gjTi3E8lwQAAAAZEGeQkUVLG8EPPR/pI3pPVzlnv54kEXeogoLOfQ0\n",
              "zX34gdTGaDsQ1M6Xp0Zfx6uWS1UD5u2pq9kJWOcRV/cjrr8H6/vCAB+xofxb0oaL/z9QMUKhoNVn\n",
              "0kQJIrh3DRVH4ECu878AAABBAZ5hdEX/BYeCJ8z0AJDWXwE5HwccRrjgBbTOiI2DJZ4UqtbRCe1T\n",
              "VENZWJqzfmPuIu73uMeYQzIW7yKnY4KbwTAAAABUAZ5jakX/BYtBCtz1RpQAdw/Pv7NHg0OUCPko\n",
              "iBvedZ1nyHqKSN54kxuCkpgADRRcYhXgXXVA++aLungJMKhIYPcVllPlKKT7/t/+2v/Z33vMlAHH\n",
              "AAACCUGaaEmoQWyZTAhP//3xADXeTpjS4i/gchTABls4TMk38YEyuX/fr/UA6FGD/lixsOGWVl0z\n",
              "PSxcGes+3JDN3vLl2p0vK7EsKl+Lo8u4E0dconeUwV/GqGrgz4bXTlr58+p8K+1DrrXDAe+aGJMl\n",
              "aCng346CWZ+HnXYoftUJRcSCHpILJ4QNF+zYWvVtNquP00mBiMV9jqxO0QBbkkZ6f4O6VaJ10yKZ\n",
              "pC5zrv0brl/nsbRV3HKmKtbmPcF8zVwRrLyu+jDkUVib0xEWirlaHNNTIxXJqoTjS2+pqIePXP0A\n",
              "pXJ98AZqwuwTPhemeGs08wBSkDzdtnaJPw9j5RCo6J3ex1EF+AUJbydiQnuO7ebILpzB+HWB4kfD\n",
              "/qdSrl3dz7IvmoHAINN7Xk2PkarRZ7HSzAEiPRP8QPJi1tj5B9pA3qLEu5cHOwGOdqeRFQ/0oraH\n",
              "Lz54HUwUFypWgyIaVRSGEx9eckwaHPLaRGz1/4TE/gyg4E1iqTsMrB4AHlYMtIPO5AhWelxlf0Xt\n",
              "oKLOiRPVwpJbETixBSC1xOJk6asV1XJBv6sJBnOcS/bnv7nCQiT+DdTzwTgW9KXGGVXK2W18/8EW\n",
              "R5zAYQEHm6DAeWi+PhYNfJ1g0766hG6l0y1i9UNn4Y0gOalsrpHm/UGU1BR3ltZkPn2he+8SoQz/\n",
              "oQpdopxEBSTbVYIfAAAAekGehkUVLG8EPPR/dS0e5JBoALm/sm9YuQU12kahXRLtFikYBSCcY8ZA\n",
              "XsOD+BQLQXKlIUtjbIZg/OSHIRxkY238gXcjd4AktHk7GIFmmFcQ6w8ICf/BBwFt3D8Y/xH5uoOW\n",
              "cQQ4T0ljKknPLpoWsvzHcowGPIMc1xKBAAAAYgGepXRF/wWHiGes7m9VAA/MXNF4s5cY8cqZoic9\n",
              "duUtTrdOxmOCxu9TiXPEuoVrVAntSTV5gievKa1z/uUwAVrqjYT2uFAu5Bs8vtiHhpLSNpY3G2jB\n",
              "ohiqYYKAOuDZRA9JAAAAWwGep2pF/wWLQP7Mmu02Cz+8v7VhgBUl2JXsRHEo7aOw7sLzvNXhuDDb\n",
              "kh5WhNQV+WdeDaNwkpnOoAfIQxcv1z+f9qCzEBGZM7Swcn9tcFXJRLu/9gUS5Fbg2YAAAAGwQZqs\n",
              "SahBbJlMCE///fEAGkKSgQCvk7oPwAcy6WSytAarPKJ/75nnyMA9fAi5SnqTTaafkUzQxBs184bJ\n",
              "ao5ulou6bh3/cEBaC32sv9oxbvvRTKkvIqCysCdIC76kK52WOEDDqyFD48FaNgh9LLoMNxW9TvZU\n",
              "248xiPPIlLq8aQ0pT5FNAfuvLaIuLcKDIghrN0mgFJ2FukiEdVphue3vUkD2A7ADFWVqISAzU5Xp\n",
              "7csWZZo/pNdKB/YqJN3aYs+DKalgBFegrtXgdlMlhSjqJc7g0yZuky8LT8a0MxI9cMbTsmv2MHr9\n",
              "5WZvTLB/9QyFRel57EfM7/1+H/uOEpdNn6Dx2fLkbp78FKLBTmkRsLTUaGuyQcPHY3cj5lb2sby1\n",
              "td+/wo2mJgupYCI4tUmImkw85M9rjx9ntVxl2pg81nmNfwjqLswDuj50ABiiF5os87jJWEQUShvV\n",
              "FJjZPslO2V6BGLHXqUoCym2TPcQpkW1HwMkDvRy1yDVa7sDDJeFm0ljLvtK1mw2WCM8kc69r7vZ+\n",
              "vNnSjEszCAeewLdbotZ4NucYoN+eqUkGxDfY4DWwAAAAekGeykUVLG8EPPRnmc0ICgBJfjLuFNEA\n",
              "N7VPg8/zMsG9MpKkN6n4dLbOr2GgAwrAyQRY/XGLs5vCZdW4G8ue9mEmTw+XFiUoIcu0SquDRJWJ\n",
              "XvSLwfg+1uaLHWLZ3Dw/hAFgdi69Sr9iuQdX/ewgU6X5Fpc5kB8wmIx9AAAAPQGe6XRF/wWHiHSM\n",
              "mFsRPOuWYQH2RW5CTNKGWeKX9UHFKnni1zpRt+IGmqFjqEjcKEFpaAFhSPAaUcZiIV4AAABOAZ7r\n",
              "akX/BYtA/s+vZzACZYNb36LZ+m+wTfXvgLP/Wl65B4DQX38oK/uk/TVLdrY5y/nXOp6Ji4p8cumR\n",
              "MoiKePlx/FBZ5ZvkhSAB9rO0AAABaUGa8EmoQWyZTAhP//3xABm//q8tMNABOsfMCXtjot1kT39a\n",
              "p9ezF/BDUg+duRfQIpjvDHwWkrGWT9MRocQRiRJx/e2TEwHc7pA0MN+Dr5b0vNyTylGByO0MPGIr\n",
              "9wvVbWetJ2fT9eS18hCCsd6Delx8/U5/Gh0MB7vuQlVC0ZxpUJrLABPL3e7ryYCClygMuRWVxVCc\n",
              "m7RqkXfVKiliXyLzkWQIo3eEOBpKP19kcv7D9w+hFBZx8BNkc+JrFFpO1L6eqek+sibRzwvUuzcl\n",
              "w2plyt8vCv0Lrq9TDmtXeOoWiDAul7kAhJ9ZPisEqBdgBsMrtaXHJf/XdzZjxLIIq5WspFGcMSY2\n",
              "4sDWXtbya7GM6/Sdtt15Ssh/QGhDlFb2o8mSDJfg5pwM0iU6Cgz9IRngkM/SHAAeFrWtkLTImu/W\n",
              "KMsGhseGKJL6Hoh/NzGLXFlvsUWpgLZIgoMyW4DlEOGNGjeLz0cIrG0AAABXQZ8ORRUsbwQ89Gdn\n",
              "Smwjfn2hIU9huxrVJa9QBuqJw5lQbY+enLGa75j/ElFIy10cj3jeQy3egnHcsFXmcWoo7BJi9RCI\n",
              "r/9Wl+Phem/C+BvIKGFQoQHJAAAARQGfLXRF/wWHgW62QfAoTpLC13cALX+5FbEXfPGBjyc6X/PT\n",
              "+0opVP8t6OSm7fWmF3Sn5ULyd4NfW9SOHDRYwAuYAzAYOQAAAEQBny9qRf8Fiztaa71bXQc16+XN\n",
              "uCaSGUvfqMLUCah2DcUACLIESvZB7IXfozPOcUgZpN5/v0326HLhyxA8jJjMkCAz4AAAAVNBmzRJ\n",
              "qEFsmUwIT//98QAZwfiDtABLUEuCTGIdX6kDndLdwiAHDalKOQF4Lwi/Gi9JafF6w2pwo3ZTFBrJ\n",
              "hBg2cnkxUtSfCOyEVZ4qJkcogGp6z84mzUWajGVmqGOwd/dorY3xoDHHj+3hBGKjy8p3+JTC7LVz\n",
              "werzMzRySmev5IlD5Oy2Y4P80mFZMvlFjytIyhBnSvuhHKukrLi5dGjn69G/+zC6CRuhbIBptDEt\n",
              "wcVBv48yXxz8VZwGeEzbROU2YCBlPi6LxJV2qG2QoL67eY1vT3xSicNBQ+hp6xEFBSS83GmNYWOk\n",
              "lyu8KbnbIu2Q4Vib9R8StxdOy11wuGRUsV7hdkWXNbAYRHhxTZXK9uNG3xEOSQOsDmgmmZWtnAox\n",
              "aNkd4sIvRFhQFpdHF85O8W1PfA5IljNSiuEqiNO4AFT3BIEzGc62Z7pvEOl7RtZW4l4AAABhQZ9S\n",
              "RRUsbwQ89GS/0/ZzMvmLW0DXVZPQK7hSjZl+eGwRJytIsFlxL48eAFAGkIXRhW0pK0tcfr/CQs3J\n",
              "6l7xeQxJ1iui//NEGvok35c0AA67KB9xK2F56uEJSgUI0N1pKQAAAEoBn3F0Rf8Fh4Ikfvs86r23\n",
              "vAAAt3nwcN3OQggeGOj2zeFBeA3ozHVTWWIfC7HuZ36435L3C2l0WUc4tHTBGVYuuOTHwN31DdiC\n",
              "ggAAAEMBn3NqRf8Fizw8aVHeEY1mcfoDUAFpJcQpKulUP0wgATuDbXZCsSv05XEd6LE3zaODfoS7\n",
              "O56D4TojikPS+JfBhEEfAAABNUGbeEmoQWyZTAhP//3xABnB94tIAHZT9Gu+o+fsz4RRGfau0uH7\n",
              "H7CzUFJg6Yt01wArFi0n5h7fD7Z4Oyl/40wgLP/0nri71/QYGbnwU7Fk+kSsv5/pAlvP9qax+ktz\n",
              "pbE8deslf4Sp/t0acfQ6gNAgj1RBHGW9tpc4bL9yL5iwDvmc4kSt3KpRPn+BMdCNuFRcMcdoUuMU\n",
              "Pmb7jKHgSPjQboozylnie3DKKFZklDD/uvf13yaCwSzsw11q+3gi4RtgK+n7JQXImccAVIcdiLNR\n",
              "kENU1UKs9VXdItajDXLghtQuq0ihGvKaGSLEGtWTo4uY31G5Cp5YX3MHfdh+yMPPgat9l1JSFWEx\n",
              "yswUHD66FbAoorR3jDe2tbECAZgFbACp1LBDXL7AHrBSE7eZmWwIaSj0gQAAAGRBn5ZFFSxvBDz0\n",
              "Z3ZAWDkZT5cJWq0HNBo4L10fs4idXp6psEofOhCoUQAk7/Pd9DfZVPxX7i3FzfnMMYx8VzG8EmLu\n",
              "ywaG4CndNk2P3GC22UARVe4SdN+vbG2Zcb9hFsCKLdTIAAAANgGftXRF/wWHh9XmAqGeydeBu7bX\n",
              "R+cdciM9ygBM+3q5S1co2MBCiHGJ1Ey4RPbmnQQCGAr7QQAAAEQBn7dqRf8Fi0B+0IOKEAIwPvjZ\n",
              "kunQIyGBobQcR00QOQuD9GCBnZqAfteu9vCfloEU1vloxWrezm4fhDx1dtquQYCLgQAAADJBm7lJ\n",
              "qEFsmUwIv/pYAKBQiGzUxhdQadUXkLzxecywSgvr56xz3GVDT30CquMnx0gd0AAAGRJliIIADP/+\n",
              "9uy+BTX9n9CXESzF2kpwPiqkgIB3NMAAAAMAAHgdKF7oOEqr0MAAG3AAfCP7cH3fxASzZ40LhBuI\n",
              "7VAka885PrW47ieL0Yip3dEJp0m2u6sPlhm85+q+jdvQaEiWWipoz0QBNNMOO+ejP03H+Gki4uz+\n",
              "moKiJFGMzMeWNs3SsCa4pcngHgu91QE05vT72d5flBMkLwSAEqk88ATvT6O8nDVob1YyJ3aYsjyq\n",
              "tqaIDRg9i2HirzP2PBcbDiJLbcdrG8OrZtdu8Vie2UpSBgh1I1q6v1Nu3yc81sJn6JDaTv/xAsEX\n",
              "htclTvYBgUNtugJNdtPCr2tJTjOxz8kpWxYIQ4/1whC/00k72M85PM3v9feTR7ZVqDENXujek932\n",
              "eJq1w20x3KyFgY+zILAoXwnIBEV5W0kNHc9YmL0ChFuQLldz1MKRx9tdCnHOYsLgJbYmenDIhXJw\n",
              "uxoBpynU+0Bpd/cuLbz3NjfFuoGVK5tdSZGXCXPw6KXZ8NiYI243zh/BxoV0e4BEBivHl16dyGOB\n",
              "MmMhqOqJX5hbC8Q3tM7Zwfpzc+jaW///gTcgPP7X4GlKMvYe/m+uPcV73uJswlskYcnDyz5M5Wl3\n",
              "jaytl+bI0tLcfu6W4yilnIgWjs0XespFFN5BuUcYJrER/OzGMA83S6Uhla7jgo3mGtWVh1LSRSKe\n",
              "PJbnfkDWX5ZoiH3RF4Ec7eN1nxIkGowmZMDYAleeRve8J+GyERPCBDUpXfi4hPmnC27uLr86D55/\n",
              "TVjhL0JJ5pu8sz+mr4DmMln83CM/IwJiHfhuLlxS3UC82NKPgVYZfGT5Nm4LuWr/7EZFKNQ1Oy/4\n",
              "aZkTr1uXOulvSfb3oqje+Vm1zie2Zy7b42cfWhO63z/JkEMKrvo4BhptOSUMrvwol4N9WmsClatx\n",
              "2LAqOLcJnbxmmu10r6YaoUIC4F+w1gPtJqgCYUFuyNI0FQj9ksvu9hYo15E0V/xrSp7toZLyBYrH\n",
              "0GIsmXw/W1Y64lBaSAl58CTonPzKTAnUahMb5KgBeJr3ZSCrAhKsj6H0mKVTk9HqvjCDJQ4lWQFH\n",
              "I7X3iaaecPaUxwiQC/Ioao07kRwUF4kL3K0dR5n9RcSGgbYZxQiXNBIax/avbSpQCmKDlkSoB153\n",
              "xggunCWxq2nt8vm6PkH2PRKyWoxuKFs0IizYMz4y/bQGt7axqps8hvm/8RCcvnIGuJX+2u72wQEy\n",
              "u6fQxJ7GiVBhzHhOwD7r8fnT9lb9y8qEfhNQLjm96YM0/3Q7Ahewt2rrDiidYyiX7b5pBj3udphR\n",
              "vUeFlQxUxWjPGF/6I6vknZMLH6jAXp5Sf6uAE8bTZHrzuyxJ7zGINSKPyEZoWsdM3IqXlTh7v5Il\n",
              "buYr0dK0nEAI8Q34kfwoidRZ1P32SPKQw1AcBPLZ4ezLpdOLPXk9gp/4ndNajNB5ZW3D2YRDKUqG\n",
              "sZLS3cP0ScW4c8zJYtkNlBhVBkoeFpXdfqnuHgoYbl5crj4h0dX8kgUTTm6aAX3OjT9xL6tBku80\n",
              "wooFsAtfHO5BhTqEqn3IFETaN9p/4b7VbYzMf+COZKqB7/4xuGj2Jwvtxwsoq/sTcFPGsbpE3Qaq\n",
              "kDz2547fZw5cwmPBmSNlyRW+TYfJNiGUNXVw++mTKTM+Oi4+BxNIPidGqSqCbd30bywAOd3+jP0r\n",
              "93l0P5pPgs7I155U1BiMgJMaGEtstpYOV6o+LB/Bx06pahOtwyGSvQN+w7WX2s5F+tmBCY2E01UN\n",
              "nOSvy4/07rACqQwD/FklnZPgydGu5QeYI2rM12SrhxaC5nf3jGmvhLXtVFGrh+donuCzjMan1RJa\n",
              "H9slMzurqbSeLBBEB9QS4zVgiuDsoyuVpyM2xmW8eRdZAIBI8tHAZtL6ivexcl5rIoIsm4jy1umz\n",
              "Ezue7IyD+MZ7W8GFkUM7gYGUt6vLNGZjnFrVE5F3tytfWAHL9NAZZ3uDuB9gP6i7UB16MfWTg+D8\n",
              "g8Hc8vUkCs3/cWdxBBxXKM22SqTjrFtQc/7peZcscfh4NkE5JVWOUn4y2ZjF0NLQeC/rU6WjChkc\n",
              "0HYTT5tAhw8fgYKQK92rgLxWJANaQd4LAhzOk8mvnSushuSLtwYKg9Dx9WJLvKM+Mlc82HHNevTU\n",
              "TAq6cwqedOkPmtz/B3pPkW3QCzwGb7y0UPrexjXi0kka9zGt0ebsB45QkYXoZA/RGUtb5VTGl7I0\n",
              "0XXAA9MgRxSDOHngGEAlYrzGkoz4PKtuFkTPxstY3RrHVrnsVbKoy48OqBFAiuCRFltlp49E1re8\n",
              "Lp24lY+DsNThVUnpk66aXoicO/r0wfjIcuH1hbxCggguLkS79XX4KVT/ha/8wz7jRWmlvyxGrVEL\n",
              "8g2T+wn1fZRJajS3IT8joUZiLmXWKDX/9V5zfYnldtBxF3xHsCheFzToU2Su1O5PuwdioYISGOST\n",
              "bzI5jhQzf8/gv3t8Se3mVdXxAvnqabgdE2XSXHB0cFklN8TGRbPDBnySJlCf5X0Hap6xCd0BCoSH\n",
              "V7L1m7xvOVYgKvOsYzL2aRW+TbNuJr2Uo6VmKTdt+4neC1QHzd5GhbaImUfN4x99aLhK+MFUCCZZ\n",
              "DkOUJxSyQyiaaZaXbwf6SoxeV0wbVEeenUz7lAbx/GjKgzsivQanI4NdprupcYhLCM/ecx6AQE/Z\n",
              "xpY9GnaOtOTnPaaJNvY/Bo8Vgw4kk03ot9OiHK3hwxrPaBCZK0z7TPlwlh1Dr5Y7H/B5BcjfclMD\n",
              "LqGz/KhsoQCdz0NqmJhqohzO1EicUey8PAtdedKUq1MXm1JPF+d7Ghq1Yrdwgmu4uFU1Mb6MObQX\n",
              "Bw1/+qOC7MVjcvcouxidUAWFkqv2+vzUTN7plfGUeOc7WGn0ihxsIeSQyCnmreIiPDXghcLwvuo+\n",
              "JNFLzB094G4mctnlRm6T+z4ICjYqJdW3IBiQBA3Crw+SJISAQEuDcmz3q39W9DcboyGoOPZirvRL\n",
              "F6wsu62DaXR6xUI2Pr2MW8t9o0CFLqRnQEGoFt0R6cKdl3yE2f8pv/myJ3nvMicjiXGEFqpW6j4B\n",
              "ttueiPrisqLoVEMxmpA6pTWPT2nJn4kC0XJ8K2QQRbNjnyPv6D48997VsTF05T+3jWo4beiohv6Q\n",
              "tD4JfjsaWIM2uemAY8OAYuAX0J5nIIF43yPbJaD1Q6BQYlJplyVvd0LC6HbTIsC09WaLUVnbSgpm\n",
              "abJ8EN3dc7p3/76xGJRxbeIBzWRHXCN+0PJJOSNiroqrB/VO5K2nWUMHKbeweIbMIVQKiTcXl4EI\n",
              "8HCmhfyRzZKPsYuJ1q2xC90A1D//+3wAac4gJT9j35WJIzD05hRYiKC7hlEHiR8zXcmzXXDTAV6e\n",
              "8RbGnEhjHR+PRgjE0qWPTNWjch9yISa1uV6heczxjMQuuh5sGk12vDKI+moEd1FtgQxbTsYu4zGw\n",
              "Py4l/2xjgfZGYJjenlaZLVDWGybRAfZ83TS0Y8IO6og/7z+goRKiY7AcXKGNSWqViVHKVLf0mpXG\n",
              "wJnszV8z1S3EzN7wOCnaYt6tagIIjZEFUtGZcfKlhq/WHdknR0wpIjjDChSZzZueEOE+avbaJVBs\n",
              "8zg/tfLcBO+rdS5lSHnaklKKZlXCuoTCshvSinV7DkjlAug/Pwl1+KAkmAL+N5q4I7fC0TJPZZDo\n",
              "gA2ZOxk3YZxiB/i6pdkLUNg8niOJlJflYqu1rHIN10Dn0lBa6CC3OrXV0fzgyHAYql53EbXKW5GL\n",
              "0jOjfMLU5Vbd0tkQJZ6a2NxofUtMLDm1jSlmlAXwjxVS1TsPVIriVco5V56eebgU+sRdi2xffDJM\n",
              "YxwGoMRTZeA2Ff6bhDJJnItmYGKKNKvKL7PB0o2xVxlF3Z9/vUCTi5quWwpI8pFn8t0zGMb/kV6k\n",
              "uIbIOQqHUjR6mn8+WbjYKhWKap2Q2TLOOEnwGw/7/C4VPx3ylzDsdJ50O37OB6apXKLBNnIVUIPV\n",
              "6XE7A3A5/kI/BH4e62GE5SedESh9NxiLHfwliupMMbMN0ozxv0kIlewh4O8j2eLhv9jfm7dc2msT\n",
              "1M6oMSQZVjbnFMfynZ1FMIVSU9ftcHwVMU8ObwHrjq2dtJWiuqTFFCk2Qp6gEWdOlOtryWc3TOyz\n",
              "CoOVkpTfpExVO6JxU2QDJ08f+SC7grssVdUMfgm70IxEt+bFt8ph/gv7cvwpmlsExUG4xuYCbnF5\n",
              "nXUJOEcY1I4CaaJC1hoQ4atBliJhvKNe6Re1YKpYfXDu7Z1DCLg0q1t/ubjK88moXTIaoGWUklL8\n",
              "rg88R1KYuj+CzKAoCzxOSu3PKSZENZcHf7dhvXjd5d77B1nmDr+ZOOwtyxJnzPbyugiHyxHt6WFI\n",
              "zKy51cQioRCvprH6GV/4KhYvwZVf3hOK6T2dOM+0wVasf0fP8W3rVMCFCIuVDOmAvXrAoL0F5Hx2\n",
              "647VCS/sfBJNF36Yl5lNstne94VvJBnjWBQ+FoW/d19ehzdLLAHoyQDNEZszzSgguk0EZWS4DKKX\n",
              "9enZp+3abjugBENke4B1GQeF4j1ZbGzu+WuQFtVNYjpeEHETkYECmmNB6MS4U/9CBgcEQTdymGTD\n",
              "vQuUFeDkqEZ85CgGD2pmjmUeeegZ+tnNknGqgsmB2h2IH0SCfPMbhd/HX0VhbGpbyMcPdoSJxs/L\n",
              "5p2mydJMZBaY/943kiafpA4cWUitu6VQ66B7DmnI7YbP8oSQgvhlImWNZ2L0UP4B7f2yszNQGRJL\n",
              "Ili+bJxPZEGFx6YL5ZzWaBD+oyxaXiyukOc1TDweW6ndDb8PX/Ml0M3fQf2N38smvdYO5wTbY4CR\n",
              "MpxtW/3zg+mKA1Br0KOGz57RaAd3+ADikQpyCbXnGOmjyPFk5ais+HnxjqYUOMl1ywAaK3P/8W7c\n",
              "1kgRlH62k2z484LeRkTL7hpk4UkBz8pKlDiIIkCiBFEwkVw7YEUS2HbgxBWwRWEw/SBTSHumagmI\n",
              "xXzRfdVKRhe18Sx64I6PE162lLXWIT3Lt4bAXwf9qwblV5gjP2JCoRdd8+lfAUDwnSr015qYkCFu\n",
              "g0vwV0+sWLktjv+JN0YhhB7KWk86oBS/Yna5VbP0aeGcS7Oi4oc0zc9/3yHjQmR+wZkDk+o9lTwd\n",
              "AptBt6yuvXgfoiP0vtBGlcrFlXYJLSn7hAlRi2UAAXPfCx1BgjeR1qPzm7+wJXCRGBB1RaximDY2\n",
              "Yd+Mbw4H9DbDCUB1QEeAypC5724+0nHzlI5T+ZQ+xH64LKVTJzWKPldTDcAjpfqoxdMOsmB7WbG6\n",
              "u6MmqRAdcwEunmn7Qqb50pFJLLv/uK2CM6Ps9K7NZggx3IKtxAMYHtT7fl4nrJxYi7pcIrmsWMGI\n",
              "fzZ7h2vFG+sBunwU7iMa1eF7o6ctBRzmjGd2JovfeEVddYBRC5sjIqmYJzNLYWfiGNKLJaB02fbJ\n",
              "TrmF9pMe+G9T76WLNC1dJBtiUb4E0yhgATuV0FuzS5l6hNUUGXJiap4v6FByv5cc+kOLqHhj7A3n\n",
              "qt3aOik2Y+367OBozR5y+kXlzMCO0rWok6cvveZE7FtrPqc/JOs+AlTZVEcRCO0waXGUz2Xe+iR6\n",
              "YTBOfo5KRm3tiX+KUyt5SQMllCaPvc9D+WzmhJkyoPqvO6K3fRF6C2jZo1/TcMdvvP1YUShtuZTz\n",
              "zb8eQtumgkwqYIXKxtCHka9E7nKtoAufnuH8WpH9RCywjThzANpeyItZKX4wb1LQ6AmWryrshfXn\n",
              "p9iS0WAbNGU8vXjs0dn/jOCMHLVw68ha9kP5Dl6J9nYQniuK51ARmiLI9ph75n4YN47vs7cx7Gf2\n",
              "yrnUCghwODIin0m5hzlxf+xvbm4oNDyqQCd08cw+dPS78HFw18vzWVrxs4s0mr5Sya0BYH5OMH3f\n",
              "x6sixAY0oCcuZNyisrSHPyHlEjBEIBqvIAAu66+vjMOTY/u9D2C/IoT3b794YvPCZcF11e78WdGD\n",
              "P3YRM6+ez5gmR7FCm3o0VGOv/5h98CNymifZ9g04oTJ2A2J2Ok/phYXgtcDoz5AoJkbKI/MHnZhD\n",
              "VB1iQ2qBr9mK09IoJ9kfvuBA2A7OgfbkUQaozuroBNe/eat5BzV3OLz6o0hPKdKgg2ICjjmODP/v\n",
              "MMgv2327Cmz5MsMK72KCsmjImwLYAjuDPpjXQwNRnxpxAmHO+2UDujnSRphglQ6Mk/TV8MYrybyD\n",
              "mhXymPIFc6E3MKKVsx9N7iFBVC+F9YXGAG0kP1Wk+Z4AF4dqas/Pea6nSPx+24f0lebis9oe7JYV\n",
              "Pp6gorv2WJH0mxcz63rqrujk2iHvGH1KGO2J0ASQlTK9sIEA5vplA0Rvxm/kIMTmy44kL+yoGvwn\n",
              "CyFBZVOhlfIROihsKu+LtIwzBkrG5h0BJV0JaUl0Pi+x/n7EN4lUSRvpDt7nlvfPQmXN0I97AoP5\n",
              "OmscohJ9nO4CmWHmL8MdSee1TZC4BmEXu3yKRB+AUr3Y88qgPcJmQXYBsxPTzddEE76C3Cq5KLNI\n",
              "qFx5RENJCS+TML0DxY3e9K7b07XKdNXY0GLk/etVWBLX3f4S2bt1/wdGqBo2gTHnAdEz2I8Hp92+\n",
              "dFDvNG1LchqKVvOHp4LrEsXkqlHR7wBZpMk4Buqdd8Y/zq9jL7bmUugMAE/7DXm76pJuXVyNfI7l\n",
              "cVWwfktEV3m/4s50FmxPgYE0BNat+S2cGy2F/CBhg4i0wBZtCUP1B87k3IuZGjpq703KE4T3gOlv\n",
              "tgf6N47OYQkUokm1UY8ypdPKfBhckxmMgr3AzYcbz81fyYdnaUGB27pG2PEjyHh+FwlH2v/nerCO\n",
              "RZE1YM0B6TaBB9rqWFh2lo7w3gxVycmeuTNabSZnLqsfxsEBl04aiHpa/TNMyef/6ADc3tFND9Jt\n",
              "fcrXtvytyQkZ1K44GX8eVgZ8fV+sdTEhvl0fcTOhE59kxoKgJAv/10LvGW9e014bGrtN+VcVfaMa\n",
              "QRhM0tF7traN/cAwkW+mtMbz4AAD45+pcd1PMRZxBXX9p/kH6BZAEY5kT9Onn1cHDUM/Yx5OZV1Z\n",
              "Ca4f9L06KGVMsSRC4QKFG5ehc3qHbMSyRWa4tAa3bO1sbOfUlYvNffAU0ktJFMuSpRdcWMO9DFP2\n",
              "jTP9W9FCZKR6dTs5xcgf70/7spbDLQ+7VvMUfMhVJCE3n0e9WWsouYmKdhBMGoMZybeU4A3zaOZb\n",
              "EGRWV6cy8Fz1Z4Hebr+hpylvdf2TYhG5DBOoVBoFnVxfbWtZnEu9PmKgmflRwBklD6gQKx/3BJtG\n",
              "g3N2aALno7B61p1QtYkDEY8NsZQ3Krr8mEdnaeKADhjeLq5SNcXiU5vDJbOoG91q6b3WZyj+NFH0\n",
              "1+lnYlEIYslDYfc61y+bi34BfNvUlSi9bmZbDxMnzPjCbzLZo7doEc3sCTyvniw6r6r+P81fc3b8\n",
              "c/WYxbYY0SbPGKjNq0241dY+sB8UCd76jnSTlv3oYywwEk7wImZ6FXqEiwa5OM5/4irToKDGpj/l\n",
              "2172C8eK1dhVVXv+GA1Sku/9qBhUmGxayUlQ19N1M5iYVrklmiSRAwyUN86moS5J9MxY4gjOCDm/\n",
              "Bs29L0HbiEoSAHzqZs9NGvVDwtE7XP388aQxELUhP2w2WQhUYtP6DLkG6mBqwL2EkVMkU+eavPP2\n",
              "SG9RVmK75ZrUtwbH6jcmmr2Y9MlCOFPmivPXWzTv0NZGD5CjDDmRO87qCBvNyqbnALcrLw2aZUch\n",
              "PnVTSOWhTV8YovTsJttmV/Hn/4D/kD3cF75y8Vpb6Bpow4AA1AzWcYGQBBFzHl4w1MEkcGI5zupC\n",
              "d2TeKBgnVjC+jp1H6UeuaGNPSarS78slyMIbH0LxbFovlbUrZ8Axf+0CcUDod8Fx/zc3DithyEJn\n",
              "aK3aiGH6WZVi+eeQ7DyQfgKS/Mg3m42dtcJu2xscU/9OaPuizOHK0oUhIVYQhBJjavajNjKPAgdO\n",
              "Db3QYCGXMyIs7OxYnKJ2brE3TwLI0lsJmAWn91XB+vdS2FH+anJYdtBWYq4/rhqex1S+kxkn6D52\n",
              "kIEk4lAKDTem/dzIHBwZkwYW46k+XWYKgAKT+ZbMkacsr0OL0ZDzKCecEWTewTsv60EsMThbr3Ch\n",
              "0cOyhpdjaZePCNYiPoeB4HDg/6EOIRIQYQxxjP5Bj5zVt2gDteqEdC0eSelb53w3XrUqJEV/9L2p\n",
              "jr2AIfFBF+iB253b40fH1c91+2KSPy99LXn653zK+epzPTYcxoe7qbvb9/du0PLsfAoBejuildov\n",
              "vYAAEEh1tYdRgi4FgSUwje0BlaipIObMppOTmJCzRw67hUnBRw1l9iIreP6DFTTga720qMDhKGa5\n",
              "SOnqHEaiMABoiepuIKLJg3Yw46VdRHRYLueBDLCD9xnj7LpBwyylrwgFpLbMWyhA1+JJa2/g9CpC\n",
              "Z3LdwHZfZIZOTaqdOihfn93RxPecl2glV/oNheo7Q8vL9n2rZ7o2uMwQ+QylRJGr54qvMWQ5/9+E\n",
              "i22AmVlzf54ag1JnvBorsfX3F1T1fHUJdcTfQLIWKNZKOwhIDkJNaVTeSaQlVsPKFQjY8CYkYYp1\n",
              "JFcScAMh8zO+GdVPIGJZ2gVeLa2AfoAGLB6xAAABRUGaJGxCf/3xABnJM9SAATqX25Ih2d/k3Eph\n",
              "o1OpWGcrThdvA93dGvFTth2NSOTczmWrmRUwXVTrWpeMhw7Lstg7fvU19gwU3y4CHXC1oPXMRWp+\n",
              "8e/3LjGkpZK0/nLIbf4P8DL/va2lcr5MRDHBYl7fwLyYlOJzhXJjcZH4aNEhuITB/SMkO4OGibsd\n",
              "xEHsT1L8eabhczZpuL9BN/dl1jk18HeR6zFz3+xoj1V8PdsEWPEnraKCvWT7dgJI+HYiQV6D2vDy\n",
              "yb0aGsorYWG0uQf4r9dIXqWH0Xtonr0GgI6pFhXnWijWTNuCjjt8PqEmapBSh9ejapo3KhnHPvGG\n",
              "SdnT56RITDMyo2cSDuBhX81lRBbL/AtojSbLm0+fgXdYYhjJJNn5XEDQJgqk6LTojXMwCeODVryu\n",
              "+0RCMXo4Cc8HBd6+VzAAAABDQZ5CeI3/AOKMkeoIfshr99ocOFx6MfiEFqj8eKZW5wXBl4RHIq0L\n",
              "pEyK50yTSJKq4DH0ZLra9eCcj9NdAeSpSddkWQAAAD8BnmF0Rf8CKYdQQ3P1yvgAC3ega+8az/ms\n",
              "Llj/P7YK8SqyExwgJGLP+IZqk1JHZx8k/Olq6Kq8+ddRqnSEg+cAAABLAZ5jakX/Aiq9OalfYjWW\n",
              "ioAIvuH2OD7cxLcqmzZOZLVhriTS2j00zIU7fTuAXgXkyPeinE7PBTBIoR7OwV73+sfjP8GgpjJ4\n",
              "4N8YAAABdUGaaEmoQWiZTAhP//3xABm+hrx6AC10uynIwks4e/q6iaKojMaCzfD9M+GzA9x/CSTH\n",
              "Z9ITNohJRscU72vBWJxFmF1MkZ8A8q/4kpUlMvDc8htzHXmBsmc/4DsBQPvCnL4zafm/pGnUiCiS\n",
              "xQL2QPxH5oGzh3phL06yzDiYg24ouJRzksNLgqZRUBoZ9tng3ogb5wzObPxTflQFo02//SVaelL2\n",
              "ibd46JBYsvpQDQN/r7VmtuzwqW5/MhIfSHfwsLKry+U9Ymxu+8Q+4vFqp8HQOJg3uvhSJehcE6mr\n",
              "HSFDLyGIRBLoOFwqcG6M5Dr96n+/cmh4pxog0hujUqCvSZJ4pOYAGCkA3k/GtrRLtnyt//uL+Lir\n",
              "6frJu1MTGILnYC7Jiywi4Z4Dfp7y2l4gxF3QIr9VQTle0Iz8nVqs3NIB75JtaSTZRt50E3W3dlsJ\n",
              "0TxNEaQbNhx4966XGhh69QSZ+mjtOmQcvMIk3tEKohdmMdVVScAAAABQQZ6GRREsbwG0tRC7QALm\n",
              "9pMCtuV1LqFrRVjsTeQyjWJ9mlyKQeeAMXpmPafgtP4I7AJBtqI+XO8sfI3RzeajKV97XZv+FqoL\n",
              "TAYAKPQ/VpkAAABHAZ6ldEX/AI8j5IAFr6DWZQeVMlna6ySvFyg6Uwz12uaUNNDD6xHX+rhssJpK\n",
              "2WQoKc88SxJqX42qawXlyEej/r4AZIMTkoAAAABGAZ6nakX/AR5ifdHBqMFggBZyB3EvwuhY0wSY\n",
              "5lU/oyDSFnvw7n7OMJvsycylS2YAgcV2+cmJL+Cj1dRXONX/twJzPkkYgQAAAQ1BmqxJqEFsmUwI\n",
              "T//98QAZwgFm0AIwKaViEmV8OUH9OYh8KiFOI9/rb8cSZaWGAYraQQ1alXLouiwjF68xxmGgAF2I\n",
              "lKOWvOa+RW/kqCxWDWtbOgHvjRgPs9vtqKfCfrYoi1qtamfD4Y74XjvwjknwIjqYEGZ17h60Vyy/\n",
              "e5EJKMxiOE96mDVYy2q5b6QE9ha/+u3V7fYfTpiNNcoXYN3x4EpSPzm2bHix3MgQpR4o2lWSyG6/\n",
              "iPg0nwm9lO9BjcU7stp1WHe5pDrI55yTPoEV1cSog/Xu+gHRLEOfYjuuuE7c6mARCtfqpImn4dg+\n",
              "vBo1aBHqKPBjbGLT3NB/ZBbtXBsqpQWiGUumbNcuWAAAAExBnspFFSxvAbnLkAC2vblfjKPcvd/E\n",
              "gGBY+AG402YHuRgPWV8aiwX+VEcTdT6jvFr11/Roe5cvoTJXO87f5b7L3fKss+lXStUCAg85AAAA\n",
              "SAGe6XRF/wEUme6/1HnDgwwAXH9xCmNEnkw2JWulHMp0Tq6insK3SMCpQjUfC+aC3o64PqtZNeol\n",
              "P9vITcd0SRNju/MMAySGKQAAAEcBnutqRf8BFJ20oOgxWNwctcyhq0+MfXjg8hyMDYeAFs32iB9v\n",
              "ZcuG7JIVuhhqakchUhv5n90PCRezkoxCnPj3khfADQ42oQAAAcZBmvBJqEFsmUwIT//98QAZpcW4\n",
              "AbmoEyQXMXWr+JxMZvs+aekgHBp6QTQysNLfWbbxR+VQXbVEyPEJIWD4Lpycp1X4nqfMaCaGo7GY\n",
              "2ruP2u0UfMNgzo8D7HmAzNNALz/2nlzw/UBE+DlcKXeZLckL0wVdSC6FuE7qQDntLj9f/C8nt5ND\n",
              "qpiBacq+OszdGpNLqoKYJ5e3GpWmfo7uLITNFjuYW+LA11uJw8T3jVxfpbliqBp3bEPu5IfJXK+H\n",
              "TN8sb9/eHxtyfD58GbumtT2RnQJ2Wicm9a9XZa0Yq0zCanble6PSVkHYb970EMsQcqMvWr5hX0Ix\n",
              "odAI3oBmxBcO3pN75rqO4DuyCRJxV4fWuxKE/MHGgmzy1g8SGgeQhGHaprI0HGimxtWU+8nBmcFt\n",
              "5lNHuJVnaVkVUMvQth/ZUKvRmm7YrWuLtgyORYmqZjdnPXWoYfCVRh+0cUPRIMxfo1nhruioUL9x\n",
              "gBNQbRL/aJ6e4OTfMZbDNO9YPE6qddBBRM/2pN5WGdiZuZ0WyiI8ITKtV4pTHPXzhSqGQlYnKaGE\n",
              "Rp/G65rsDzliGukDdQzidFie+W79MSsjID5BWlthIcdjRQPvAAAAU0GfDkUVLG8A4e5rWsnGUuag\n",
              "zRfcI9wWbGJfHQNn7qKwbI722OiEtlnaSZyy3j8lvFfezkgoIkTVrgH/aXGaSY21SQAWAxv4Zu2j\n",
              "gd8nq6wHsbYsAAAAOgGfLXRF/wEVuF19cFCqqAAJVx/Fv/3LbOu4szycuI9mLt/U2oIQOJ6SDP5Z\n",
              "I3LDfazCfiw0NBdEAi4AAAA7AZ8vakX/ARxsJSy8tqD3bLuoARZA0Ec/j3rUw1/4tb7TczYOs6Zm\n",
              "/pRmo19zMHydyv/qL0tNENrnAc0AAAE0QZs0SahBbJlMCE///fEAGZzTM5/8clXTgB0QklU4E3MU\n",
              "VbGMnOWQOUjpAfeeazTAKlijh1Rl9nGaXao/aLRebEd+sFUVjsNflyy/QgZXyPJ1k12m15bH0TvD\n",
              "xCNSUFrdFRyNFcLBPOfjP78dCnJVhpP1MpdaFgIAT8ZqNwXTzcRcymNw81eg/SRC220G35QTXTUC\n",
              "gd1Nb+SnJf/WE+lsvnRgFSGEdV/r0vTXtwGE8bbLtjzFjSnmS/t1eew2uHPYvBACiMla/m2kr9wh\n",
              "xTGCGAeb41JBodIp30+WUXyL68k9My7CNB02FX3YHtTHTMO8KSjmW2h3eFpLgGSq+oz3vR1VvcmU\n",
              "wss+ppAH3rb2Hst7GfBdsdngu6ueSs2UdZsUeC52n9CU/rH4/HqiGcHpax7+AwIAAABYQZ9SRRUs\n",
              "bwDi1Kb1U9QtcmvXBACTNMPflCXOnSHJZdRPIbCcQAQhsSs1rFSy1Qfln/pJXfFiG8tbsgp+FUBO\n",
              "bYL7WvllWYHHn90fMCgW2/hfr6g7PbgFVAAAAEUBn3F0Rf8BHuCcAJY4Yt9/LfaXd6RG9tiJ1VD1\n",
              "etFRndwd0wWoXUh3QaMf/uZTlNprMMOSHUhJJ89DOfa6/oGpHceAKSEAAAA/AZ9zakX/ARZHn/SX\n",
              "qwHn3P6Lexo44dboAD2Mtx10wFOA+SACs4DnCb1LWW3/1822VKJLgdX6R2+vAcMgAGzBAAABEEGb\n",
              "eEmoQWyZTAhP//3xABnB93XPXTqrM2AOF0ZQ1Vr7Mvb1zKlfx9egOuKPI40Mhwf2LM3gDKMOlio6\n",
              "O3NlGh0m2EhP9n48NntW3w0Z4n8rf54HbZVDCBVshcpz2Npudt9RsSWZe1+6vP11XAXKlnGj5RYb\n",
              "jtwQt07Wj0k9vM8GzJd++ZGtZFp4CCy6QU62qJav9zv1ryH/+a3jYogmLeCnrpgszLqJwZzekmTE\n",
              "k9YF16fTwZwtlul0Lj6f5QTOVTH7c0oXY6lhqYTMWFWYQQnN/5kXF9wJfSdMNxQCfUJBi17cLQRX\n",
              "dZh6uzpbRseGxHlL7+zeuqY/bOnzKNbnPhZgeQ1vZPSug1DBcWyzyuspAAAARUGflkUVLG8A4oyS\n",
              "4hQ4SSKM66FTN9aRXe61FFga0e0/hofpXd8wubmwJ67qlBarW6biTR6bIOPMGJAvCvDnMA8aHlA7\n",
              "oAAAAEYBn7V0Rf8CKYVki6ClEaXF6WiLsasE/8To3pK6R37uLQ4KQA2LB9ScklLWaqRVBExs1lvk\n",
              "+i3M/TynEnK9C8zPSwuywAHzAAAAOAGft2pF/wCLMSuDy3PfPW49Sj0PHN729BqAAtppvKOjx6+y\n",
              "inkS57TODaKZZmTJrSgf1z/KAAHdAAABQkGbvEmoQWyZTAhP//3xABnB+EhOk+WwBURS3OEewDkM\n",
              "40+bPYaYlZzq1zwA3II7/nP5cQcc7/WY2CWDqAkjTEDzlI5QC7qpBvcE0W35UJhUstoGFjvHRMaM\n",
              "WYB1TiIQo+nKAq/N/fBX8+w/r9gstIgnISQtSCg0Y5+4mIoVf/eaqzKZjzxXzvt+byOR1jWWg6pd\n",
              "n/usGLjN1p7dubbkS1I9LV7UNCkVFqW8imiOZ4wEb8hk1tou1dVHbDf2SFu8EQp6/X184DQbMrwO\n",
              "NO8H38ZAVFJxddfbuKRu9CyJbVkAMFcL1kr2jN9B3qJyk2T0l86ZdjvLYOIWdPI1tBodm3B9woDA\n",
              "hicaALOZRPUXultzh7PWP9s1tbVhApOyPECOU3fQzy5auGoMyW6yrtBNndqzd8SNAeGXtXNuWzH+\n",
              "QbfQHegAAABQQZ/aRRUsbwDi1KEmyjQgG70xIACtrVEnct7kXh/xSjQ/x/TF8qS3QTYCdzJcgBMq\n",
              "r4nVxxpgZzrSrIZ679Nx86rVt3SZhMQIJ/5ohlIm3ewAAAA9AZ/5dEX/Aiw8l1WTG8TBAAtnASdi\n",
              "R/uf6JeYOHwsH3xIUu0FsSSnB3CLSJSmMioKjujKfSZsCsYe4xoI+QAAADIBn/tqRf8BHmJ/0cIF\n",
              "r3ty0gRYyFXdNqKV3m2gcObenc/KZ5yoS6d/Ty5d4Q2YT2MYXwAAAeBBm+BJqEFsmUwIT//98QAa\n",
              "RSnwBW83NgZQY0O5LzWHMQaR7zzD9FLOPtczkbiezxjbl3xo1gt+CPYIH9omet1tcLYvd/xVG5M0\n",
              "Nrryy0t7fdp+BF9gS9mH6d0mSiaudIKPkzjlZjk/WvHyf92StI4FDiyZAzstkbBChNYmsb9FYHWw\n",
              "QMK5G3r8gs2M2NXNmqcGpbdjAo/lGVoPj8gJpGX+WdO0mVTzNOZ3a8ExN7C09oy2M3XVdvZeil7N\n",
              "NUjdAGlaWulKtP0/q94Crtr+BMojI4vR8CXxB4GcsS47COe0zlBUMoUhRusKhdqp1lN6cTn5yoqo\n",
              "ACDLrG0cgNbWG0QlN7eBWv/5O4sDPmI8S5oJWZFWGawpcRMF9FzuQPIcs1I6TBjvUs/ifiuQG9JM\n",
              "aPU047tKRcpmsIFbOBN1VONQQ1BBXOR97JNKo618ipJ8GnWikYUbg5v+RTT3j6LaMtWlBNU/MBbu\n",
              "URiGs4oSwVMhAn3Ob+4idtTCD4+fM7YDki4cAFNmIUQxlZRdhzQkiL1/m3haNK/A6glotfB4rrUU\n",
              "Pz4C7KGu2XiBQ9fK+T+I8qPGp7Lm06h2f6Ad4ZqIdBFXh3bxzxj0d7T4q3s1DPKchHeZNGoasXYO\n",
              "sAH/25+d6ykAAABtQZ4eRRUsbwHDeM7rAvAghAAbsAyHrF0vuBZbaclIgcbDWkbhUbfUFecxGW87\n",
              "avWk3pIv4IYou9fOFkdr2UG0NffD8fw0VTJsqs53iqcCTvsr4Tu1xvCHl9O7Gq0HOhdHLCzOmypX\n",
              "JSWBeGF1XwAAAEYBnj10Rf8BHbhc1ywzRwALamzf5YyrWLbOAqGLpoeVJS3MI+bxQWfAa5Ozl3cw\n",
              "FJkrAsvF1CRV6HEogs2m4CgLwATnRGEBAAAAPwGeP2pF/wEWYlcH+9WpB2AAuP7OZX86pZdZ4+ll\n",
              "G7Tgo03DW/1Z83iZJr2Bymd0U15wPzMJe/mQQiAHx1PSuwAAAapBmiRJqEFsmUwIT//98QAaYfdx\n",
              "y71gBM1zxTaNLDl9L16XmRIOAQMIqXzGW1/Uc4ZZHiWbkioXA7+KEKBLGq8AyZYuLiSDJZJQvtSY\n",
              "d31ZZKpqWpZ/7DmXiOfvoFSuTHncyJGLH4Zg8BwesSQZFg9mfboRHNgfo7KNMDZk4WWkXcFAM8Qp\n",
              "CexFiOeVok4Q9AjUvZUrn44O8HyIGPUw1AIHmWAWMEPxv6dPoMo5JnR37ZssR3Een7K+wu3btjP/\n",
              "+WNoZNohQf4LIPm2UQNlU7/04pJ6mVTDXSWQ0nUoVJ5yA9QMNeRPdsNCdelazTR85Qx+QhZSYoBq\n",
              "f1jAHL8+zDneQTfiNJ57L7LMVV2Nz93oK8LUQld55hlRApsnOQv9YgFPWalfJpYG7TYRg5GS5f+D\n",
              "davGoEhrWPuAAZZrkcGlkL20dh66u8Jd2SsBPPWNPADbGWOiz8MegoGE91E0RXDxXdqZaKJ+sui5\n",
              "izdNTnG6uO6WS9II08l11DL9iBvDVBVcYjsP7VlU7dVkrXWc38lrcY3G7t0iM+XDWTDrIgFMZxyV\n",
              "2kWEEqA9CbMAAABjQZ5CRRUsbwHBkRVE1noovu1QFSM+4LOgUfmpYZ2aB7fDVZQ9klmiIHjSu5SJ\n",
              "GEluQAmk2rWSrcXYN/PePuvfcna+EH5DqjjOcxUYiAFXwASwtQUP22zcZgMPcWdbAlQPOcbBAAAA\n",
              "TwGeYXRF/wEWydQA22FszdpXWw8Yqll7TxkBYjVMn3XfcAX3c616K0ZUailclU4triDQ7mxkvzfC\n",
              "iqvjwJ8d0swEuitS3Zww8ihwLERma5kAAABKAZ5jakX/AR5iVW/3CAEmXSJ/ZKbW3aqdSQAh/ibF\n",
              "2GO//vCXECS3d2RZunkFMlAEGvEgXiGpNiqX5Y7COsDLOkQsB9VAaY18KWAAAAFVQZpoSahBbJlM\n",
              "CE///fEAGkUp8AITbt46m776HF3VkEnlkTbYgILeLwM7SrtrssEu5iEmDuyvftxc8jOXD8c3+Nme\n",
              "wVQ4Cluoy86+qEA9beRIeF1elqdpJGqD00wvFZrXuGOFICjbj7DwYYBKn3Hkf6SY1IlLbxWMXicT\n",
              "VfcYty5hYdiol5EIwNy8FWjnEVFsFDv7LEltywRPj2holzyoDYK4XqoGsKLcKATaNS73sUyLWtoy\n",
              "ewWx2Mwh0Nk3KVcgL3V6PCZ6C34Ar6nMtphBnmewYEkgVJmJJn9GJynxbFVtwvxcI0fp6564QQCp\n",
              "jMiWGFcR/M9Ftq1wyEJqOG3+AYQ6Waqlgvwak5oDtrTVbgSrmNNt8oBVySKSgR3SjQI+VT1gB8ab\n",
              "HUe/EyVUC4SPjpGGqRbwYY5tw7le1Nb1ECiwz8LpFy9S4mkbcD5dxZaqWSxieScAAABiQZ6GRRUs\n",
              "bwHA9usRbOzR5Rv/zpjGK7QLw/FS+3Ax5m/xmjdg964AJVTRQF/aJ1Ksho3ra3H6pOrtZ2BYt6uo\n",
              "A+u9eUj2dUwWHSdJqs00kSo4BqMzwRRQFu/ml9DICcrYVmEAAABGAZ6ldEX/AR24pCX1SmsWkffg\n",
              "DuGHxVMABKcGsADQ1HsF83AE7KFT3MwSoFGy8DDYdNWij2wbfGqQmZOBZHWOH4geXwTiYAAAAEYB\n",
              "nqdqRf8CPXrgATpwxDaxtTj0BtvYEyDBoZbW2NVAz++NsTUVxvSA/tYeOPeuxCfeWLlxGgn7DsIx\n",
              "mj4f0zWAwAeX7jlpAAABN0GarEmoQWyZTAhP//3xABpjmRdXwAmALfkqxLxibKLDZg/FYR4Z2mL6\n",
              "7rHBSAkrPXGMeONk90JExYQ+6Q8VBjkjLv/XgpFQOjIcAhDHhkdDlMT28shwOOAI+1TbhCFq7l1+\n",
              "K8QKXA/w5ASn+1n7hgjy17vjBkWaaI5gnpCL5BvwCAc+jZNlks1jIFFjK6ai65axYcc7v+i7wOnE\n",
              "WfDqiONbye6G+QZDESaO8ivCvOvWc62Ws5ZRx722UXd+RW66TJpWpJAfHjbG/zO3ifvl1q+PmekU\n",
              "oU3IFduw7bFg80hlCKVuSKfFbyc9/rFroBiMG7eeyJMYlUCJqNX88SjH89AOjmEtJ0NIy0gpKs7k\n",
              "CxzGYC6CgooDQHBqTk+5YwRWx53quw9Rty/OJof6TwuBwwrC41e4IPrAAAAAZEGeykUVLG8BwUNG\n",
              "YA2u0nAAulDACm2n+2FR9kIAElw47ONDC9/ulWN984liYV/Q9n42p9x/E3sl9+Q1BzG0Dv3NHA5e\n",
              "41BmxdEQiKkF9HfO/KUYGIbLzO05HlGX+iACMr/0QIEAAAA1AZ7pdEX/ARW4XX1w/vvICP2f1u9O\n",
              "yu8QCu+Sl8OCrt+tY6TJYpFu27fwH5WFYNcAI67TToEAAABIAZ7rakX/ARGa+CPleKC8NnK/niZP\n",
              "F7ROFFjWjyj1YATRT31dRea2DInCdNoJtlVO92oGNT/K90Soe/q+b0oo0mfPQAZvAUP5AAAByEGa\n",
              "8EmoQWyZTAhP//3xABph93GC7tUABtI5DfW+2t50/qeL7+XrFht4sQ+V9E8BqmY79XXhMpEQjfSH\n",
              "RfgEC4wI+MKgphqJMuZW4z95ndjuU3F1UvBIkNHDA7oQDXXO2K1mM/s0BzZ9FdNqM6VN65yJCm7l\n",
              "5C87Q4K7ax5hLPwpP22kfXaG0LiPJG1+CkBBIkeZ5qVAuIh8UTJXKinYsABF7WaIEuGuoHHONipB\n",
              "oeTV+YpTj9Vf/7wcpUZ6Un+Dar1aq8CeAc5XH/DqCCVbX59wy8GiuwwtmxlWxFhz1R+Tn+hIW56/\n",
              "zke2BjKZXu9MSjEmSPjmUhEfQjSqH2M3kVHUD7tWJrdnFEcivVY2c0b286/rc5PPMkf++MhFyVcJ\n",
              "P0HSnBNhYLhv1+vFxXcbIBB57bI3cNokWGJdp8oZVqhMTyKdD6gTM26+8fLtqNi/QBuldbQeZY5y\n",
              "NBe9LEZ4qvfxMtMEQG8Cf6rZmCm97MkL49BN4DUExlhEjUIDNfrtMKb3i/+h0hGB0yVd7w9MUqCs\n",
              "i6Bfi+C9AiCtzYCZD3oWkke1pqsft4BvcYoH4LSkRgSWMLSCPNX0MPiv4ptzJvNqdG5YWEAwwQAA\n",
              "AGBBnw5FFSxvAcD2pS+yFOpdYMAFxm7OaWdqJ6N9B/OLV1aazrIO09f60+sNbAmGMDk/qUwvJene\n",
              "2hun5zeCJrN7jWCpZBcr+RDrTFggozphJN/JnE1T9qyyH7aGAOKTZVcAAAA/AZ8tdEX/ARW4acQA\n",
              "EZzBUuTgRAp2leGsZCbGgqWTnYKPaSuboUaV7hlnWZ/X+bRRgn3xpKg6pTILwAnKMXMoAAAAPgGf\n",
              "L2pF/wEcxTSAe3rmDgBa/3FPPP6JmmJ++ptrs4jzJGUw8hTq93j2GHpgKndNZnIkewO/ecKdeLel\n",
              "QBBxAAABjEGbNEmoQWyZTAhP//3xABph96YaACdsUn5PIwkf/tx5IohZZ6oAqqXkcanPG2ktenEi\n",
              "CwGly9X/J9orD/Mi506Mtx8vW2Pwu92fOVK6L0b2vz3CA32s+LEkljgmOD6hpp3qC7c2wAvd5Mi+\n",
              "FUnKzxbs7Admzu9h+OAIqcBTtCZ+fgp9bYcaz/DHHmV7hXwODswoAUrPCSuzs4npQafTyn/bHX/q\n",
              "fQfcnFeFI9q3gbpYdC9iJs8d/YqaHwTd6M+mrXGLN9llcFZVeek02/aX6zC++jZxUteUYKBPre1P\n",
              "9Lbg3JAaFMaBdpO42diTgPVi9uWq+a8C5f+yBNVNtounrMpQwJLCZzjq1aXnR1noeLvjlUrDk+4K\n",
              "dzY0viM86XIPMIdmgHboBDqrgERidPP9WPEiy9xQLRunePxc9ulsk05lxsgNmwfJLU1M17/sWxs1\n",
              "q+u4nrD/YEFvZUZ5Fv/zsLSibGgFI/TSsHCk9BzYWBuRyDwPPAp5M5kWhiUW3fblw9sg6O5fBLES\n",
              "TDrWUAAAAFlBn1JFFSxvAbTJcn2JgAtgClQ2stS2KvPPdGzG79vW4ApEQAHkuEmPcR1onW46Ic7p\n",
              "6LirHZlpjntQJQfajcuBNcRlh9aDiJE3Lx9ueDNB4+YpCQBHc6H2gAAAAEwBn3F0Rf8COYVkgkzd\n",
              "6Yg3Oxr+eAD9WqcunXHF771V6/BsRV06B9On7nMTg06fpGXQFlJe+13PHiQIJPA7TQiOhhK/4cwc\n",
              "5o0wAOmBAAAAUAGfc2pF/wI4xCRBACYswfig8yLV3JQdylKH2Qd/0hKaa2Bkhn81nZNeeHck6eum\n",
              "wtuLNrpmKaDscvnv4QDJVe59BRO1rv1vo7tl795YAOmBAAABsEGbeEmoQWyZTAhP//3xABph+ZZu\n",
              "AFuC90tFs96cfyvllODBaE+RLgnFvgRxyJ/KAyTEeozHkGv4/ev00vjmvWVzYV07W6vFZPsUV60S\n",
              "nrCbpQQAlXCLvzA4d1e8GD0iJ+eG9S45y4yrLNPHbihs+9XEso5AYQ9+WI1zeRwaR5CeDInsyq0U\n",
              "l7snFlIHMC0NfOLDUHzmRYlWSmtILX27vh+fcoaBHhRthgA2ts3Sve14F6GZDjoramRofBnf8kPj\n",
              "DokXMcBQfOZWTl2SM7npAh3iBpn4fl/XVMH5Zn02Zajwf1xQ8JWxwGoDNTdoLlLYXvy1dPGJlAE8\n",
              "hgAFZRLFrEsgHLOoPww9abFWBpjSXyw2HrRvsBPo3CxER3G9o4AMzUBBCA4DMR9O87lA0OSlSjxQ\n",
              "vmBUHcMHkv+cIZIMRADgmtxZYhWMAvsTe8H5+gjVbBctCpZlHRoAv6ad0LBNFWx7+lF4lcMdfoWQ\n",
              "bn+nMEO9uYBvw493hh0H3njHiQ4oZbkzFbnna8yA48MUbyVq3BSo/dHPOba0y9q8WO+8fawwOqJf\n",
              "zry2bqCxl1hkZ801DwAAAHdBn5ZFFSxvAcS+yAEtAMWTqfZqqdH06sKtOCIXCBxgv60kQJ4tS5/A\n",
              "iV956k2fbZgDQ7PcOxrHaAbiUsmWpvRrNv4wKnXwL6sz4eLBl7H1+Q83AIZdw40ppRwKfJaizHzV\n",
              "OU0MhjWFWsd5rGqdcxAksZ4c0GS9fgAAADQBn7V0Rf8BHbhZf6j1XJITKvgKaAEvgAFE10D3I3IT\n",
              "3ZnVwJMYEoSaUYqk1WpI7kDxfAHTAAAAVAGft2pF/wEUcXLqIDbdE+cW+nM/fm54/MuMkxK8yAC4\n",
              "/uOoKIN6hZEQPI+leG0+/k9XvdiaZwYwD6qaNqDaZLW5dJrFA4SYyLXr/8iiXralfgAu4QAAAU1B\n",
              "m7xJqEFsmUwIT//98QAaRcW4AbmDkwN/8fKYIH5OCIbOL14IjeqxNT7zYIs0DEARzq/FkLcMNhrC\n",
              "33j3lYTn0z6wjVE4d2kJBvNGmJ4UJjw5QsnX6NskG7I532uSMcgCHvsrXCCGdoYiiHy7DUg8nT1Y\n",
              "j+5dIPHMiaveCtyWo1QWHtKkm70J/WfkMegmYhi0uTxLKab+yYtravycLppt0RkmVJ20yuQLeEoo\n",
              "bB/pfblYtpO8VW4jiL2E4MD9MZ0I9DMbT5RObKG9jEz415uuts8hBx0a06GiIi+iYxEdTGarscyy\n",
              "KT7fyevcMPeZpN8NlEIfA+CBA268tMcu7NVfV68c+B1NltoiizP+I5Wtkbpsrl9/L/4BzoBvHI/e\n",
              "JgPuoX+X0LIVjDeoZCEQzPMUFJrtWuz77TlYy1G0K263KN5pML0pGMOxbUxp4qYAAABwQZ/aRRUs\n",
              "bwHEy5AAt17vOODYLiXH29y28Y5ElH7kHZwlakstHR5cXJPffCs/RPn7WmXWpLzARYigSGqDh/sU\n",
              "NvexoH831K8drlkXeaQucr/OMO/r61K6oE5zd7GvPdfinPZg9ldb/ucBOf1gnABDwAAAAEUBn/l0\n",
              "Rf8BFJnxqYTRlbZxmAC1lG0AH1wekLjAz7DboYfONbs/0h9lwQMiUsyUBb6dGHr+wORYQVfp5S1r\n",
              "hiWRJAAA1YEAAAA1AZ/7akX/AR5iVq0vjESOXcJpZEZNvEqMzfvShg1wAFu7XLIWy8apEKJyv1ND\n",
              "VoxIBHQAoIAAAAIVQZvgSahBbJlMCE///fEAGkXFuAG6xgIoLrXB4IohgYinmSNSbkRYKuEhfnKr\n",
              "zJxGqYkaLqyV7vqvcCqIO4elgalfMNZXgTRwgCAz4OYCO2301F8QYeDlLLPcuw6jb2ZqCE/1zdhI\n",
              "U4xnMQIRmdJLuQs7HNoNLj+QszUsrokeeiK2LeOEb9t0EnpGzC/MXxc48TdicqOM0MRUYOdhjAfU\n",
              "9/96Hj6HdQjvR6iSGxib0e5o2UzyUFax8jfDuMEQIX8ecNgacHWkfV1DnMDHYJsZSUPgEHjiIX71\n",
              "3y/2nn0//hJj/4KkHow1zlo0qxXQKRPe/yeYt5FiB1VLq60VEvbYjppPYJfSzWR9IB3z7Qbll7Fg\n",
              "U0P6hBMskEK+QnlbKjkkmymINsL0AXHx4bQH5XDsDbjF8yCZBA2KNjMX2LSadl5BE5I2nFVp1gqu\n",
              "kPe9TIB6g/rs5q50u3JqAhPA4BeqakVXtowAtQBo9r9uCWLz3wngXLquUl/jKfoymFux5eOl6IDl\n",
              "MTToX4TIrE7l7F7VH9Rmgo8V45p5rpUJNFNSoFj1YVVjuGch5HyHjaEcH5fX61OSjhAtZT7X3WR3\n",
              "w3CsQ/F4RVHOz9kDpXxdSpvo8oZj1tx4q8zfW0FMfKOnZgQXELH2t9JBNLSgv73moww2nwgPjDQa\n",
              "CByG+TB2YBgvqQR1nBrhYsIjn9NHQi3+SRNSyr0hH80AAABtQZ4eRRUsbwHCk7QIYN14ClZkqnY3\n",
              "TghxOiCc6TDq22gi0cVa3gWRlYEeD1Mf6nIK5mqAuUAG0uH32u9nKQCO17r/4yNJmhLKbNhs6K1S\n",
              "S5XhE/JmJ9iH/Guelbd/lsP3fCosd6/6TcAEkADAgQAAAEkBnj10Rf8BHbhZf36E91Xek634nkAA\n",
              "fp94CWqoHgvicktH1aEdLNHSTgkdy8ANJpLW3FVlx4iJoUfVxu/IveHXV2Hme06EAC7gAAAAVgGe\n",
              "P2pF/wEeGoqfrOEAKkqMG5v70z8MTP2auHgyj007e4yV7ne40DKsA/18empTiVeyL5z3oE4ZPgnK\n",
              "wkFGCKruuouXJ2SJpIt/ddfsb3LFZZlRyAJXAAABbEGaJEmoQWyZTAhP//3xABpFKfACaZsOpWcc\n",
              "RHzWxmE/09MXCBhzHDAY+Z7hId80Dvd4zO4nDDwd00RyawQ7lPCUcUVmoZm2agDudNWroL1/fI4g\n",
              "mV5uHyCvYOOICUiHONEt25BEJqjymdGexbiVNnuEOaWNWC79IoYSv/JC8vnFCrB+mFrB/BNlMpUJ\n",
              "b2r5Z8XGvISVEgMoo/IWGrfanJvcjek8uuI3SFoZJpqdmZHP6ot+qKiA+SMP9ReG/5pmXaUFTgQX\n",
              "ndXyN54zRMnQoQ/IfPdeBHx7hnon67xzxaBJeOuL5j9D0F2E7fx42WhTm1Gd7b4urWe2RBf66gi4\n",
              "JFmHzCMOAuU5xucelDBeojLDQy6gvAiXGoHk3vNUZ/f2ldiFZFXmV2sfeNPqNdBoxFpjDvQR9sQg\n",
              "7SRcJUwTsOQjjYVUX0yDBZfBaZeIukuXG4Lr/dPc3bMIutoB3Ekg5z87h/K1UV8EJIpPh4AAAABm\n",
              "QZ5CRRUsbwHA9uuOv6LaNXZ5Yog83lUXqymuOL0kgoASdmyjy169VJn9ZyK0iun8N1Oj9k423k+Q\n",
              "QyxM71Z144Eaah7CYbUR8hkrF87tgsh/aPXzaMNky5vpZizEr6b0kfIrWBKxAAAATAGeYXRF/wEV\n",
              "uGzOABXjHrKsZCpYh4rPFhTKH0wIvmr4bUu3rBLR4fqmrHLGi6+6sBS/x6/DpigD723bgwysYfa7\n",
              "qIkKBPCCBK9cAdMAAABBAZ5jakX/AivThyAD9fFl/CwT1NT52z0qUZ/bAwuQaCOYf5sm4Du3V7s0\n",
              "+8CFZctP+tSNObdYCcfWv5vjsfIAHpAAAAHiQZpoSahBbJlMCE///fEAGmH4RF2Yi2ADKsAard8k\n",
              "J/UbFhWig1Hp5vSeGpcj3Ob9mIrSJ64Evv2kW5+bMQpOSVEOxQai4mvfbAs1XTaLy40kt3bSR8EJ\n",
              "EvVCrh9c8yPaBVNWP36zyg6jCC6DKfz3akz1oSdE3BYnsionimeU83+CB0vi/0zWA8G2qAmJjWDk\n",
              "PtCJkNP/qB9RJB7DctwvYgfoYuHTyJZLlP0rPQNvKjArMqbRPJvhsBTyajhHxQlxXOmkjhcMoZND\n",
              "AYqRf81+8pRfFkNWryylaq8wDjwg5XhOmCsIVFRFHqu6gY2EZfZ3AWJryKvHv2RFj3YdKdvtfi4i\n",
              "Tvohp3rUwXonniXhf8UzLW5pcq13wocn5c8X2CMiFJPax9fRvQ42Fn7XhWtmapkD35eX7LEHcigI\n",
              "T3c6GpK5FRvBaVJKo4DfKc8avRNtrLi/RvVxDODOP2+4h7aHoq7hJOAqUftMAVTB/ZKFhgWxIjSP\n",
              "BRYijlFMpZI7wPpe+tQ3Aq/Xmm5Q1zFVZ2aC6sZtp0EbxQtXKo0ik9BkZ+9BINy+M1jX/gEzyx9U\n",
              "HidhFPgduY+DlrkjvYxzq1QAkYiHo/GJ9srwtdm6Qqk/Sp2PXuCd5FzGj289nOtwnOip/MAAAABz\n",
              "QZ6GRRUsbwG26RX651l37Ad4Yl0K7sVPqLoP7cfcYg2zycUwgBudNvOF4rS31YwmAIx1d+VJGvqL\n",
              "aZ4OewDlx0Lhsi7rmq//la8PV+Hwi4YYLGTZHx/GacxjNtHh6TeTlYDsjASZ2Pr0k2yMPJgsHAA1\n",
              "YQAAADgBnqV0Rf8COYWY2AD93ZJjmg8GxnSF+VMyoKINCLefmln3Tr0SkZRBnHao3Rg+k6L8t0gT\n",
              "eAA1IAAAAEoBnqdqRf8COrtB9cgBJlByCDDIVq4Q0vtuG/vsEw4+BSBFcND/bPpU3dyF+9sik4vM\n",
              "HGu4ZY+Uvbs6FFWPJmuurN0ac0Y1HwAVsQAAAT5BmqxJqEFsmUwIT//98QAaYfbcIABNSOMTY+Ua\n",
              "nL9vuzqPNk9nmmBHmZr9WRQMI9Bcq/EJztrGrumKkcz1eOaWIqeF/gIi38KVhtx28VrsE74jU9qk\n",
              "KCYABTnni7FK5BSxOx1RQFPnS/LY+u3XrYXBkXnIwPMC7Z6wbKpOojwGPeGRB0cL6KOADFMeAwT2\n",
              "lOSHCoknD3aeNgNBbK576jAeWpozyfRC09Mv04Gqrev3CtO/VBmpbTenPtH9iMwpSi8xsMwMn1R/\n",
              "YPgYyYdbrPVlpkdA7KJPAWf2k37GFplCaC23VpEtaStXXAXmkeq28TsUDRUen6/W84tunGGLxImx\n",
              "iGOTWJ/f86YfoZCltk7ZkeNIvbggCqEV7aHkxN+j8qycw4s4ED+rn9z+62CKplQVlABVYCj1r1jP\n",
              "FYiW84AAAABWQZ7KRRUsbwHBkRVEOdAfCZnxKMVmx8woKGzvQVIGGsziDxnq5AmpyQIWGgj/XKAD\n",
              "5BG4xApInOMRzkSoTc2+7EsNf0OstWZ0QCb7wgSLZnEMx4AAS8EAAABEAZ7pdEX/ASUiHcz9wqAz\n",
              "G86AFnIAIp+N2IzMz+z8uYIRw9EaNEtagbU35PZxIxErdT5oQ1UPw7Va+8YSZk5hRtdgAicAAABS\n",
              "AZ7rakX/ASXyFal8wAyrLkU3IXkNlYdZ4UZSQ2g9JFzaxgfPnA4kZbZOCWci0Ok+SN/yJdJE2sGb\n",
              "hs4q9Uft6Ep/wkEps+iJWOCHXAAxHF6YkQAAAV1BmvBJqEFsmUwIT//98QAaPSDAYOUjFJnyGDOT\n",
              "JE4wn9xBvAOoYgS3QggKjyPRvqacGpyjHfJbvWZn974a4iQ50yp05rjhOOPxEMU7QFs3IXelfrRn\n",
              "h2yz3OBCguBA1+oKE8ufRztRU0Rc9SQMSJPNokRHSbBgx1aFfjUBjKjyEHeZ+paB5PpmZCQS/xg3\n",
              "tYiqQEIEmZa9MlHw5nVjWko4a+1G9g4KN8zGa45mWbU3LxHFKTDhrHwKpqWI/guinhFlSMbGWp7T\n",
              "O5bvm+MPSHLXSt3vnCw1ZYgbjCIXcSlIfziTwevn0QlWAeTNEHem3Lf1QhFGWBWGOTywnrVZfeFU\n",
              "YD9BoVnYChZFRX+j28GNzV4In8e+4lR2DjLp0jbCAtNSmP8nRA8Pb8rQAFvP9x4G1b2I5NFOFa6F\n",
              "7KDfNQNPLx6fkBQkDynT0nR7+xZNaLaRroIwK5mXxiDkecSDAAAAYkGfDkUVLG8BwPbrjsjU4ncg\n",
              "IAH4tbBqq7R7Uwb02rc5pFXEMXguXCIydihmvLgHhJwujpcKL7FhHz6lsjjuLNxxc53o90gXt/Qv\n",
              "TiCAGjGoqYsX3cVr3qFW64KW25vu4B8wAAAASwGfLXRF/wCSQHbAI4FN8AGbgII5nmhX61tvArcL\n",
              "LdQ8WnFQrsgEh+qdnBb+dy2nJ7b5fz7QTHUb9xfqiznAtg2i46MnkGbWAABvQAAAAEIBny9qRf8C\n",
              "LaJEAJDYK225gT9el6hTBfSoQkX4Ky3a51kZmIpvKNrv2rH8dIAQLKbO/7EvD1anhCVy9U+//WAA\n",
              "VMEAAAFcQZs0SahBbJlMCE///fEAGmQPgprGl4i9nVlL6AEbC31xk8HtaFDhEFLQHQSBOyKUT4+1\n",
              "Nqmiy7ABZ4oBzOyNBUdDazUv64rp5NsXu9OOWEj7WRbY1/dJUPUyidk1ivW+gl4QKbM/N8KWDd8t\n",
              "z8kKx8WM/J0t8Ptt2osiiwalH0TuRgPKtzF34ZRnBVIie2LAyXN77mlo2Q7T+qkRAs5n53GdO+N9\n",
              "RFs7/x2JVy0T/g3W0K7OfRg9Jg0Nr9owgy9pS5aTjSnQ5/aqW5z88Hmo2N4gVIYHa5Is/iTPJv0x\n",
              "NdguJI29bfqF6i4CvLwOlcORd5sruXy6e0HMM7493YIewyMFHZ29nZ9tirnbASM6UeQJYqolJOPo\n",
              "BqM3xq1yetUaP2KWAS+brM3ol+tyVBP5JbxiLRWBS2V69A15z1//ZnXlsSlpIqOC875/+km1qQVd\n",
              "gkqq6AFmM9bxJ6FAAAAAVEGfUkUVLG8BvRMVMg9lqHPKIw2INLPDTMRoQhqzMYWP0QZkWJQZUXSG\n",
              "8sdjNH4bySapAwAd0PmQY5Ph0lWf1wWaX2ywTpxRurfjGIXdci35QsAxYAAAAD8Bn3F0Rf8BHbha\n",
              "4/eA+aq6C92ICSYCN8f/yYQAErmb9l0NtreLf/SpQgt+gokRhPVUESop3RA2Ju9XO5AAZUEAAABB\n",
              "AZ9zakX/ARVerdEtQ89OWO0l390gBMO9ds+0h8+vYECPUFaG9XM4shLnPshzMcjiKgjNq5uEG9LX\n",
              "T7kqFVYAD8kAAAFUQZt4SahBbJlMCE///fEAGmH3phoAGilkq5mnipbmiLEt4Q9fA/G5hLJCV/PO\n",
              "N54q1lGc+arIg05HPQSgfVwpnd7VkqbieuXWjpjDrEzyov7hvJtjtepcfXAn1Ea5saMLhGHLoVD8\n",
              "XxlI/XTbw30pVli+FiPztTn5gsU1QBfjH7QkdCBaY04EvhGh/A/KGN8kqwiq6lASkT1HVRDMVRuV\n",
              "XUMZe6RtQone+gWYkl/3P/xIByjGm7dk0C6zcJYVehCfuFZA/hrMlXkQxE4LTdVu5MB7vz2kDUO8\n",
              "c/LFwmciKs9RQkIaMZ/hh4JMdFXXwtrYdTW94+sHlmSQ8jYSsE11igRJv30nNJfTe/0nGQcsGc7S\n",
              "adgH075sZpW0YPwYxC7fmZOE6wxCnibdfg/YehCDrQVEWd1+yKNKHm99qKNaCikoQxeBaofwD0As\n",
              "P05NVRMREDQ4EQAAAGJBn5ZFFSxvAcD29vkACdSgzLIXhlgqn6qfSKUZ+oAQ/c1EyvTMixp8wlAu\n",
              "fuQ3iq+RnkLppe8gMvnJGR108Yd9BYbWdIoXJcJt+UhPyUJf5u6n8bXqbsfipx0ge0jLmAALaAAA\n",
              "AEcBn7V0Rf8CLZOoATJoEihVqvIAMNR+S8V+IeL4IrY1EFzTX8wo70LRGiidWkpGLIe0UIGXhfRy\n",
              "PbsSDqh6ErpnokD25YAK2AAAAE8Bn7dqRf8CKWprG5gAS1wSWp77iOwT5owxZWriBl3FB8i3XTM5\n",
              "9GEQJ3TMIJiNohEe5abXCioJscIDZPT4nB55UXGl9e/fDNNiFrpGAAu5AAABrUGbvEmoQWyZTAhP\n",
              "//3xABpf+Gmqr4AGjYpxPh0/PnnGLC3jBbGXMN130cT8l7KLFEum3rSOoPx+vgmFoBR2+DoM6Evk\n",
              "gQLXVExnkcL9EArrenz3tiHE+sUZT7FY6AsWRAO7GdDb+409626efBYyXp8yN5t9zDmFy9qicrSV\n",
              "wzTiGFIiLmpuHOeyZp7p3uDgeBtxFUPoZCDMFD7xCwzc6L/2x8lEnphSA/dBShT2EkBiMReZOvwo\n",
              "NgyOTPVP+Nxv1X5dMGX+DqfIJqRrJvsP9nqxei21XPlh94BmCrOBPVddLmKN1WopuW1hJwUlWZmi\n",
              "XVnOgyrVsOel0kZ3RjPdZjKEugu6vo2jfwFah8cAMWd/2RWVhOdhE+w7960yAUeW1OaLleiMEzuW\n",
              "USSJBSwLB/nteccOne9vsjPfSmMh266azRC0JH2PLhunfKwXnTRjO6MTzcA/NCHbXxVMVS/SFYtE\n",
              "ZchixRnpulEybsFi7oaF74e5QRFRDRbS+T2NulQPmrwbipUyTdbYHPlki6a8N08+XrtwXMOKB29z\n",
              "KB2VCwgrn4i9eczPixlpZESNgAAAAHNBn9pFFSxvAb/bFClBm9X4gAmWMSzIRC0XVQ8UUnhQPtwY\n",
              "FS/BhLBtcw1xTrL0W2x3iKA1Vh2aoSoIG99/nSyUo9ALyvXwN0NVuSSpYFJTbuXv0JN1gq/jnS4p\n",
              "pVykIwoUj68xirosKa7CnzA7zWOb9gMWAAAASgGf+XRF/wIt7mgATifivDkudbKsgLDi9UCPkK0b\n",
              "qIoSOb3hs0Cq9FY5x3RRBdfJJHiv4JaQmpB+GzdrlWsDH4sKGS8UEKl3AAW1AAAAMQGf+2pF/wEd\n",
              "n0ripNnrV7Yikp2dM6VXWABAC0rtpVSvpqIVx+wtKMh03FtB5LAAJOAAAAFZQZvgSahBbJlMCE//\n",
              "/fEAGm0vvBB/OAAhvKshRIZLYtfNizHLGTm9x6Rw6gJXKK3YApdx3khcynHatInfQgB5LGtrhq+B\n",
              "b6ZK0VZzPIKXc4MggUafBgAJD92F4EpfpLJ6gWNeeL/Ig2B1t9yweWJT8OR8aar52+up02qmvodj\n",
              "tGp+yVkNccyR4nPA/M7ImYwQNcx8Gwxxdv96PUBPrHMkWodPOXjr9hlvnxFLjEo7qVYTv1eSPE0q\n",
              "O99MzrwTFuvIjhC+IDz/zKDFxw5EjarXQtIw6dDKUi2cYbFh87SpwuzQK7GFFqx4XbSxA+70nVuA\n",
              "HiYQIaYmbpr+sDenldCD60vPDIwLcY4tfLlfDxDViOAAD4r3y9vmZcHv7XXd/9xp/rFRzBGrp2U+\n",
              "faTrBW2dyv3gTT7KeQ2UPlEyU6BsJ5oZy8OrED88l3LePsTBgJmw2QHUN4ElctbBAAAAXEGeHkUV\n",
              "LG8BwPbrjsjCSuIPZ3LUV9qeKZXopjd89G0sRGBHKVidaKnhkM9KhtGWfzqhyjanNMAAF0BwrDRB\n",
              "yPtko6Vc6aWg2PhjY5zXx8+/S8E92NnoRYDPAE3BAAAAQAGePXRF/wEduFzwbFzY8yz8dwATnt60\n",
              "zVTOi2+YfYnPJHvbZzInBA71okpctVqMBKlGYF5maKtNIT8zLdyALuAAAAA+AZ4/akX/Ai2TqAEh\n",
              "rok/n6hHh39SuZGx6T7jnKQeal4cOEZzqjskJKx+HVnax9ggjtkmMEaJh0GsmPmAAQ8AAAHuQZok\n",
              "SahBbJlMCE///fEAGm0vvDXBFuADlKukJNTerKD25V0mYXjudl+Soms1W3tKY2asY3hKqIDLsFNA\n",
              "Mg77oIjhOCZO/QNSTWrJL37bVr5+QL1HEzNTPbNurD7LPYJOHKSMGMAERrNEVAv5ZgFv/KdP7aXx\n",
              "oCaHkCmfXhcIpzZCkYhWas+BJbeCm77LT8WzpnkbqyYghO/D90pTz6Qg3eDWtRTeCulQEEt2/9o9\n",
              "Bc991WPifNAHCqFfGdxjG4tbRmcrb47i6EPyMZro2Hr1WGQxdwLRpJSKOhc8KTr6QQ2ZC14x3Qyl\n",
              "7XbquUiCpHErqwQ65y2DSqx76tKa07KIncfzhT2QonNMjK8S+FNycQCwY+Wg+PsBWaYenTiQS6M/\n",
              "bw8KKzqchxFAUILWFxj6YBi27umh1xZ9cEA2UGZglLfBkbcm1eFetF/BWocC9tg2S/GXcYD3fgIn\n",
              "A+R7q3JtGeu3DXPCYQnMRz93T9c1tBOuB6JgHNqh8lJjEyDH3v0IoydUlKmwWcpjumLeSmbtvFGk\n",
              "lbKnKsZGBwgJBjC37OOISFMl7KcU+6Chk85oJfwdc3ylOpFikI87hUWD+vdYzwU+FXlCHiabsPUk\n",
              "69OJIRpbUKoSPLJpvmIcbc9PRmjqHC05zLs4B+5mUAFGzLgAAABnQZ5CRRUsbwHA9qhpIASeEZJ2\n",
              "hYvw4CZzTtaz65Y+L7LkC+/gkntWJCREYyVZzfSYHUP7BvMoqHA0I1cEjFxJubm4AILCMFQ4ONTM\n",
              "K90t8U7KHe9IEL/n+O0e6uTWJw9b5IQ3XtK3QQAAAFABnmF0Rf8CLZhkAHzYRlfnG9c2mCC7xPxW\n",
              "1sGBj3Xkw2ChW9xE3uY8jY/YoDDC5PO3p8cUk1N6Zc1gtVFuA4x1+xNPrE61F/JauljT4CgBBwAA\n",
              "AEoBnmNqRf8BJZ0XZrnp0ALOaoBoUbuvjeOfwNJJyi/h9jgzuxY4YZiV6Qe5+Xs4PjTSYXcjiAAA\n",
              "Diqx/NVB1wHIdh5RPTWI7oAIuAAAAgBBmmhJqEFsmUwIT//98QAabS+8PD79MAHOHNh6Q8e77SuO\n",
              "NMdse5CjOzlOpRgG1JkCKtwK17rXp5zYzb1LZwQO9uZuNBfzrOQ06AELTMMqzQm+0c9DAkcnbiry\n",
              "XKFqaTjxSeq97xGHvJGNMx8qIdoTPxusEkq33DfGBg3R0WhRoYSO3wUkAPF9bz51aUFZY1vwa8kR\n",
              "ECAUCbMvC59Tcj406bnkwhHBDDJ57Rkv5jgB0JL+6fDO5w4v/Zi40PePtM/hbPDw1G70UXCAownR\n",
              "qTJTRIPDgdIuSzTHMNU1050oxp2smVKYuE2fgtLl6mmZPb0ib3eLLDDPm+24v4f1czpj82dz5K3e\n",
              "1XL7OTs8spOrapM70UkFIz+DQXnZu0te4uwmtbIwoOjY96WN0iGkzpekCkARZiwXFnXx9166qdeP\n",
              "8Cy8nTkMMdECjSa/qbCy4hjMo3GDYsbDbvQOTWGsA7Q2ho/YPacQ/3AePftPsv8qKX9nsLEyHpUm\n",
              "M0SRgeb4Bp7DfrS9JH0JN62XxArgoEPmLvVUePI8H/Iev6+ifEizL2i3NTteo0uzXO35dWSPRvl2\n",
              "C8N8eXIFyfKazRiVs2YzbYqg2O96ozHrl3hChVasmZZ6zYgKsORIkHurcwnY/lklUqXgs/3ub7Fr\n",
              "tJ53qOX/9A9WPfISGQHmOc3pfPE/gAAAAI1BnoZFFSxvAb0O6Y77TQAJxTMvqe+9Evt3Vf2kze9d\n",
              "tptOTi/yteRNR9ASCJ5ebQ3uSxbIbla1q2b31xtU9b74vCX2jJ/vyhJ5sF5mj5+G4JwCX2CRlKYM\n",
              "je3wLtLhKMJESSUUb7fkLCLylFo3ER/gEGBlFve0+/c6xu/f4nGFKgynbcg12Jb00Amci/kAAAA+\n",
              "AZ6ldEX/ASVINYk6qwXG9CiSHtLJACxudNoMah4jbt3vkpA2PVIlV8ozErVUwiAlsjID3OFp0te1\n",
              "Lo0wAXkAAABaAZ6nakX/ASZiVv8NUKGWeM0u7+CpYlptrzgoeCNe10L0AJM2lHV6od1px7+5iYXR\n",
              "o3Y+nNjnB3FvJGIDvwWfTxCfdie2NpmkclJI1Z4wni084jgwL0xYADFhAAABZkGarEmoQWyZTAhP\n",
              "//3xABpGLdAA2kaOYYULftJlU87u2Vu29kgJjhu2Gx0EhiYx81FpoG9iPhJhrQwF9jiEjbYIi+RZ\n",
              "LgSt39h5G7OEbqlREuWE17cTV48OBjTTQycXvd17OQwo0BZIHn27ojKcHAdCY9thcc7f0q7Cgxo8\n",
              "gEtp+dt7VrRSaVup0Yd14acC+KbjvJXqeSCFfIxylPIdackXCz+coeZ6uxiLVIQIdKrXGXHJJFoR\n",
              "CXzjGl/UtYKPJUmTY30iTfLdnrNRXZP+EjLUN0fYlgTvj6Ky5TvemPWOY0rEr0ZjkyJP4epIMjLL\n",
              "DHFWK39IqDnxwPf4PdFb/b7cVLsjBB8qV2ryLifsk/tYnkWVR1okLgN4nndEnYlOUmZQI7NuYb1u\n",
              "XeiNoitUCZrUbpBOQ//J6gQKTaSWlp8DWZl+Ht3atBETYSegMeEwRgrgJ8kxjB10kMuY9+cqqt4v\n",
              "p4LxbWwAAABjQZ7KRRUsbwHE8JAATRvxNuCUqkho6KkiU09KRKlV35TNLTkvhHcZcVWwSvyc9IIH\n",
              "UGrs4i2436zg/Q3b0xWVTpn2/FAuOB8/pO0qyGqu72N1Ff/U455Tx2B4DimObuk/AGpBAAAATAGe\n",
              "6XRF/wI97mgATr9n3A0r5kzdEU+VDx0jrVqXF2CiyTe1dukTU5rQlYXHmtMmbPcMAUrdgKJxOSZC\n",
              "ap73p93PbU7D91WPq7wApoEAAABIAZ7rakX/AihDbIWAD+SQ940MFrHmQWXJyjFSL/aibFqh8mZn\n",
              "nh9ja1Io7FT4iuc6+4ZU1VeoCLb6MxfO1RKF94pUBtcLMAETAAABZkGa8EmoQWyZTAhP//3xABpf\n",
              "/7Ab8AHFMGGOQ5e0S3iX0zM8lUyWfjxE8DYUdOkK8TdB37VAUUpfU7IJwLIDgwuLHlkBk2PcGGQZ\n",
              "ps8o70GcYAwY0y+wODOLQyZJvDaorGhKaw0JNikHYDQ74kLThwB3bDgHMB9YR0Wr1MSgp6VjdmeL\n",
              "Cupkt/XZmnN9KVDQSlau5tL/H+ig6QlQw1t74oxkhDPvO0ArQz4lc0r8/h4gCA4oRgQEXGhC7adq\n",
              "nI66s5TMKUJN2Lps39K2ZEXIGwtbR5Bvxh7HHD6VEulMZplbdCIgK3PObJau5v3zousCuS2cNNkF\n",
              "5FGy8vgn5HFJByAUdu9uBC9Z7Ly7FX5PogdgcHmgJn2egYXiNYb83shzwNOkcd6aXuvahkKiK0E/\n",
              "1lVCf9jOebjo0X4YEUjKtn+bG8hc6W3wo86HjgBptLrAX3KtQOSDT7N3jDsEEBFiWafd3H2t8k8A\n",
              "AABnQZ8ORRUsbwHEy5AAmd9RbK8xQ5F0cu1Qi5urz/GrsY5c1+DamjxStJw5U8tmQBX/pe77+eJv\n",
              "GqkNOM75UCnYUINlzwQWzlitvM2h20er4pzfNA9ISUxFNaWSj29SftcCxc5gPwA44AAAAEoBny10\n",
              "Rf8BJbhbrVvgAuTIeK0SWZ2BrcK3hvXxUMjOuhrNUFsbyK3v3E/kZw8UTFf7ZaLhm+iRajrRRewm\n",
              "YHKw2kOqzPr3lqAQ8AAAAD8Bny9qRf8BGgYODRYARfZoIVP6jmq8R4TVQICv5mli2Q86VVhrCmbB\n",
              "31+xY+z3IrQPZoQGSi9mdL+kdYFJB18AAAGCQZs0SahBbJlMCE///fEADXvSsfOACN9ayYccLT6Q\n",
              "e1maxJxtv0A5gmj8fvDl5pPPIeZpkdtz5f8d3SVYntL3u1c2FW6ja4EtSoXWOZjFCeEcGc8XfkBX\n",
              "ryxx3qMjARunSbDxZl0Ut6T36wdhjXlFIV5fZ9Us++4Shbgv1Ux6ixopUdthqnppxolx9OOlOtxy\n",
              "R+taFO+KM7tpzg3bbm9ln45+Im3CTc6RKNvKCQpI6kl6FcxL1PB8S6siu3wiInYjLZMU3mq+S/5/\n",
              "cJrHLLN8kujf2wLrmPtlpGQlwA8XOKqV/f0F8XUATVWruJl5rFJhcNNm7GAVMO+Qu4ALO/sbxMGz\n",
              "zOHghZaftKxnL1s0oFuOIHTD0xI3ndx0Zph63foWPiqTsOByzQGTCjL4SxQzgBffEBMQva0N+27j\n",
              "O0MpKrFQ7eofMYwiO0akgz9GZZqA3xOpAT3ieZHKrwDDh5bMxA3C+K4Vt078Bvr1UuqjJtSZpmrn\n",
              "roT6kdh0X+pLR0sWuBAAAABcQZ9SRRUsbwDnbmtbAXsHfMlR6+sS9ezcY9sF4UQ2uQKUddYggNR+\n",
              "stqUw51v9pYDkpgrvhzo/58LVlBHJVmljwAAjTtI/6hsYB3omvDIfyroFaEFcBTuYLAAoIAAAAA7\n",
              "AZ9xdEX/ARyA7YMJiBtblbbSoAPmwPkgQjyzuvhBWtWbQURTgYT7h72NQ9gu5VDTdtW5eSHuPQm4\n",
              "AQ8AAAA2AZ9zakX/ASZiVrPnRIvgSj8mZs8t5y6/YlyqM/+GgBrn2Nqtsz/jNLAAGdjDIgvL871h\n",
              "gA1JAAAB1EGbeEmoQWyZTAhP//3xABrlKfAC3jkz0r8VO9ERZyg06XcgvonyEfPPFMMrR7zm6R6H\n",
              "FEbNKOROVonbEaCAlhDOqwPvkc6eAHK9KL87gB7glEOQ/VpxGrrTgfP62LIzWZl41qOrWJS8YCYE\n",
              "cR0zPmK/uwhdqu2KVopWbPtPNMHvd/be6cbm2qFx5PL2NIopSOwFaf0Py6Or28FTHZekE2DpEoIP\n",
              "kFh51xnE0wIrnH4Is+V7dbjp5sClpnf/4DE5n5eR7w/IsYbPulobZ1b6SHQ5aOHSv8wB3mV8m7mL\n",
              "/C0t6jjHT0JFTw4qKQ4MTsIXr5gW1M0ElWd61jSrnLi+draXky3CKlMoG9cqGgB0ROCG/LB3k0Gs\n",
              "sPpSu0g08YpNuiIaoIs0xE/08PO4pINdsMf6Mo2lSlLe/myPfST/rutQlS+l3R3cq8waNHBdwS/f\n",
              "wOrZK4/UIpc7koQlSAYDarcUJMSRq8TyVyhEosdXDWhWHKoU/HI4hOECFLB3ONSm9YPsq/FWo/nJ\n",
              "D6iCubULKIsKP/U8DsOtyG1rPk3khqwt2FjfTGnbfof42TRDueYGsG2AHgO5Qd1AuriOItDLqqUW\n",
              "GBz8MUbWWmuG08gQf1JSGBeSsQAAAGxBn5ZFFSxvAc5z+JpMLUVKAAfH5j1NVVi09AV6HXJkZCAm\n",
              "TOXtNjjGabd2kHQiG3o9j5L2EaOqRaOC7FtOI0f4HjxKrba6+sq6WCSfrq2gApPgLb/o6ljnPVSH\n",
              "/1CposbGpoH+K07X8byzAd0AAABSAZ+1dEX/ASRw1aJPSggBJlBKqzkgfXF6ySpRmOJe1tLxPW+B\n",
              "N15ssAFpBguzGi767Sqt2w71+P0K4kVJXWLz3bK+fhoq7YSOZkm4f+NJe4ArYAAAAF0Bn7dqRf8C\n",
              "S+hGxn8FZXKlrhYAy8n5UAFpXSHPEE4nU6e9PLEEY3iVx1ViKNUzd3pmPdYziEQlul655GQ3iiw8\n",
              "tKIjfAkR/ilB6MvZYYKsANyFHnyt4Yg2x90AKKEAAAF6QZu8SahBbJlMCE///fEAGwH3acQEkW3b\n",
              "jSCdj6DQBWvja+08MmLZAuyPx45lMGOqN/j/zHsJ9w1tKNpaQ55HhP6+k0bbPXXTGcMHb2943BL4\n",
              "FPW8dTaDNBmL2NL6KTAmjcDr7uYUvcNDZ6K7DiA8k7XERg4PeLQsoxHY1eYr9355scB9jZkJ+yUX\n",
              "f6QbKrj+15SGVsvVoW2eHTBLOpQAi16w1L1NUkkFZhsRL0HZbBiPDm9MDCs60rdaVlq2iz+pZ/AU\n",
              "XnmjW6eTaiUt/QwiLOH4Iakm3z3PT8i6atzpa7l4IGqaJyYsm6jNITnPk20wjKWxRaS2uGjmKzvO\n",
              "X+DYuH32Sn4SkXxj8VDmtjHGASnwGiqi+F9stmoqmdjEExeH7u6ew1mV3s21QJFOfZVpAMGGSNw+\n",
              "6Qc/QN6+sz+y921EStFG4Laz0k63JHpNprCLwEaopev4/qjI/lUeBkVdcnD0NMJS9izyrUij4zwD\n",
              "XlkLpO9hIRUZKqSAAAAAb0Gf2kUVLG8BzJEVIopydLZBcZkj3dExQBaZWo0Go8NAg7+SxnHM3CXf\n",
              "AAbsSxlzKFlhHBie+SpfvPki70jL+6JtLJ1H7tVG79UdTgWsPDs0ZMA9d5MepjI9SfE+s4C7vtBv\n",
              "4ZEk/mmhNSrB/AA6oAAAADwBn/l0Rf8CSdZwvAATnop2NJ/GwG9d9M0HaA9lAdUtmVawIsj9gtO5\n",
              "Ukyce/Og4IZAADBR15AEFdigEHEAAAA9AZ/7akX/Aj164AE4n4uvax52yewsuMobNN7JqF2fwa7U\n",
              "gWI5EL9DWgc6XqyH9JxfnL4dk8nSnJVAOat5YAAAAktBm+BJqEFsmUwIT//98QAbAfdxyt0ADafF\n",
              "p58TGQjwmt/PFSaqNu7Tck+SUaPAwnh3tp1/RlQ7kABmEOIgpwaaeZIfkygvNoJRXvbw1/+gY+0j\n",
              "VQJ0Q/m7oa7ypJVtx6wjihggWyTwPM5L4DnyogBAcR9WlAwQ0LxS30p2ZIqAypkLDWeQ447wezsM\n",
              "Oe1+P/ar+z3GLcIeSEpoFBiDN2yZ1FTxQX5hbv/m2fFxLKHz9SzDKzkP5qHp7f98kJilcABLeI0V\n",
              "OUWJfA6AeC/x26lYXMoBnmTiMfegAmfdfpKG/8foYYZ4Oy4PH72RGuFG2TT09zCSvan03ZP7kB3G\n",
              "ICfTMgFiRo3y6KrN1yqox7MGY3v0ThZBUimznA2sfoaC1AUe0WDhJ1fOyIxpclfiu90jVNeSy3oc\n",
              "Ad7/ThYJpqElKIxNI3axVKDNLM2dAs8DkQz0BetPYYC6T7IfnhGMu2GcoKqt9n8FyhphRNBydZ0d\n",
              "ZAZ0bDJKFwGsZgtryNqXVIfBihWm8ZzQTgqxLOcen8FSZySY/kcV60pITpl8QNpb252DupSnTkBu\n",
              "jUMdLJg3eZCBI6sdU/Mp9703t9EZ6KPaDNqW/apQ73cQP4YKOWcOzaU9NKWYoLUo8iJr2nYthQho\n",
              "9zuUtGNOD/AEJDgEToBUnYdMg4BNVRHPxkX2hegjjz7lYY9Mgvvh4QtbrIBQfU6zQYO9V3xqPNxw\n",
              "wBrLjS8FtUt3LMXmEHiX/mKhoSC7dDmbx6SbX1F9CixRpDx1v0P6Oky45Vn7TThBJwAAAItBnh5F\n",
              "FSxvAcv2pU9Cl+AAW0gaxs/I88R8VIVPsI+j4obX+2U/BItbock9IVkdYmIhN27bh+wq8Vpj3jNr\n",
              "9F8dyXEuCy0NVyzeXpiQ6DB13ncC/ywf7seCxBhrGGTMMMtpuFgKVEQxzWoAREeENDLHeUWRLQ46\n",
              "mPmj8zznkpK/4aJcHRcgsSC0gDPhAAAATQGePXRF/wEeKhPsqBVzt0BbcvX5wzY8EUCBpi7OunIu\n",
              "C1iwiXP+mAvZBSQJCzxuXOH1bw8wfp0wEM5OBJ0Vwa0BQMyl7nacSYzEQAGDAAAASQGeP2pF/wJL\n",
              "6BFs9OO8l1BACTqvsjyS6fWItNZpQtMgODKKzMz+svZPT92cHd8T3POXzb04cztbKXvZzeyKF86R\n",
              "i7g8v+AAl4EAAAGsQZokSahBbJlMCE///fEAGwH4OeId9xANsU1+3PvTHImABxQrhPULR7AoHtRU\n",
              "PVSkXgCezFTTZFrz8Lt1YRkMGZmHH28ThoabNRh/HbN+lBhuI8XbcjubwT7tZrBLQHSLMBf9sbig\n",
              "pruidDyZSTUa//cERsJhiH0a2eKjJkaLUc47Fil/WOJRBRxcf7WIz/ql+lgZo/b+/ZZSvnvsgqNq\n",
              "EYGBtkojsofAbeK/DQnAsdwJZCrvLtG6CSHgK1u+Tg0KPO8I084LVQzWY11//DVQRabR+7EkYUOB\n",
              "pTRp38uplc7m+/tuyD3IA6R3EydluVP/sXITnslEXvNSTtenJ0MeiVaq4yepHLAGNsR3CMVdHlvB\n",
              "eA5umk7Og1UdNelQpaNevPWO+qIhNtY5zkv0EZmRyzxled+Ply6FXVcEz9WyMF91A4eYIi9O/uWE\n",
              "szkf9lRF7B/lJe8Oe3A2FSlPAr9DwrLDc8mkwKJp2SoX6+BD0tTmLakpNkXECTFuAjSX5tyieuiG\n",
              "DCqjRziBp9TWiiJmUtchzPUPcP2kgO9bpBESml4Qr7aiYt8XD7G8ZJwAAAB8QZ5CRRUsbwHA9u4Z\n",
              "hOBN+6IxbAAliSxa7hh+rUemeK47t44jS9PLxT0tVGUTbFS50/OpzqPZUJPatvsDI8kXKDWoDoP3\n",
              "/YeInpq0vzteC9SjGRraRF1KyUE9wbDJaqMP5yOuqHrOKU+oWkJDeqBSgq1yo8IvsqA+5fgLSQAA\n",
              "AGcBnmF0Rf8CTD459ZDc+7fr0QAs6Dgg2CY5GLYgeXnXnBEZcHvVIFdvipwUcFDOr/f9aqGg8AP8\n",
              "QmGJgLyYAajGdGLziEe3SKp0qlCu+Huf7tG7AwqIkiFXFu5RL7McYCMKS8mcgDuhAAAANwGeY2pF\n",
              "/wEln2S1MpwqpbKxMwRe6Xo8CK3Iegt5ySEqACTGMvSV2RLKRg6q6YFtrRFsvl7wA3oAAAEiQZpo\n",
              "SahBbJlMCE///fEAGt1Nfvs8ABrJ31KGLxKozRObu7OFnqpjyo0cxwglOTBgsTRx52pz+WMe3eJl\n",
              "w4LLsFqeKuKwWJuBkyliEVRJ/LD1T7sndjn4PevuQqAV1tTqGWP7nkh6qyDUzvB3wL/HgQXP5mPq\n",
              "hRU/oxwNRxM8q0FFyzFF5ZJZlEdw7UfUd9B/usTd0/hUAHJ0W7iai1iD36sG9qXtbrTLJyxkW3tX\n",
              "Zz5RwsTAOvcmnxBedYYP198Ja+QbVo08jWsYV4lPU0fO8qD10fFTJQMZwzLLM7bVDkjXDiTnZdT7\n",
              "AVzUHSbysVp2VMQ8xZgkyBD1+YVwnFnvejAiSl/zFbktjpADHZ3JHtC/8yMHTySv7+F1BPDqcNnf\n",
              "OJgAAABxQZ6GRRUsbwHMkRVDFxXvTiASAaj4gBZyABTz1VMGKy9d/NHcCEN/PS3neUmPH/e1yif5\n",
              "zoM5TgAiRDi3d4XEtLzrMZZcRgqayV5fz/6tVnch90rZe/9UrJ1mlKy4bdthk3PxvA4V940j/RkT\n",
              "ow6gYsEAAAAyAZ6ldEX/AjM5nfIgBIC7sdpgSMoNYR8xD1jzyxeHQcIE5W9XkmcyA0x+CiIABDPY\n",
              "b8AAAABEAZ6nakX/ASYanZ/qAEAH5tAAmsA1A3HRcLMqNMlfqnqtwjyYBhcWA7guaj2ZMT/478Vd\n",
              "XRlZVx117niJ+VNCAbZ9BlUAAAD3QZqsSahBbJlMCE///fEAGwH4g7QANqOTPSvCFbLdA+J+udlG\n",
              "h921EpGeJp1+TGV/aiextpqNfaiV1ZSRNJrVAXXSMXHRWZf+Hp1QOOGYeq1/4/osEETqv0QqcETD\n",
              "4FuGx6McyB9wC+1+vm1KbOp//RwN8Wps6GAA5YyjiJdaOfMmXpHVT6rmGTW2hi/HiVe3c1eEjvhE\n",
              "tHy3JmwOBOEMf7uwi95AmskmvaaH/UYoEETQtiXvFY05l5rUsaazt0PCrsLFqKTEmvZohSWynktx\n",
              "X2TBEf7+IbRLcRLmX3rNBKTj1zefEW9o8/GcjaIHlLoWjzGNVBFHHAAAAHVBnspFFSxvAcy6COjM\n",
              "uZIAI0cAaUWftLxEOUEQhkhTJqV3iky9P8wvHoX5HAGAV0G9ozLGMfKjYV79LqRgzCohlG9mufB4\n",
              "zYET46W5yJAhYgMOYfm4kCtknUO1VZqK7gBNm/N0xksF5zOjaY7+TXWoEWXkIuEAAABLAZ7pdEX/\n",
              "ASZFF6jTZACVbbhXyh7qDfjiCvq+aWwVghOM2WZGiQryUXDsIGdJuGcN4Vkv65qvoEitwpgd2wZa\n",
              "AwjAEN+wZhE4YAVNAAAAPQGe62pF/wCTMStaRbkABNYCm0WiT98vtlGy4d9b2cFSRgbQkO0BImV3\n",
              "g/JRnDY6IfNInu3yL0G7wf4IrYEAAAF8QZrwSahBbJlMCEf//eEAKygrTmAAbT3GUFEy1H52ZNK3\n",
              "dvTrw65c+r2+mkcH4QSulOBh3auKHc4LTpGyjwwgFOeprtHP9b+dB0FFVFzIlf1g62lNVUuICUrp\n",
              "lTMlWA/twPNB/i8VNEGJDh2IzPqqImrZHtEZNAoE5ZK36f8I/38xVESQV4iuq3Kwjx7J9S19UCqH\n",
              "f7cPPvbUYVhE1hcseZ25jrImp/wGHzhZPRGJmDRm3/6E76Al9FQsWTeuOl10RDL5F2+ta+guSOiU\n",
              "OHbak43m2EjTKNxUdNhBjzoWcfNDsRRRVD5y490hIzz7+ZQ4mhbysXm7zedxkKzyKP2dZlcN+UvM\n",
              "37Kn0Rc5TQE2iD0M6ljW4Fl2uHl3faU+ZA6/xDpVLCRfkdJFjBZJgRLJZHiJJ+iq8yVTrjnsxIyt\n",
              "oIg865vMRgvpkmNseXEgqlT9HV18PXYCi3so3b/qYEomUU4EvrOPq4+e9foivlqvpE2snd1cBneL\n",
              "BQ8kNmEAAACxQZ8ORRUsbwHK2w3nFCAC5r3xR4h1ObpkY5OjnZ0giY/8CH3K9yUoELClIcOB8SOQ\n",
              "ItvI3j7nx5204TijaPQBM3fYA0p38NxjJHlhCqeZqPFxitAYemm9eN8rxOZG/knCQ6pVtca/6KM/\n",
              "g3SgeK26VvrbnQaMduJCLz9/3ynS9heNs3l2j7shup7qucLzQSRz8YHATVdk9qwAbQVB2aBhvCJD\n",
              "wDO39tfYeZOhW9XqJA9IAAAAPwGfLXRF/wEmH5hruI0SDJ529YAW1CH7X9Kq5phKyqye7CGHxl8h\n",
              "KAbefH2umjqPRRwFpKWX2jAEyXESGl4BNwAAAFIBny9qRf8COxC0ACcYNhhPv1vNhxWD/kyuvUJo\n",
              "H1mPeeFKrUkRsDyElvD0GlHJaWOo1Afbt5Dz8sdcmAyAKlRcNs+uY3fOQdU5NWbGHcAvcCthAAAA\n",
              "4UGbNEmoQWyZTAjf+lgBSIvlSnKuvvxHHWS4ELe5qUaE0G2OST5zPcebbi5GsEoAfH+2HokSz7TN\n",
              "FIXRzoLt55H2VBYQXyNclvvjJu5308q+Tx3CDf9Gx8xgdjIZSGjO8kFsTTeJux2n1Jj+8wmfC63M\n",
              "C3vez0SW306NT2jvFqN3nrcWF1IcuZiJeFCuvixtURYP8gcQJkYOI9p+oEXkdfbiA7rWqACsidds\n",
              "6d/NrZey14HApa2wbRIyzQrZzqSt22jEaHx/tGb1WbdDXZIXAZhCGMidJ9tBQwd1ScBaDFQqYAAA\n",
              "AIRBn1JFFSxvAcy6C36ABbkpqzsnjLkeRwUXBV5EsPDevx8eEvEA93B6+CLWg8H7EgILbt81JyNp\n",
              "+mPKOcA9fkTIH/Yp6yDupMkxR7j5Fbqby7O/cFCfKz67ojfgNYun3NrpegBXxUj3NILFL1x8IVVS\n",
              "mjib04E+ig1hGd9COnCOV4QA9IAAAABEAZ9xdEX/ASW4XXxGOaaTGPqosP8LsgBL4CLGgYUFlUHl\n",
              "H2bXKRWjagOQQ1HgifoGc4nr4ZWQSICuw7yyk3chtWGVRU0AAABGAZ9zakX/AJMxSF9AASn2zu6I\n",
              "GdNW9hWL7dXgn9jRbk252xgA8/5Vsc7waipXQwCQh3pj3n7O4Diqmj/jATVrLxSVVwAFBQAAAERB\n",
              "m3VJqEFsmUwIv/pYAUswdTFQlZ+/VPdxWCOUphv1VVmYX0vBj1poqJbdr6piwvuqlwg6x1UFtfAb\n",
              "NQyZJ5SZZytDfQAAFeltb292AAAAbG12aGQAAAAAAAAAAAAAAAAAAAPoAAAH0AABAAABAAAAAAAA\n",
              "AAAAAAAAAQAAAAAAAAAAAAAAAAAAAAEAAAAAAAAAAAAAAAAAAEAAAAAAAAAAAAAAAAAAAAAAAAAA\n",
              "AAAAAAAAAAAAAAACAAAVE3RyYWsAAABcdGtoZAAAAAMAAAAAAAAAAAAAAAEAAAAAAAAH0AAAAAAA\n",
              "AAAAAAAAAAAAAAAAAQAAAAAAAAAAAAAAAAAAAAEAAAAAAAAAAAAAAAAAAEAAAAABsAAAAbAAAAAA\n",
              "ACRlZHRzAAAAHGVsc3QAAAAAAAAAAQAAB9AAAACAAAEAAAAAFIttZGlhAAAAIG1kaGQAAAAAAAAA\n",
              "AAAAAAAAADIAAABkAFXEAAAAAAAtaGRscgAAAAAAAAAAdmlkZQAAAAAAAAAAAAAAAFZpZGVvSGFu\n",
              "ZGxlcgAAABQ2bWluZgAAABR2bWhkAAAAAQAAAAAAAAAAAAAAJGRpbmYAAAAcZHJlZgAAAAAAAAAB\n",
              "AAAADHVybCAAAAABAAAT9nN0YmwAAACyc3RzZAAAAAAAAAABAAAAomF2YzEAAAAAAAAAAQAAAAAA\n",
              "AAAAAAAAAAAAAAABsAGwAEgAAABIAAAAAAAAAAEAAAAAAAAAAAAAAAAAAAAAAAAAAAAAAAAAAAAA\n",
              "AAAAAAAY//8AAAAwYXZjQwFkACD/4QAXZ2QAIKzZQbDehAAAAwAEAAAGQDxgxlgBAAZo6+PLIsAA\n",
              "AAAcdXVpZGtoQPJfJE/FujmlG88DI/MAAAAAAAAAGHN0dHMAAAAAAAAAAQAAAZAAAABAAAAAGHN0\n",
              "c3MAAAAAAAAAAgAAAAEAAAD7AAAMiGN0dHMAAAAAAAABjwAAAAEAAACAAAAAAQAAAUAAAAABAAAA\n",
              "gAAAAAEAAAAAAAAAAQAAAEAAAAABAAABQAAAAAEAAACAAAAAAQAAAAAAAAABAAAAQAAAAAEAAAFA\n",
              "AAAAAQAAAIAAAAABAAAAAAAAAAEAAABAAAAAAQAAAUAAAAABAAAAgAAAAAEAAAAAAAAAAQAAAEAA\n",
              "AAABAAABQAAAAAEAAACAAAAAAQAAAAAAAAABAAAAQAAAAAEAAAFAAAAAAQAAAIAAAAABAAAAAAAA\n",
              "AAEAAABAAAAAAQAAAUAAAAABAAAAgAAAAAEAAAAAAAAAAQAAAEAAAAABAAABQAAAAAEAAACAAAAA\n",
              "AQAAAAAAAAABAAAAQAAAAAEAAAFAAAAAAQAAAIAAAAABAAAAAAAAAAEAAABAAAAAAQAAAUAAAAAB\n",
              "AAAAgAAAAAEAAAAAAAAAAQAAAEAAAAABAAABQAAAAAEAAACAAAAAAQAAAAAAAAABAAAAQAAAAAEA\n",
              "AAFAAAAAAQAAAIAAAAABAAAAAAAAAAEAAABAAAAAAQAAAUAAAAABAAAAgAAAAAEAAAAAAAAAAQAA\n",
              "AEAAAAABAAABQAAAAAEAAACAAAAAAQAAAAAAAAABAAAAQAAAAAEAAAFAAAAAAQAAAIAAAAABAAAA\n",
              "AAAAAAEAAABAAAAAAQAAAUAAAAABAAAAgAAAAAEAAAAAAAAAAQAAAEAAAAABAAABQAAAAAEAAACA\n",
              "AAAAAQAAAAAAAAABAAAAQAAAAAEAAAFAAAAAAQAAAIAAAAABAAAAAAAAAAEAAABAAAAAAQAAAUAA\n",
              "AAABAAAAgAAAAAEAAAAAAAAAAQAAAEAAAAABAAABQAAAAAEAAACAAAAAAQAAAAAAAAABAAAAQAAA\n",
              "AAEAAAFAAAAAAQAAAIAAAAABAAAAAAAAAAEAAABAAAAAAQAAAUAAAAABAAAAgAAAAAEAAAAAAAAA\n",
              "AQAAAEAAAAABAAABQAAAAAEAAACAAAAAAQAAAAAAAAABAAAAQAAAAAEAAAFAAAAAAQAAAIAAAAAB\n",
              "AAAAAAAAAAEAAABAAAAAAQAAAUAAAAABAAAAgAAAAAEAAAAAAAAAAQAAAEAAAAABAAABQAAAAAEA\n",
              "AACAAAAAAQAAAAAAAAABAAAAQAAAAAEAAAFAAAAAAQAAAIAAAAABAAAAAAAAAAEAAABAAAAAAQAA\n",
              "AUAAAAABAAAAgAAAAAEAAAAAAAAAAQAAAEAAAAABAAABQAAAAAEAAACAAAAAAQAAAAAAAAABAAAA\n",
              "QAAAAAEAAAFAAAAAAQAAAIAAAAABAAAAAAAAAAEAAABAAAAAAQAAAUAAAAABAAAAgAAAAAEAAAAA\n",
              "AAAAAQAAAEAAAAABAAABQAAAAAEAAACAAAAAAQAAAAAAAAABAAAAQAAAAAEAAAFAAAAAAQAAAIAA\n",
              "AAABAAAAAAAAAAEAAABAAAAAAQAAAUAAAAABAAAAgAAAAAEAAAAAAAAAAQAAAEAAAAABAAABQAAA\n",
              "AAEAAACAAAAAAQAAAAAAAAABAAAAQAAAAAEAAAFAAAAAAQAAAIAAAAABAAAAAAAAAAEAAABAAAAA\n",
              "AQAAAUAAAAABAAAAgAAAAAEAAAAAAAAAAQAAAEAAAAABAAABQAAAAAEAAACAAAAAAQAAAAAAAAAB\n",
              "AAAAQAAAAAEAAAFAAAAAAQAAAIAAAAABAAAAAAAAAAEAAABAAAAAAQAAAUAAAAABAAAAgAAAAAEA\n",
              "AAAAAAAAAQAAAEAAAAABAAABQAAAAAEAAACAAAAAAQAAAAAAAAABAAAAQAAAAAEAAAFAAAAAAQAA\n",
              "AIAAAAABAAAAAAAAAAEAAABAAAAAAQAAAUAAAAABAAAAgAAAAAEAAAAAAAAAAQAAAEAAAAABAAAB\n",
              "QAAAAAEAAACAAAAAAQAAAAAAAAABAAAAQAAAAAEAAAFAAAAAAQAAAIAAAAABAAAAAAAAAAEAAABA\n",
              "AAAAAQAAAUAAAAABAAAAgAAAAAEAAAAAAAAAAQAAAEAAAAABAAABQAAAAAEAAACAAAAAAQAAAAAA\n",
              "AAABAAAAQAAAAAEAAAFAAAAAAQAAAIAAAAABAAAAAAAAAAEAAABAAAAAAQAAAUAAAAABAAAAgAAA\n",
              "AAEAAAAAAAAAAQAAAEAAAAABAAABQAAAAAEAAACAAAAAAQAAAAAAAAABAAAAQAAAAAEAAAFAAAAA\n",
              "AQAAAIAAAAABAAAAAAAAAAEAAABAAAAAAQAAAUAAAAABAAAAgAAAAAEAAAAAAAAAAQAAAEAAAAAB\n",
              "AAABQAAAAAEAAACAAAAAAQAAAAAAAAABAAAAQAAAAAEAAAFAAAAAAQAAAIAAAAABAAAAAAAAAAEA\n",
              "AABAAAAAAQAAAUAAAAABAAAAgAAAAAEAAAAAAAAAAQAAAEAAAAABAAABQAAAAAEAAACAAAAAAQAA\n",
              "AAAAAAABAAAAQAAAAAEAAAFAAAAAAQAAAIAAAAABAAAAAAAAAAEAAABAAAAAAQAAAUAAAAABAAAA\n",
              "gAAAAAEAAAAAAAAAAQAAAEAAAAABAAABQAAAAAEAAACAAAAAAQAAAAAAAAABAAAAQAAAAAEAAAFA\n",
              "AAAAAQAAAIAAAAABAAAAAAAAAAEAAABAAAAAAQAAAUAAAAABAAAAgAAAAAEAAAAAAAAAAQAAAEAA\n",
              "AAABAAABQAAAAAEAAACAAAAAAQAAAAAAAAABAAAAQAAAAAIAAACAAAAAAQAAAUAAAAABAAAAgAAA\n",
              "AAEAAAAAAAAAAQAAAEAAAAABAAABQAAAAAEAAACAAAAAAQAAAAAAAAABAAAAQAAAAAEAAAFAAAAA\n",
              "AQAAAIAAAAABAAAAAAAAAAEAAABAAAAAAQAAAUAAAAABAAAAgAAAAAEAAAAAAAAAAQAAAEAAAAAB\n",
              "AAABQAAAAAEAAACAAAAAAQAAAAAAAAABAAAAQAAAAAEAAAFAAAAAAQAAAIAAAAABAAAAAAAAAAEA\n",
              "AABAAAAAAQAAAUAAAAABAAAAgAAAAAEAAAAAAAAAAQAAAEAAAAABAAABQAAAAAEAAACAAAAAAQAA\n",
              "AAAAAAABAAAAQAAAAAEAAAFAAAAAAQAAAIAAAAABAAAAAAAAAAEAAABAAAAAAQAAAUAAAAABAAAA\n",
              "gAAAAAEAAAAAAAAAAQAAAEAAAAABAAABQAAAAAEAAACAAAAAAQAAAAAAAAABAAAAQAAAAAEAAAFA\n",
              "AAAAAQAAAIAAAAABAAAAAAAAAAEAAABAAAAAAQAAAUAAAAABAAAAgAAAAAEAAAAAAAAAAQAAAEAA\n",
              "AAABAAABQAAAAAEAAACAAAAAAQAAAAAAAAABAAAAQAAAAAEAAAFAAAAAAQAAAIAAAAABAAAAAAAA\n",
              "AAEAAABAAAAAAQAAAUAAAAABAAAAgAAAAAEAAAAAAAAAAQAAAEAAAAABAAABQAAAAAEAAACAAAAA\n",
              "AQAAAAAAAAABAAAAQAAAAAEAAAFAAAAAAQAAAIAAAAABAAAAAAAAAAEAAABAAAAAAQAAAUAAAAAB\n",
              "AAAAgAAAAAEAAAAAAAAAAQAAAEAAAAABAAABQAAAAAEAAACAAAAAAQAAAAAAAAABAAAAQAAAAAEA\n",
              "AAFAAAAAAQAAAIAAAAABAAAAAAAAAAEAAABAAAAAAQAAAUAAAAABAAAAgAAAAAEAAAAAAAAAAQAA\n",
              "AEAAAAABAAABQAAAAAEAAACAAAAAAQAAAAAAAAABAAAAQAAAAAEAAAFAAAAAAQAAAIAAAAABAAAA\n",
              "AAAAAAEAAABAAAAAAQAAAUAAAAABAAAAgAAAAAEAAAAAAAAAAQAAAEAAAAABAAABQAAAAAEAAACA\n",
              "AAAAAQAAAAAAAAABAAAAQAAAAAEAAAFAAAAAAQAAAIAAAAABAAAAAAAAAAEAAABAAAAAAQAAAUAA\n",
              "AAABAAAAgAAAAAEAAAAAAAAAAQAAAEAAAAABAAABQAAAAAEAAACAAAAAAQAAAAAAAAABAAAAQAAA\n",
              "AAEAAAFAAAAAAQAAAIAAAAABAAAAAAAAAAEAAABAAAAAAQAAAUAAAAABAAAAgAAAAAEAAAAAAAAA\n",
              "AQAAAEAAAAABAAABQAAAAAEAAACAAAAAAQAAAAAAAAABAAAAQAAAAAEAAAFAAAAAAQAAAIAAAAAB\n",
              "AAAAAAAAAAEAAABAAAAAAQAAAUAAAAABAAAAgAAAAAEAAAAAAAAAAQAAAEAAAAABAAABQAAAAAEA\n",
              "AACAAAAAAQAAAAAAAAABAAAAQAAAAAEAAAFAAAAAAQAAAIAAAAABAAAAAAAAAAEAAABAAAAAAQAA\n",
              "AUAAAAABAAAAgAAAAAEAAAAAAAAAAQAAAEAAAAABAAAAgAAAABxzdHNjAAAAAAAAAAEAAAABAAAB\n",
              "kAAAAAEAAAZUc3RzegAAAAAAAAAAAAABkAAAF98AAAILAAAAhgAAAHsAAABYAAABggAAAIUAAAA0\n",
              "AAAAQAAAAWgAAAB1AAAAcgAAAGwAAAIRAAAAgwAAAFgAAABAAAAB3wAAAJEAAABBAAAAUgAAAZ8A\n",
              "AABXAAAAgAAAAGYAAAGLAAAAawAAAEIAAAA2AAABaQAAAE8AAABUAAAAZwAAAWAAAABRAAAAYgAA\n",
              "AGMAAAHpAAAAcwAAAEIAAABAAAABPAAAAGQAAABxAAAAdgAAAXYAAABtAAAAXAAAAFkAAAF/AAAA\n",
              "aQAAAD8AAABcAAABUQAAAGgAAABvAAAAbAAAAZkAAACEAAAAUgAAAEYAAAIGAAAAfgAAAFsAAABk\n",
              "AAAB3AAAAG8AAABqAAAAZQAAAeYAAAB0AAAATAAAAEUAAAFzAAAAbgAAAF8AAABgAAABwwAAAHAA\n",
              "AAB4AAAAYAAAAfgAAACFAAAAPwAAAJIAAAFSAAAAdwAAAHYAAABwAAABoQAAAGwAAABSAAAARAAA\n",
              "AYcAAAB2AAAATQAAAGAAAAFuAAAAbwAAAH8AAABeAAABkAAAAIIAAABFAAAANAAAAeoAAAB7AAAA\n",
              "TgAAAFwAAAGiAAAAmQAAAFgAAABTAAABygAAAKMAAABRAAAAXQAAAYQAAACCAAAAVwAAAGUAAAFh\n",
              "AAAAcgAAAGIAAABHAAABVwAAAHEAAAA9AAAAUAAAAb8AAACMAAAAZgAAAGAAAAHmAAAAkwAAAEsA\n",
              "AABUAAABfgAAAIAAAAA+AAAAWgAAAX0AAABgAAAARAAAADcAAAFSAAAAawAAAEIAAAA+AAAB9QAA\n",
              "AGkAAABUAAAAXQAAAXYAAAB5AAAASwAAAE8AAAF4AAAAmQAAAE0AAABBAAABSQAAAHQAAABXAAAA\n",
              "WwAAAXoAAAB/AAAASgAAAEwAAAErAAAAWwAAAEwAAABXAAABXQAAAFoAAABHAAAAXAAAAYIAAABq\n",
              "AAAASgAAADkAAAFAAAAAUwAAAFsAAABXAAABJQAAAFsAAABPAAAASwAAAPgAAABhAAAALQAAAEoA\n",
              "AAFwAAAAgwAAAFQAAABoAAABTgAAAGMAAABSAAAARwAAAXsAAABSAAAAPgAAAE0AAAHUAAAAXQAA\n",
              "AGUAAABkAAABrAAAAHsAAABIAAAANAAAAYIAAABpAAAAOwAAAF8AAAE7AAAAWgAAAE0AAABCAAAB\n",
              "VgAAAH4AAAA/AAAARQAAATYAAABoAAAARQAAAFgAAAINAAAAfgAAAGYAAABfAAABtAAAAH4AAABB\n",
              "AAAAUgAAAW0AAABbAAAASQAAAEgAAAFXAAAAZQAAAE4AAABHAAABOQAAAGgAAAA6AAAASAAAADYA\n",
              "ABkWAAABSQAAAEcAAABDAAAATwAAAXkAAABUAAAASwAAAEoAAAERAAAAUAAAAEwAAABLAAABygAA\n",
              "AFcAAAA+AAAAPwAAATgAAABcAAAASQAAAEMAAAEUAAAASQAAAEoAAAA8AAABRgAAAFQAAABBAAAA\n",
              "NgAAAeQAAABxAAAASgAAAEMAAAGuAAAAZwAAAFMAAABOAAABWQAAAGYAAABKAAAASgAAATsAAABo\n",
              "AAAAOQAAAEwAAAHMAAAAZAAAAEMAAABCAAABkAAAAF0AAABQAAAAVAAAAbQAAAB7AAAAOAAAAFgA\n",
              "AAFRAAAAdAAAAEkAAAA5AAACGQAAAHEAAABNAAAAWgAAAXAAAABqAAAAUAAAAEUAAAHmAAAAdwAA\n",
              "ADwAAABOAAABQgAAAFoAAABIAAAAVgAAAWEAAABmAAAATwAAAEYAAAFgAAAAWAAAAEMAAABFAAAB\n",
              "WAAAAGYAAABLAAAAUwAAAbEAAAB3AAAATgAAADUAAAFdAAAAYAAAAEQAAABCAAAB8gAAAGsAAABU\n",
              "AAAATgAAAgQAAACRAAAAQgAAAF4AAAFqAAAAZwAAAFAAAABMAAABagAAAGsAAABOAAAAQwAAAYYA\n",
              "AABgAAAAPwAAADoAAAHYAAAAcAAAAFYAAABhAAABfgAAAHMAAABAAAAAQQAAAk8AAACPAAAAUQAA\n",
              "AE0AAAGwAAAAgAAAAGsAAAA7AAABJgAAAHUAAAA2AAAASAAAAPsAAAB5AAAATwAAAEEAAAGAAAAA\n",
              "tQAAAEMAAABWAAAA5QAAAIgAAABIAAAASgAAAEgAAAAUc3RjbwAAAAAAAAABAAAALAAAAGJ1ZHRh\n",
              "AAAAWm1ldGEAAAAAAAAAIWhkbHIAAAAAAAAAAG1kaXJhcHBsAAAAAAAAAAAAAAAALWlsc3QAAAAl\n",
              "qXRvbwAAAB1kYXRhAAAAAQAAAABMYXZmNTcuODMuMTAw\n",
              "\">\n",
              "  Your browser does not support the video tag.\n",
              "</video>"
            ],
            "text/plain": [
              "<IPython.core.display.HTML object>"
            ]
          },
          "metadata": {
            "tags": []
          },
          "execution_count": 34
        }
      ]
    },
    {
      "cell_type": "markdown",
      "metadata": {
        "id": "XSSqABp54K5K",
        "colab_type": "text"
      },
      "source": [
        "## Animating NUTS\n",
        "Now rerun the animation providing the NUTS sampling method as the step argument."
      ]
    },
    {
      "cell_type": "code",
      "metadata": {
        "id": "EZu9bXdm4K5L",
        "colab_type": "code",
        "colab": {}
      },
      "source": [
        ""
      ],
      "execution_count": 0,
      "outputs": []
    }
  ]
}